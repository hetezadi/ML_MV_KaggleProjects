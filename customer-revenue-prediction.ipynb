{
 "cells": [
  {
   "cell_type": "code",
   "execution_count": 1,
   "id": "02fe677f",
   "metadata": {
    "execution": {
     "iopub.execute_input": "2022-03-15T10:45:58.695098Z",
     "iopub.status.busy": "2022-03-15T10:45:58.693242Z",
     "iopub.status.idle": "2022-03-15T10:46:06.547990Z",
     "shell.execute_reply": "2022-03-15T10:46:06.547123Z",
     "shell.execute_reply.started": "2022-03-15T10:39:14.978151Z"
    },
    "executionInfo": {
     "elapsed": 3313,
     "status": "ok",
     "timestamp": 1622351984375,
     "user": {
      "displayName": "siddharth patra",
      "photoUrl": "https://lh3.googleusercontent.com/a-/AOh14Gjnwsdj5DKa95WHRl25dlQz9L1Bbc10vap4xTNIiA=s64",
      "userId": "01966341811263607507"
     },
     "user_tz": -330
    },
    "id": "_2Xi38OcZ5hn",
    "papermill": {
     "duration": 7.889349,
     "end_time": "2022-03-15T10:46:06.548170",
     "exception": false,
     "start_time": "2022-03-15T10:45:58.658821",
     "status": "completed"
    },
    "tags": []
   },
   "outputs": [],
   "source": [
    "# Importing necessary libraries\n",
    "\n",
    "import numpy as np\n",
    "import pandas as pd\n",
    "import seaborn as sns\n",
    "import matplotlib.pyplot as plt\n",
    "%matplotlib inline \n",
    "\n",
    "from tensorflow.keras.models import Sequential\n",
    "from tensorflow.keras.layers import Dense"
   ]
  },
  {
   "cell_type": "code",
   "execution_count": 2,
   "id": "dda39b53",
   "metadata": {
    "execution": {
     "iopub.execute_input": "2022-03-15T10:46:06.614306Z",
     "iopub.status.busy": "2022-03-15T10:46:06.611943Z",
     "iopub.status.idle": "2022-03-15T10:46:06.695337Z",
     "shell.execute_reply": "2022-03-15T10:46:06.695880Z",
     "shell.execute_reply.started": "2022-03-15T10:39:14.989935Z"
    },
    "executionInfo": {
     "elapsed": 40,
     "status": "ok",
     "timestamp": 1622351984378,
     "user": {
      "displayName": "siddharth patra",
      "photoUrl": "https://lh3.googleusercontent.com/a-/AOh14Gjnwsdj5DKa95WHRl25dlQz9L1Bbc10vap4xTNIiA=s64",
      "userId": "01966341811263607507"
     },
     "user_tz": -330
    },
    "id": "JEyEP9nXZ-_d",
    "outputId": "a141eb3c-8571-493b-cf9f-cc26ff4f2fd0",
    "papermill": {
     "duration": 0.117108,
     "end_time": "2022-03-15T10:46:06.696064",
     "exception": false,
     "start_time": "2022-03-15T10:46:06.578956",
     "status": "completed"
    },
    "tags": []
   },
   "outputs": [
    {
     "data": {
      "text/html": [
       "<div>\n",
       "<style scoped>\n",
       "    .dataframe tbody tr th:only-of-type {\n",
       "        vertical-align: middle;\n",
       "    }\n",
       "\n",
       "    .dataframe tbody tr th {\n",
       "        vertical-align: top;\n",
       "    }\n",
       "\n",
       "    .dataframe thead th {\n",
       "        text-align: right;\n",
       "    }\n",
       "</style>\n",
       "<table border=\"1\" class=\"dataframe\">\n",
       "  <thead>\n",
       "    <tr style=\"text-align: right;\">\n",
       "      <th></th>\n",
       "      <th>Administrative</th>\n",
       "      <th>Administrative_Duration</th>\n",
       "      <th>Informational</th>\n",
       "      <th>Informational_Duration</th>\n",
       "      <th>ProductRelated</th>\n",
       "      <th>ProductRelated_Duration</th>\n",
       "      <th>BounceRates</th>\n",
       "      <th>ExitRates</th>\n",
       "      <th>PageValues</th>\n",
       "      <th>SpecialDay</th>\n",
       "      <th>Month</th>\n",
       "      <th>OperatingSystems</th>\n",
       "      <th>Browser</th>\n",
       "      <th>Region</th>\n",
       "      <th>TrafficType</th>\n",
       "      <th>VisitorType</th>\n",
       "      <th>Weekend</th>\n",
       "      <th>Revenue</th>\n",
       "    </tr>\n",
       "  </thead>\n",
       "  <tbody>\n",
       "    <tr>\n",
       "      <th>0</th>\n",
       "      <td>0</td>\n",
       "      <td>0.0</td>\n",
       "      <td>0</td>\n",
       "      <td>0.0</td>\n",
       "      <td>1</td>\n",
       "      <td>0.000000</td>\n",
       "      <td>0.20</td>\n",
       "      <td>0.20</td>\n",
       "      <td>0.0</td>\n",
       "      <td>0.0</td>\n",
       "      <td>Feb</td>\n",
       "      <td>1</td>\n",
       "      <td>1</td>\n",
       "      <td>1</td>\n",
       "      <td>1</td>\n",
       "      <td>Returning_Visitor</td>\n",
       "      <td>False</td>\n",
       "      <td>False</td>\n",
       "    </tr>\n",
       "    <tr>\n",
       "      <th>1</th>\n",
       "      <td>0</td>\n",
       "      <td>0.0</td>\n",
       "      <td>0</td>\n",
       "      <td>0.0</td>\n",
       "      <td>2</td>\n",
       "      <td>64.000000</td>\n",
       "      <td>0.00</td>\n",
       "      <td>0.10</td>\n",
       "      <td>0.0</td>\n",
       "      <td>0.0</td>\n",
       "      <td>Feb</td>\n",
       "      <td>2</td>\n",
       "      <td>2</td>\n",
       "      <td>1</td>\n",
       "      <td>2</td>\n",
       "      <td>Returning_Visitor</td>\n",
       "      <td>False</td>\n",
       "      <td>False</td>\n",
       "    </tr>\n",
       "    <tr>\n",
       "      <th>2</th>\n",
       "      <td>0</td>\n",
       "      <td>0.0</td>\n",
       "      <td>0</td>\n",
       "      <td>0.0</td>\n",
       "      <td>1</td>\n",
       "      <td>0.000000</td>\n",
       "      <td>0.20</td>\n",
       "      <td>0.20</td>\n",
       "      <td>0.0</td>\n",
       "      <td>0.0</td>\n",
       "      <td>Feb</td>\n",
       "      <td>4</td>\n",
       "      <td>1</td>\n",
       "      <td>9</td>\n",
       "      <td>3</td>\n",
       "      <td>Returning_Visitor</td>\n",
       "      <td>False</td>\n",
       "      <td>False</td>\n",
       "    </tr>\n",
       "    <tr>\n",
       "      <th>3</th>\n",
       "      <td>0</td>\n",
       "      <td>0.0</td>\n",
       "      <td>0</td>\n",
       "      <td>0.0</td>\n",
       "      <td>2</td>\n",
       "      <td>2.666667</td>\n",
       "      <td>0.05</td>\n",
       "      <td>0.14</td>\n",
       "      <td>0.0</td>\n",
       "      <td>0.0</td>\n",
       "      <td>Feb</td>\n",
       "      <td>3</td>\n",
       "      <td>2</td>\n",
       "      <td>2</td>\n",
       "      <td>4</td>\n",
       "      <td>Returning_Visitor</td>\n",
       "      <td>False</td>\n",
       "      <td>False</td>\n",
       "    </tr>\n",
       "    <tr>\n",
       "      <th>4</th>\n",
       "      <td>0</td>\n",
       "      <td>0.0</td>\n",
       "      <td>0</td>\n",
       "      <td>0.0</td>\n",
       "      <td>10</td>\n",
       "      <td>627.500000</td>\n",
       "      <td>0.02</td>\n",
       "      <td>0.05</td>\n",
       "      <td>0.0</td>\n",
       "      <td>0.0</td>\n",
       "      <td>Feb</td>\n",
       "      <td>3</td>\n",
       "      <td>3</td>\n",
       "      <td>1</td>\n",
       "      <td>4</td>\n",
       "      <td>Returning_Visitor</td>\n",
       "      <td>True</td>\n",
       "      <td>False</td>\n",
       "    </tr>\n",
       "  </tbody>\n",
       "</table>\n",
       "</div>"
      ],
      "text/plain": [
       "   Administrative  Administrative_Duration  Informational  \\\n",
       "0               0                      0.0              0   \n",
       "1               0                      0.0              0   \n",
       "2               0                      0.0              0   \n",
       "3               0                      0.0              0   \n",
       "4               0                      0.0              0   \n",
       "\n",
       "   Informational_Duration  ProductRelated  ProductRelated_Duration  \\\n",
       "0                     0.0               1                 0.000000   \n",
       "1                     0.0               2                64.000000   \n",
       "2                     0.0               1                 0.000000   \n",
       "3                     0.0               2                 2.666667   \n",
       "4                     0.0              10               627.500000   \n",
       "\n",
       "   BounceRates  ExitRates  PageValues  SpecialDay Month  OperatingSystems  \\\n",
       "0         0.20       0.20         0.0         0.0   Feb                 1   \n",
       "1         0.00       0.10         0.0         0.0   Feb                 2   \n",
       "2         0.20       0.20         0.0         0.0   Feb                 4   \n",
       "3         0.05       0.14         0.0         0.0   Feb                 3   \n",
       "4         0.02       0.05         0.0         0.0   Feb                 3   \n",
       "\n",
       "   Browser  Region  TrafficType        VisitorType  Weekend  Revenue  \n",
       "0        1       1            1  Returning_Visitor    False    False  \n",
       "1        2       1            2  Returning_Visitor    False    False  \n",
       "2        1       9            3  Returning_Visitor    False    False  \n",
       "3        2       2            4  Returning_Visitor    False    False  \n",
       "4        3       1            4  Returning_Visitor     True    False  "
      ]
     },
     "execution_count": 2,
     "metadata": {},
     "output_type": "execute_result"
    }
   ],
   "source": [
    "# dataset can be found here: https://www.kaggle.com/henrysue/online-shoppers-intention\n",
    "shop = pd.read_csv(\"../input/online-shoppers-intention/online_shoppers_intention.csv\")\n",
    "shop.head()"
   ]
  },
  {
   "cell_type": "code",
   "execution_count": 3,
   "id": "c49d2962",
   "metadata": {
    "execution": {
     "iopub.execute_input": "2022-03-15T10:46:06.759899Z",
     "iopub.status.busy": "2022-03-15T10:46:06.759149Z",
     "iopub.status.idle": "2022-03-15T10:46:06.760635Z",
     "shell.execute_reply": "2022-03-15T10:46:06.761132Z",
     "shell.execute_reply.started": "2022-03-15T10:39:15.056070Z"
    },
    "executionInfo": {
     "elapsed": 33,
     "status": "ok",
     "timestamp": 1622351984379,
     "user": {
      "displayName": "siddharth patra",
      "photoUrl": "https://lh3.googleusercontent.com/a-/AOh14Gjnwsdj5DKa95WHRl25dlQz9L1Bbc10vap4xTNIiA=s64",
      "userId": "01966341811263607507"
     },
     "user_tz": -330
    },
    "id": "S4Fjj4U2aGDZ",
    "papermill": {
     "duration": 0.035812,
     "end_time": "2022-03-15T10:46:06.761310",
     "exception": false,
     "start_time": "2022-03-15T10:46:06.725498",
     "status": "completed"
    },
    "tags": []
   },
   "outputs": [],
   "source": [
    "# Out target column is: Revenue - A boolean representing whether or not the user completed the purchase."
   ]
  },
  {
   "cell_type": "code",
   "execution_count": 4,
   "id": "e6498bce",
   "metadata": {
    "execution": {
     "iopub.execute_input": "2022-03-15T10:46:06.824587Z",
     "iopub.status.busy": "2022-03-15T10:46:06.823939Z",
     "iopub.status.idle": "2022-03-15T10:46:06.891119Z",
     "shell.execute_reply": "2022-03-15T10:46:06.890237Z",
     "shell.execute_reply.started": "2022-03-15T10:39:15.067071Z"
    },
    "executionInfo": {
     "elapsed": 31,
     "status": "ok",
     "timestamp": 1622351984381,
     "user": {
      "displayName": "siddharth patra",
      "photoUrl": "https://lh3.googleusercontent.com/a-/AOh14Gjnwsdj5DKa95WHRl25dlQz9L1Bbc10vap4xTNIiA=s64",
      "userId": "01966341811263607507"
     },
     "user_tz": -330
    },
    "id": "ER7Cs3zmalKh",
    "outputId": "b27ca90c-83ae-4768-a725-570e1dd1bedf",
    "papermill": {
     "duration": 0.09879,
     "end_time": "2022-03-15T10:46:06.891298",
     "exception": false,
     "start_time": "2022-03-15T10:46:06.792508",
     "status": "completed"
    },
    "tags": []
   },
   "outputs": [
    {
     "data": {
      "text/html": [
       "<div>\n",
       "<style scoped>\n",
       "    .dataframe tbody tr th:only-of-type {\n",
       "        vertical-align: middle;\n",
       "    }\n",
       "\n",
       "    .dataframe tbody tr th {\n",
       "        vertical-align: top;\n",
       "    }\n",
       "\n",
       "    .dataframe thead th {\n",
       "        text-align: right;\n",
       "    }\n",
       "</style>\n",
       "<table border=\"1\" class=\"dataframe\">\n",
       "  <thead>\n",
       "    <tr style=\"text-align: right;\">\n",
       "      <th></th>\n",
       "      <th>Administrative</th>\n",
       "      <th>Administrative_Duration</th>\n",
       "      <th>Informational</th>\n",
       "      <th>Informational_Duration</th>\n",
       "      <th>ProductRelated</th>\n",
       "      <th>ProductRelated_Duration</th>\n",
       "      <th>BounceRates</th>\n",
       "      <th>ExitRates</th>\n",
       "      <th>PageValues</th>\n",
       "      <th>SpecialDay</th>\n",
       "      <th>OperatingSystems</th>\n",
       "      <th>Browser</th>\n",
       "      <th>Region</th>\n",
       "      <th>TrafficType</th>\n",
       "    </tr>\n",
       "  </thead>\n",
       "  <tbody>\n",
       "    <tr>\n",
       "      <th>count</th>\n",
       "      <td>12330.000000</td>\n",
       "      <td>12330.000000</td>\n",
       "      <td>12330.000000</td>\n",
       "      <td>12330.000000</td>\n",
       "      <td>12330.000000</td>\n",
       "      <td>12330.000000</td>\n",
       "      <td>12330.000000</td>\n",
       "      <td>12330.000000</td>\n",
       "      <td>12330.000000</td>\n",
       "      <td>12330.000000</td>\n",
       "      <td>12330.000000</td>\n",
       "      <td>12330.000000</td>\n",
       "      <td>12330.000000</td>\n",
       "      <td>12330.000000</td>\n",
       "    </tr>\n",
       "    <tr>\n",
       "      <th>mean</th>\n",
       "      <td>2.315166</td>\n",
       "      <td>80.818611</td>\n",
       "      <td>0.503569</td>\n",
       "      <td>34.472398</td>\n",
       "      <td>31.731468</td>\n",
       "      <td>1194.746220</td>\n",
       "      <td>0.022191</td>\n",
       "      <td>0.043073</td>\n",
       "      <td>5.889258</td>\n",
       "      <td>0.061427</td>\n",
       "      <td>2.124006</td>\n",
       "      <td>2.357097</td>\n",
       "      <td>3.147364</td>\n",
       "      <td>4.069586</td>\n",
       "    </tr>\n",
       "    <tr>\n",
       "      <th>std</th>\n",
       "      <td>3.321784</td>\n",
       "      <td>176.779107</td>\n",
       "      <td>1.270156</td>\n",
       "      <td>140.749294</td>\n",
       "      <td>44.475503</td>\n",
       "      <td>1913.669288</td>\n",
       "      <td>0.048488</td>\n",
       "      <td>0.048597</td>\n",
       "      <td>18.568437</td>\n",
       "      <td>0.198917</td>\n",
       "      <td>0.911325</td>\n",
       "      <td>1.717277</td>\n",
       "      <td>2.401591</td>\n",
       "      <td>4.025169</td>\n",
       "    </tr>\n",
       "    <tr>\n",
       "      <th>min</th>\n",
       "      <td>0.000000</td>\n",
       "      <td>0.000000</td>\n",
       "      <td>0.000000</td>\n",
       "      <td>0.000000</td>\n",
       "      <td>0.000000</td>\n",
       "      <td>0.000000</td>\n",
       "      <td>0.000000</td>\n",
       "      <td>0.000000</td>\n",
       "      <td>0.000000</td>\n",
       "      <td>0.000000</td>\n",
       "      <td>1.000000</td>\n",
       "      <td>1.000000</td>\n",
       "      <td>1.000000</td>\n",
       "      <td>1.000000</td>\n",
       "    </tr>\n",
       "    <tr>\n",
       "      <th>25%</th>\n",
       "      <td>0.000000</td>\n",
       "      <td>0.000000</td>\n",
       "      <td>0.000000</td>\n",
       "      <td>0.000000</td>\n",
       "      <td>7.000000</td>\n",
       "      <td>184.137500</td>\n",
       "      <td>0.000000</td>\n",
       "      <td>0.014286</td>\n",
       "      <td>0.000000</td>\n",
       "      <td>0.000000</td>\n",
       "      <td>2.000000</td>\n",
       "      <td>2.000000</td>\n",
       "      <td>1.000000</td>\n",
       "      <td>2.000000</td>\n",
       "    </tr>\n",
       "    <tr>\n",
       "      <th>50%</th>\n",
       "      <td>1.000000</td>\n",
       "      <td>7.500000</td>\n",
       "      <td>0.000000</td>\n",
       "      <td>0.000000</td>\n",
       "      <td>18.000000</td>\n",
       "      <td>598.936905</td>\n",
       "      <td>0.003112</td>\n",
       "      <td>0.025156</td>\n",
       "      <td>0.000000</td>\n",
       "      <td>0.000000</td>\n",
       "      <td>2.000000</td>\n",
       "      <td>2.000000</td>\n",
       "      <td>3.000000</td>\n",
       "      <td>2.000000</td>\n",
       "    </tr>\n",
       "    <tr>\n",
       "      <th>75%</th>\n",
       "      <td>4.000000</td>\n",
       "      <td>93.256250</td>\n",
       "      <td>0.000000</td>\n",
       "      <td>0.000000</td>\n",
       "      <td>38.000000</td>\n",
       "      <td>1464.157214</td>\n",
       "      <td>0.016813</td>\n",
       "      <td>0.050000</td>\n",
       "      <td>0.000000</td>\n",
       "      <td>0.000000</td>\n",
       "      <td>3.000000</td>\n",
       "      <td>2.000000</td>\n",
       "      <td>4.000000</td>\n",
       "      <td>4.000000</td>\n",
       "    </tr>\n",
       "    <tr>\n",
       "      <th>max</th>\n",
       "      <td>27.000000</td>\n",
       "      <td>3398.750000</td>\n",
       "      <td>24.000000</td>\n",
       "      <td>2549.375000</td>\n",
       "      <td>705.000000</td>\n",
       "      <td>63973.522230</td>\n",
       "      <td>0.200000</td>\n",
       "      <td>0.200000</td>\n",
       "      <td>361.763742</td>\n",
       "      <td>1.000000</td>\n",
       "      <td>8.000000</td>\n",
       "      <td>13.000000</td>\n",
       "      <td>9.000000</td>\n",
       "      <td>20.000000</td>\n",
       "    </tr>\n",
       "  </tbody>\n",
       "</table>\n",
       "</div>"
      ],
      "text/plain": [
       "       Administrative  Administrative_Duration  Informational  \\\n",
       "count    12330.000000             12330.000000   12330.000000   \n",
       "mean         2.315166                80.818611       0.503569   \n",
       "std          3.321784               176.779107       1.270156   \n",
       "min          0.000000                 0.000000       0.000000   \n",
       "25%          0.000000                 0.000000       0.000000   \n",
       "50%          1.000000                 7.500000       0.000000   \n",
       "75%          4.000000                93.256250       0.000000   \n",
       "max         27.000000              3398.750000      24.000000   \n",
       "\n",
       "       Informational_Duration  ProductRelated  ProductRelated_Duration  \\\n",
       "count            12330.000000    12330.000000             12330.000000   \n",
       "mean                34.472398       31.731468              1194.746220   \n",
       "std                140.749294       44.475503              1913.669288   \n",
       "min                  0.000000        0.000000                 0.000000   \n",
       "25%                  0.000000        7.000000               184.137500   \n",
       "50%                  0.000000       18.000000               598.936905   \n",
       "75%                  0.000000       38.000000              1464.157214   \n",
       "max               2549.375000      705.000000             63973.522230   \n",
       "\n",
       "        BounceRates     ExitRates    PageValues    SpecialDay  \\\n",
       "count  12330.000000  12330.000000  12330.000000  12330.000000   \n",
       "mean       0.022191      0.043073      5.889258      0.061427   \n",
       "std        0.048488      0.048597     18.568437      0.198917   \n",
       "min        0.000000      0.000000      0.000000      0.000000   \n",
       "25%        0.000000      0.014286      0.000000      0.000000   \n",
       "50%        0.003112      0.025156      0.000000      0.000000   \n",
       "75%        0.016813      0.050000      0.000000      0.000000   \n",
       "max        0.200000      0.200000    361.763742      1.000000   \n",
       "\n",
       "       OperatingSystems       Browser        Region   TrafficType  \n",
       "count      12330.000000  12330.000000  12330.000000  12330.000000  \n",
       "mean           2.124006      2.357097      3.147364      4.069586  \n",
       "std            0.911325      1.717277      2.401591      4.025169  \n",
       "min            1.000000      1.000000      1.000000      1.000000  \n",
       "25%            2.000000      2.000000      1.000000      2.000000  \n",
       "50%            2.000000      2.000000      3.000000      2.000000  \n",
       "75%            3.000000      2.000000      4.000000      4.000000  \n",
       "max            8.000000     13.000000      9.000000     20.000000  "
      ]
     },
     "execution_count": 4,
     "metadata": {},
     "output_type": "execute_result"
    }
   ],
   "source": [
    "shop.describe()"
   ]
  },
  {
   "cell_type": "code",
   "execution_count": 5,
   "id": "fcbb54e6",
   "metadata": {
    "execution": {
     "iopub.execute_input": "2022-03-15T10:46:06.957873Z",
     "iopub.status.busy": "2022-03-15T10:46:06.957165Z",
     "iopub.status.idle": "2022-03-15T10:46:06.961917Z",
     "shell.execute_reply": "2022-03-15T10:46:06.962635Z",
     "shell.execute_reply.started": "2022-03-15T10:39:15.138225Z"
    },
    "executionInfo": {
     "elapsed": 28,
     "status": "ok",
     "timestamp": 1622351984382,
     "user": {
      "displayName": "siddharth patra",
      "photoUrl": "https://lh3.googleusercontent.com/a-/AOh14Gjnwsdj5DKa95WHRl25dlQz9L1Bbc10vap4xTNIiA=s64",
      "userId": "01966341811263607507"
     },
     "user_tz": -330
    },
    "id": "CyTH9pyob3BQ",
    "outputId": "85bacab0-8844-4801-a75d-6431f97b26a9",
    "papermill": {
     "duration": 0.038787,
     "end_time": "2022-03-15T10:46:06.962838",
     "exception": false,
     "start_time": "2022-03-15T10:46:06.924051",
     "status": "completed"
    },
    "tags": []
   },
   "outputs": [
    {
     "data": {
      "text/plain": [
       "(12330, 18)"
      ]
     },
     "execution_count": 5,
     "metadata": {},
     "output_type": "execute_result"
    }
   ],
   "source": [
    "shop.shape"
   ]
  },
  {
   "cell_type": "code",
   "execution_count": 6,
   "id": "ecb2ad07",
   "metadata": {
    "execution": {
     "iopub.execute_input": "2022-03-15T10:46:07.027325Z",
     "iopub.status.busy": "2022-03-15T10:46:07.026554Z",
     "iopub.status.idle": "2022-03-15T10:46:07.037385Z",
     "shell.execute_reply": "2022-03-15T10:46:07.038022Z",
     "shell.execute_reply.started": "2022-03-15T10:39:15.146594Z"
    },
    "executionInfo": {
     "elapsed": 24,
     "status": "ok",
     "timestamp": 1622351984383,
     "user": {
      "displayName": "siddharth patra",
      "photoUrl": "https://lh3.googleusercontent.com/a-/AOh14Gjnwsdj5DKa95WHRl25dlQz9L1Bbc10vap4xTNIiA=s64",
      "userId": "01966341811263607507"
     },
     "user_tz": -330
    },
    "id": "Pr7-EHmBb6Fm",
    "outputId": "d557bdfb-b980-4911-a789-35c6fa15657c",
    "papermill": {
     "duration": 0.044196,
     "end_time": "2022-03-15T10:46:07.038203",
     "exception": false,
     "start_time": "2022-03-15T10:46:06.994007",
     "status": "completed"
    },
    "tags": []
   },
   "outputs": [
    {
     "data": {
      "text/plain": [
       "Administrative             0\n",
       "Administrative_Duration    0\n",
       "Informational              0\n",
       "Informational_Duration     0\n",
       "ProductRelated             0\n",
       "ProductRelated_Duration    0\n",
       "BounceRates                0\n",
       "ExitRates                  0\n",
       "PageValues                 0\n",
       "SpecialDay                 0\n",
       "Month                      0\n",
       "OperatingSystems           0\n",
       "Browser                    0\n",
       "Region                     0\n",
       "TrafficType                0\n",
       "VisitorType                0\n",
       "Weekend                    0\n",
       "Revenue                    0\n",
       "dtype: int64"
      ]
     },
     "execution_count": 6,
     "metadata": {},
     "output_type": "execute_result"
    }
   ],
   "source": [
    "shop.isnull().sum()"
   ]
  },
  {
   "cell_type": "code",
   "execution_count": 7,
   "id": "4e123fd9",
   "metadata": {
    "execution": {
     "iopub.execute_input": "2022-03-15T10:46:07.104619Z",
     "iopub.status.busy": "2022-03-15T10:46:07.103906Z",
     "iopub.status.idle": "2022-03-15T10:46:08.808252Z",
     "shell.execute_reply": "2022-03-15T10:46:08.808774Z",
     "shell.execute_reply.started": "2022-03-15T10:39:15.169699Z"
    },
    "executionInfo": {
     "elapsed": 2665,
     "status": "ok",
     "timestamp": 1622351987027,
     "user": {
      "displayName": "siddharth patra",
      "photoUrl": "https://lh3.googleusercontent.com/a-/AOh14Gjnwsdj5DKa95WHRl25dlQz9L1Bbc10vap4xTNIiA=s64",
      "userId": "01966341811263607507"
     },
     "user_tz": -330
    },
    "id": "xnUouc1-b8vE",
    "outputId": "517e776e-e433-4847-814c-7e58fe2faa21",
    "papermill": {
     "duration": 1.738733,
     "end_time": "2022-03-15T10:46:08.808951",
     "exception": false,
     "start_time": "2022-03-15T10:46:07.070218",
     "status": "completed"
    },
    "tags": []
   },
   "outputs": [
    {
     "data": {
      "text/plain": [
       "<AxesSubplot:>"
      ]
     },
     "execution_count": 7,
     "metadata": {},
     "output_type": "execute_result"
    },
    {
     "data": {
      "image/png": "[encoded data removed]",
      "text/plain": [
       "<Figure size 864x864 with 2 Axes>"
      ]
     },
     "metadata": {
      "needs_background": "light"
     },
     "output_type": "display_data"
    }
   ],
   "source": [
    "plt.figure(figsize=(12,12))\n",
    "sns.heatmap(shop.corr(),annot=True,cmap='viridis',linewidths=.5)"
   ]
  },
  {
   "cell_type": "code",
   "execution_count": 8,
   "id": "8cb08a54",
   "metadata": {
    "execution": {
     "iopub.execute_input": "2022-03-15T10:46:08.883819Z",
     "iopub.status.busy": "2022-03-15T10:46:08.883156Z",
     "iopub.status.idle": "2022-03-15T10:46:08.888802Z",
     "shell.execute_reply": "2022-03-15T10:46:08.889353Z",
     "shell.execute_reply.started": "2022-03-15T10:39:16.914301Z"
    },
    "executionInfo": {
     "elapsed": 70,
     "status": "ok",
     "timestamp": 1622351987028,
     "user": {
      "displayName": "siddharth patra",
      "photoUrl": "https://lh3.googleusercontent.com/a-/AOh14Gjnwsdj5DKa95WHRl25dlQz9L1Bbc10vap4xTNIiA=s64",
      "userId": "01966341811263607507"
     },
     "user_tz": -330
    },
    "id": "fe8yZMf1s9AT",
    "papermill": {
     "duration": 0.044978,
     "end_time": "2022-03-15T10:46:08.889524",
     "exception": false,
     "start_time": "2022-03-15T10:46:08.844546",
     "status": "completed"
    },
    "tags": []
   },
   "outputs": [],
   "source": [
    "shope = shop.drop(['Administrative', 'Informational', 'ProductRelated_Duration'], axis = 1)"
   ]
  },
  {
   "cell_type": "code",
   "execution_count": 9,
   "id": "ee74a60d",
   "metadata": {
    "execution": {
     "iopub.execute_input": "2022-03-15T10:46:08.963857Z",
     "iopub.status.busy": "2022-03-15T10:46:08.963212Z",
     "iopub.status.idle": "2022-03-15T10:46:08.966074Z",
     "shell.execute_reply": "2022-03-15T10:46:08.966623Z",
     "shell.execute_reply.started": "2022-03-15T10:39:16.922317Z"
    },
    "executionInfo": {
     "elapsed": 68,
     "status": "ok",
     "timestamp": 1622351987030,
     "user": {
      "displayName": "siddharth patra",
      "photoUrl": "https://lh3.googleusercontent.com/a-/AOh14Gjnwsdj5DKa95WHRl25dlQz9L1Bbc10vap4xTNIiA=s64",
      "userId": "01966341811263607507"
     },
     "user_tz": -330
    },
    "id": "sp9mEKWTcHsJ",
    "papermill": {
     "duration": 0.041832,
     "end_time": "2022-03-15T10:46:08.966941",
     "exception": false,
     "start_time": "2022-03-15T10:46:08.925109",
     "status": "completed"
    },
    "tags": []
   },
   "outputs": [],
   "source": [
    "# Finding about categorical data"
   ]
  },
  {
   "cell_type": "code",
   "execution_count": 10,
   "id": "f0d93f6b",
   "metadata": {
    "execution": {
     "iopub.execute_input": "2022-03-15T10:46:09.041493Z",
     "iopub.status.busy": "2022-03-15T10:46:09.040871Z",
     "iopub.status.idle": "2022-03-15T10:46:09.059731Z",
     "shell.execute_reply": "2022-03-15T10:46:09.060327Z",
     "shell.execute_reply.started": "2022-03-15T10:39:16.937441Z"
    },
    "executionInfo": {
     "elapsed": 67,
     "status": "ok",
     "timestamp": 1622351987032,
     "user": {
      "displayName": "siddharth patra",
      "photoUrl": "https://lh3.googleusercontent.com/a-/AOh14Gjnwsdj5DKa95WHRl25dlQz9L1Bbc10vap4xTNIiA=s64",
      "userId": "01966341811263607507"
     },
     "user_tz": -330
    },
    "id": "o1hVC_GxdFOK",
    "outputId": "0e24a8cb-fa60-4621-ea76-25d60236d695",
    "papermill": {
     "duration": 0.057661,
     "end_time": "2022-03-15T10:46:09.060499",
     "exception": false,
     "start_time": "2022-03-15T10:46:09.002838",
     "status": "completed"
    },
    "tags": []
   },
   "outputs": [
    {
     "data": {
      "text/html": [
       "<div>\n",
       "<style scoped>\n",
       "    .dataframe tbody tr th:only-of-type {\n",
       "        vertical-align: middle;\n",
       "    }\n",
       "\n",
       "    .dataframe tbody tr th {\n",
       "        vertical-align: top;\n",
       "    }\n",
       "\n",
       "    .dataframe thead th {\n",
       "        text-align: right;\n",
       "    }\n",
       "</style>\n",
       "<table border=\"1\" class=\"dataframe\">\n",
       "  <thead>\n",
       "    <tr style=\"text-align: right;\">\n",
       "      <th></th>\n",
       "      <th>Administrative_Duration</th>\n",
       "      <th>Informational_Duration</th>\n",
       "      <th>ProductRelated</th>\n",
       "      <th>BounceRates</th>\n",
       "      <th>ExitRates</th>\n",
       "      <th>PageValues</th>\n",
       "      <th>SpecialDay</th>\n",
       "      <th>Month</th>\n",
       "      <th>OperatingSystems</th>\n",
       "      <th>Browser</th>\n",
       "      <th>Region</th>\n",
       "      <th>TrafficType</th>\n",
       "      <th>VisitorType</th>\n",
       "      <th>Weekend</th>\n",
       "      <th>Revenue</th>\n",
       "    </tr>\n",
       "  </thead>\n",
       "  <tbody>\n",
       "    <tr>\n",
       "      <th>0</th>\n",
       "      <td>0.0</td>\n",
       "      <td>0.0</td>\n",
       "      <td>1</td>\n",
       "      <td>0.20</td>\n",
       "      <td>0.20</td>\n",
       "      <td>0.0</td>\n",
       "      <td>0.0</td>\n",
       "      <td>Feb</td>\n",
       "      <td>1</td>\n",
       "      <td>1</td>\n",
       "      <td>1</td>\n",
       "      <td>1</td>\n",
       "      <td>Returning_Visitor</td>\n",
       "      <td>False</td>\n",
       "      <td>False</td>\n",
       "    </tr>\n",
       "    <tr>\n",
       "      <th>1</th>\n",
       "      <td>0.0</td>\n",
       "      <td>0.0</td>\n",
       "      <td>2</td>\n",
       "      <td>0.00</td>\n",
       "      <td>0.10</td>\n",
       "      <td>0.0</td>\n",
       "      <td>0.0</td>\n",
       "      <td>Feb</td>\n",
       "      <td>2</td>\n",
       "      <td>2</td>\n",
       "      <td>1</td>\n",
       "      <td>2</td>\n",
       "      <td>Returning_Visitor</td>\n",
       "      <td>False</td>\n",
       "      <td>False</td>\n",
       "    </tr>\n",
       "    <tr>\n",
       "      <th>2</th>\n",
       "      <td>0.0</td>\n",
       "      <td>0.0</td>\n",
       "      <td>1</td>\n",
       "      <td>0.20</td>\n",
       "      <td>0.20</td>\n",
       "      <td>0.0</td>\n",
       "      <td>0.0</td>\n",
       "      <td>Feb</td>\n",
       "      <td>4</td>\n",
       "      <td>1</td>\n",
       "      <td>9</td>\n",
       "      <td>3</td>\n",
       "      <td>Returning_Visitor</td>\n",
       "      <td>False</td>\n",
       "      <td>False</td>\n",
       "    </tr>\n",
       "    <tr>\n",
       "      <th>3</th>\n",
       "      <td>0.0</td>\n",
       "      <td>0.0</td>\n",
       "      <td>2</td>\n",
       "      <td>0.05</td>\n",
       "      <td>0.14</td>\n",
       "      <td>0.0</td>\n",
       "      <td>0.0</td>\n",
       "      <td>Feb</td>\n",
       "      <td>3</td>\n",
       "      <td>2</td>\n",
       "      <td>2</td>\n",
       "      <td>4</td>\n",
       "      <td>Returning_Visitor</td>\n",
       "      <td>False</td>\n",
       "      <td>False</td>\n",
       "    </tr>\n",
       "    <tr>\n",
       "      <th>4</th>\n",
       "      <td>0.0</td>\n",
       "      <td>0.0</td>\n",
       "      <td>10</td>\n",
       "      <td>0.02</td>\n",
       "      <td>0.05</td>\n",
       "      <td>0.0</td>\n",
       "      <td>0.0</td>\n",
       "      <td>Feb</td>\n",
       "      <td>3</td>\n",
       "      <td>3</td>\n",
       "      <td>1</td>\n",
       "      <td>4</td>\n",
       "      <td>Returning_Visitor</td>\n",
       "      <td>True</td>\n",
       "      <td>False</td>\n",
       "    </tr>\n",
       "  </tbody>\n",
       "</table>\n",
       "</div>"
      ],
      "text/plain": [
       "   Administrative_Duration  Informational_Duration  ProductRelated  \\\n",
       "0                      0.0                     0.0               1   \n",
       "1                      0.0                     0.0               2   \n",
       "2                      0.0                     0.0               1   \n",
       "3                      0.0                     0.0               2   \n",
       "4                      0.0                     0.0              10   \n",
       "\n",
       "   BounceRates  ExitRates  PageValues  SpecialDay Month  OperatingSystems  \\\n",
       "0         0.20       0.20         0.0         0.0   Feb                 1   \n",
       "1         0.00       0.10         0.0         0.0   Feb                 2   \n",
       "2         0.20       0.20         0.0         0.0   Feb                 4   \n",
       "3         0.05       0.14         0.0         0.0   Feb                 3   \n",
       "4         0.02       0.05         0.0         0.0   Feb                 3   \n",
       "\n",
       "   Browser  Region  TrafficType        VisitorType  Weekend  Revenue  \n",
       "0        1       1            1  Returning_Visitor    False    False  \n",
       "1        2       1            2  Returning_Visitor    False    False  \n",
       "2        1       9            3  Returning_Visitor    False    False  \n",
       "3        2       2            4  Returning_Visitor    False    False  \n",
       "4        3       1            4  Returning_Visitor     True    False  "
      ]
     },
     "execution_count": 10,
     "metadata": {},
     "output_type": "execute_result"
    }
   ],
   "source": [
    "shope.head()"
   ]
  },
  {
   "cell_type": "code",
   "execution_count": 11,
   "id": "2a1bab36",
   "metadata": {
    "execution": {
     "iopub.execute_input": "2022-03-15T10:46:09.136781Z",
     "iopub.status.busy": "2022-03-15T10:46:09.136066Z",
     "iopub.status.idle": "2022-03-15T10:46:09.143995Z",
     "shell.execute_reply": "2022-03-15T10:46:09.144519Z",
     "shell.execute_reply.started": "2022-03-15T10:39:16.963272Z"
    },
    "executionInfo": {
     "elapsed": 62,
     "status": "ok",
     "timestamp": 1622351987033,
     "user": {
      "displayName": "siddharth patra",
      "photoUrl": "https://lh3.googleusercontent.com/a-/AOh14Gjnwsdj5DKa95WHRl25dlQz9L1Bbc10vap4xTNIiA=s64",
      "userId": "01966341811263607507"
     },
     "user_tz": -330
    },
    "id": "5kr4EBSRdFur",
    "outputId": "1e7e30b6-cb05-4ae4-bd29-1ada8055c577",
    "papermill": {
     "duration": 0.047571,
     "end_time": "2022-03-15T10:46:09.144716",
     "exception": false,
     "start_time": "2022-03-15T10:46:09.097145",
     "status": "completed"
    },
    "tags": []
   },
   "outputs": [
    {
     "data": {
      "text/plain": [
       "1      622\n",
       "2      465\n",
       "3      458\n",
       "4      404\n",
       "6      396\n",
       "      ... \n",
       "243      1\n",
       "409      1\n",
       "262      1\n",
       "414      1\n",
       "192      1\n",
       "Name: ProductRelated, Length: 311, dtype: int64"
      ]
     },
     "execution_count": 11,
     "metadata": {},
     "output_type": "execute_result"
    }
   ],
   "source": [
    "shope['ProductRelated'].value_counts() # a categorical type but the data is too spread (ranges from 1 too 399)"
   ]
  },
  {
   "cell_type": "code",
   "execution_count": 12,
   "id": "56bdeb98",
   "metadata": {
    "execution": {
     "iopub.execute_input": "2022-03-15T10:46:09.222076Z",
     "iopub.status.busy": "2022-03-15T10:46:09.221390Z",
     "iopub.status.idle": "2022-03-15T10:46:09.229436Z",
     "shell.execute_reply": "2022-03-15T10:46:09.230060Z",
     "shell.execute_reply.started": "2022-03-15T10:39:16.981342Z"
    },
    "executionInfo": {
     "elapsed": 55,
     "status": "ok",
     "timestamp": 1622351987035,
     "user": {
      "displayName": "siddharth patra",
      "photoUrl": "https://lh3.googleusercontent.com/a-/AOh14Gjnwsdj5DKa95WHRl25dlQz9L1Bbc10vap4xTNIiA=s64",
      "userId": "01966341811263607507"
     },
     "user_tz": -330
    },
    "id": "hMkGz8M8dF0a",
    "outputId": "7cc997b2-62ad-4fcb-b493-0166929d5356",
    "papermill": {
     "duration": 0.048417,
     "end_time": "2022-03-15T10:46:09.230249",
     "exception": false,
     "start_time": "2022-03-15T10:46:09.181832",
     "status": "completed"
    },
    "tags": []
   },
   "outputs": [
    {
     "data": {
      "text/plain": [
       "May     3364\n",
       "Nov     2998\n",
       "Mar     1907\n",
       "Dec     1727\n",
       "Oct      549\n",
       "Sep      448\n",
       "Aug      433\n",
       "Jul      432\n",
       "June     288\n",
       "Feb      184\n",
       "Name: Month, dtype: int64"
      ]
     },
     "execution_count": 12,
     "metadata": {},
     "output_type": "execute_result"
    }
   ],
   "source": [
    "shope['Month'].value_counts()"
   ]
  },
  {
   "cell_type": "code",
   "execution_count": 13,
   "id": "1662b40e",
   "metadata": {
    "execution": {
     "iopub.execute_input": "2022-03-15T10:46:09.309319Z",
     "iopub.status.busy": "2022-03-15T10:46:09.308558Z",
     "iopub.status.idle": "2022-03-15T10:46:09.315307Z",
     "shell.execute_reply": "2022-03-15T10:46:09.315899Z",
     "shell.execute_reply.started": "2022-03-15T10:39:16.995811Z"
    },
    "executionInfo": {
     "elapsed": 51,
     "status": "ok",
     "timestamp": 1622351987037,
     "user": {
      "displayName": "siddharth patra",
      "photoUrl": "https://lh3.googleusercontent.com/a-/AOh14Gjnwsdj5DKa95WHRl25dlQz9L1Bbc10vap4xTNIiA=s64",
      "userId": "01966341811263607507"
     },
     "user_tz": -330
    },
    "id": "6Oo16AjpdlIb",
    "outputId": "ab0a960e-b5b8-401b-a32b-a2e064c25795",
    "papermill": {
     "duration": 0.049013,
     "end_time": "2022-03-15T10:46:09.316082",
     "exception": false,
     "start_time": "2022-03-15T10:46:09.267069",
     "status": "completed"
    },
    "tags": []
   },
   "outputs": [
    {
     "data": {
      "text/plain": [
       "2    6601\n",
       "1    2585\n",
       "3    2555\n",
       "4     478\n",
       "8      79\n",
       "6      19\n",
       "7       7\n",
       "5       6\n",
       "Name: OperatingSystems, dtype: int64"
      ]
     },
     "execution_count": 13,
     "metadata": {},
     "output_type": "execute_result"
    }
   ],
   "source": [
    "shope['OperatingSystems'].value_counts()"
   ]
  },
  {
   "cell_type": "code",
   "execution_count": 14,
   "id": "229010f3",
   "metadata": {
    "execution": {
     "iopub.execute_input": "2022-03-15T10:46:09.401417Z",
     "iopub.status.busy": "2022-03-15T10:46:09.400744Z",
     "iopub.status.idle": "2022-03-15T10:46:09.406320Z",
     "shell.execute_reply": "2022-03-15T10:46:09.406875Z",
     "shell.execute_reply.started": "2022-03-15T10:39:17.010456Z"
    },
    "executionInfo": {
     "elapsed": 48,
     "status": "ok",
     "timestamp": 1622351987038,
     "user": {
      "displayName": "siddharth patra",
      "photoUrl": "https://lh3.googleusercontent.com/a-/AOh14Gjnwsdj5DKa95WHRl25dlQz9L1Bbc10vap4xTNIiA=s64",
      "userId": "01966341811263607507"
     },
     "user_tz": -330
    },
    "id": "P3OmyFaedqpJ",
    "outputId": "7ba2bcae-981c-40d4-8708-df39332d1ad8",
    "papermill": {
     "duration": 0.05241,
     "end_time": "2022-03-15T10:46:09.407058",
     "exception": false,
     "start_time": "2022-03-15T10:46:09.354648",
     "status": "completed"
    },
    "tags": []
   },
   "outputs": [
    {
     "data": {
      "text/plain": [
       "Returning_Visitor    10551\n",
       "New_Visitor           1694\n",
       "Other                   85\n",
       "Name: VisitorType, dtype: int64"
      ]
     },
     "execution_count": 14,
     "metadata": {},
     "output_type": "execute_result"
    }
   ],
   "source": [
    "shope['VisitorType'].value_counts()"
   ]
  },
  {
   "cell_type": "code",
   "execution_count": 15,
   "id": "a0e3b890",
   "metadata": {
    "execution": {
     "iopub.execute_input": "2022-03-15T10:46:09.486953Z",
     "iopub.status.busy": "2022-03-15T10:46:09.485816Z",
     "iopub.status.idle": "2022-03-15T10:46:09.493820Z",
     "shell.execute_reply": "2022-03-15T10:46:09.494421Z",
     "shell.execute_reply.started": "2022-03-15T10:39:17.027876Z"
    },
    "executionInfo": {
     "elapsed": 11,
     "status": "ok",
     "timestamp": 1622352928124,
     "user": {
      "displayName": "siddharth patra",
      "photoUrl": "https://lh3.googleusercontent.com/a-/AOh14Gjnwsdj5DKa95WHRl25dlQz9L1Bbc10vap4xTNIiA=s64",
      "userId": "01966341811263607507"
     },
     "user_tz": -330
    },
    "id": "Yc8T66wCxLdv",
    "outputId": "b6c02bdf-7a41-4c1e-9679-f86efca5dc44",
    "papermill": {
     "duration": 0.049655,
     "end_time": "2022-03-15T10:46:09.494619",
     "exception": false,
     "start_time": "2022-03-15T10:46:09.444964",
     "status": "completed"
    },
    "tags": []
   },
   "outputs": [
    {
     "data": {
      "text/plain": [
       "2     7961\n",
       "1     2462\n",
       "4      736\n",
       "5      467\n",
       "6      174\n",
       "10     163\n",
       "8      135\n",
       "3      105\n",
       "13      61\n",
       "7       49\n",
       "12      10\n",
       "11       6\n",
       "9        1\n",
       "Name: Browser, dtype: int64"
      ]
     },
     "execution_count": 15,
     "metadata": {},
     "output_type": "execute_result"
    }
   ],
   "source": [
    "shope['Browser'].value_counts()"
   ]
  },
  {
   "cell_type": "code",
   "execution_count": 16,
   "id": "15980a08",
   "metadata": {
    "execution": {
     "iopub.execute_input": "2022-03-15T10:46:09.580789Z",
     "iopub.status.busy": "2022-03-15T10:46:09.579886Z",
     "iopub.status.idle": "2022-03-15T10:46:09.583297Z",
     "shell.execute_reply": "2022-03-15T10:46:09.583804Z",
     "shell.execute_reply.started": "2022-03-15T10:39:17.039784Z"
    },
    "executionInfo": {
     "elapsed": 621,
     "status": "ok",
     "timestamp": 1622353267480,
     "user": {
      "displayName": "siddharth patra",
      "photoUrl": "https://lh3.googleusercontent.com/a-/AOh14Gjnwsdj5DKa95WHRl25dlQz9L1Bbc10vap4xTNIiA=s64",
      "userId": "01966341811263607507"
     },
     "user_tz": -330
    },
    "id": "x5CmoCjNyijs",
    "outputId": "997a88cb-9d10-407e-c9a5-5af63492cc95",
    "papermill": {
     "duration": 0.049597,
     "end_time": "2022-03-15T10:46:09.583980",
     "exception": false,
     "start_time": "2022-03-15T10:46:09.534383",
     "status": "completed"
    },
    "tags": []
   },
   "outputs": [
    {
     "data": {
      "text/plain": [
       "1    4780\n",
       "3    2403\n",
       "4    1182\n",
       "2    1136\n",
       "6     805\n",
       "7     761\n",
       "9     511\n",
       "8     434\n",
       "5     318\n",
       "Name: Region, dtype: int64"
      ]
     },
     "execution_count": 16,
     "metadata": {},
     "output_type": "execute_result"
    }
   ],
   "source": [
    "shope['Region'].value_counts()"
   ]
  },
  {
   "cell_type": "code",
   "execution_count": 17,
   "id": "e71fd1f8",
   "metadata": {
    "execution": {
     "iopub.execute_input": "2022-03-15T10:46:09.670933Z",
     "iopub.status.busy": "2022-03-15T10:46:09.670167Z",
     "iopub.status.idle": "2022-03-15T10:46:09.696569Z",
     "shell.execute_reply": "2022-03-15T10:46:09.695884Z",
     "shell.execute_reply.started": "2022-03-15T10:39:17.055810Z"
    },
    "executionInfo": {
     "elapsed": 49,
     "status": "ok",
     "timestamp": 1622351987042,
     "user": {
      "displayName": "siddharth patra",
      "photoUrl": "https://lh3.googleusercontent.com/a-/AOh14Gjnwsdj5DKa95WHRl25dlQz9L1Bbc10vap4xTNIiA=s64",
      "userId": "01966341811263607507"
     },
     "user_tz": -330
    },
    "id": "EYwqgZr8dzTP",
    "outputId": "85e00b4a-7d40-4210-9f56-67540e808e90",
    "papermill": {
     "duration": 0.072968,
     "end_time": "2022-03-15T10:46:09.696757",
     "exception": false,
     "start_time": "2022-03-15T10:46:09.623789",
     "status": "completed"
    },
    "tags": []
   },
   "outputs": [
    {
     "data": {
      "text/html": [
       "<div>\n",
       "<style scoped>\n",
       "    .dataframe tbody tr th:only-of-type {\n",
       "        vertical-align: middle;\n",
       "    }\n",
       "\n",
       "    .dataframe tbody tr th {\n",
       "        vertical-align: top;\n",
       "    }\n",
       "\n",
       "    .dataframe thead th {\n",
       "        text-align: right;\n",
       "    }\n",
       "</style>\n",
       "<table border=\"1\" class=\"dataframe\">\n",
       "  <thead>\n",
       "    <tr style=\"text-align: right;\">\n",
       "      <th></th>\n",
       "      <th>Administrative_Duration</th>\n",
       "      <th>Informational_Duration</th>\n",
       "      <th>ProductRelated</th>\n",
       "      <th>BounceRates</th>\n",
       "      <th>ExitRates</th>\n",
       "      <th>PageValues</th>\n",
       "      <th>SpecialDay</th>\n",
       "      <th>Month</th>\n",
       "      <th>OperatingSystems</th>\n",
       "      <th>Browser</th>\n",
       "      <th>Region</th>\n",
       "      <th>TrafficType</th>\n",
       "      <th>VisitorType</th>\n",
       "      <th>Weekend</th>\n",
       "      <th>Revenue</th>\n",
       "      <th>New_Visitor</th>\n",
       "      <th>Other</th>\n",
       "      <th>Returning_Visitor</th>\n",
       "    </tr>\n",
       "  </thead>\n",
       "  <tbody>\n",
       "    <tr>\n",
       "      <th>0</th>\n",
       "      <td>0.0</td>\n",
       "      <td>0.0</td>\n",
       "      <td>1</td>\n",
       "      <td>0.20</td>\n",
       "      <td>0.20</td>\n",
       "      <td>0.0</td>\n",
       "      <td>0.0</td>\n",
       "      <td>Feb</td>\n",
       "      <td>1</td>\n",
       "      <td>1</td>\n",
       "      <td>1</td>\n",
       "      <td>1</td>\n",
       "      <td>Returning_Visitor</td>\n",
       "      <td>False</td>\n",
       "      <td>False</td>\n",
       "      <td>0</td>\n",
       "      <td>0</td>\n",
       "      <td>1</td>\n",
       "    </tr>\n",
       "    <tr>\n",
       "      <th>1</th>\n",
       "      <td>0.0</td>\n",
       "      <td>0.0</td>\n",
       "      <td>2</td>\n",
       "      <td>0.00</td>\n",
       "      <td>0.10</td>\n",
       "      <td>0.0</td>\n",
       "      <td>0.0</td>\n",
       "      <td>Feb</td>\n",
       "      <td>2</td>\n",
       "      <td>2</td>\n",
       "      <td>1</td>\n",
       "      <td>2</td>\n",
       "      <td>Returning_Visitor</td>\n",
       "      <td>False</td>\n",
       "      <td>False</td>\n",
       "      <td>0</td>\n",
       "      <td>0</td>\n",
       "      <td>1</td>\n",
       "    </tr>\n",
       "    <tr>\n",
       "      <th>2</th>\n",
       "      <td>0.0</td>\n",
       "      <td>0.0</td>\n",
       "      <td>1</td>\n",
       "      <td>0.20</td>\n",
       "      <td>0.20</td>\n",
       "      <td>0.0</td>\n",
       "      <td>0.0</td>\n",
       "      <td>Feb</td>\n",
       "      <td>4</td>\n",
       "      <td>1</td>\n",
       "      <td>9</td>\n",
       "      <td>3</td>\n",
       "      <td>Returning_Visitor</td>\n",
       "      <td>False</td>\n",
       "      <td>False</td>\n",
       "      <td>0</td>\n",
       "      <td>0</td>\n",
       "      <td>1</td>\n",
       "    </tr>\n",
       "    <tr>\n",
       "      <th>3</th>\n",
       "      <td>0.0</td>\n",
       "      <td>0.0</td>\n",
       "      <td>2</td>\n",
       "      <td>0.05</td>\n",
       "      <td>0.14</td>\n",
       "      <td>0.0</td>\n",
       "      <td>0.0</td>\n",
       "      <td>Feb</td>\n",
       "      <td>3</td>\n",
       "      <td>2</td>\n",
       "      <td>2</td>\n",
       "      <td>4</td>\n",
       "      <td>Returning_Visitor</td>\n",
       "      <td>False</td>\n",
       "      <td>False</td>\n",
       "      <td>0</td>\n",
       "      <td>0</td>\n",
       "      <td>1</td>\n",
       "    </tr>\n",
       "    <tr>\n",
       "      <th>4</th>\n",
       "      <td>0.0</td>\n",
       "      <td>0.0</td>\n",
       "      <td>10</td>\n",
       "      <td>0.02</td>\n",
       "      <td>0.05</td>\n",
       "      <td>0.0</td>\n",
       "      <td>0.0</td>\n",
       "      <td>Feb</td>\n",
       "      <td>3</td>\n",
       "      <td>3</td>\n",
       "      <td>1</td>\n",
       "      <td>4</td>\n",
       "      <td>Returning_Visitor</td>\n",
       "      <td>True</td>\n",
       "      <td>False</td>\n",
       "      <td>0</td>\n",
       "      <td>0</td>\n",
       "      <td>1</td>\n",
       "    </tr>\n",
       "  </tbody>\n",
       "</table>\n",
       "</div>"
      ],
      "text/plain": [
       "   Administrative_Duration  Informational_Duration  ProductRelated  \\\n",
       "0                      0.0                     0.0               1   \n",
       "1                      0.0                     0.0               2   \n",
       "2                      0.0                     0.0               1   \n",
       "3                      0.0                     0.0               2   \n",
       "4                      0.0                     0.0              10   \n",
       "\n",
       "   BounceRates  ExitRates  PageValues  SpecialDay Month  OperatingSystems  \\\n",
       "0         0.20       0.20         0.0         0.0   Feb                 1   \n",
       "1         0.00       0.10         0.0         0.0   Feb                 2   \n",
       "2         0.20       0.20         0.0         0.0   Feb                 4   \n",
       "3         0.05       0.14         0.0         0.0   Feb                 3   \n",
       "4         0.02       0.05         0.0         0.0   Feb                 3   \n",
       "\n",
       "   Browser  Region  TrafficType        VisitorType  Weekend  Revenue  \\\n",
       "0        1       1            1  Returning_Visitor    False    False   \n",
       "1        2       1            2  Returning_Visitor    False    False   \n",
       "2        1       9            3  Returning_Visitor    False    False   \n",
       "3        2       2            4  Returning_Visitor    False    False   \n",
       "4        3       1            4  Returning_Visitor     True    False   \n",
       "\n",
       "   New_Visitor  Other  Returning_Visitor  \n",
       "0            0      0                  1  \n",
       "1            0      0                  1  \n",
       "2            0      0                  1  \n",
       "3            0      0                  1  \n",
       "4            0      0                  1  "
      ]
     },
     "execution_count": 17,
     "metadata": {},
     "output_type": "execute_result"
    }
   ],
   "source": [
    "visitor = pd.get_dummies(shope['VisitorType'])\n",
    "\n",
    "X = pd.concat([shope, visitor], axis=1)\n",
    "X.head()"
   ]
  },
  {
   "cell_type": "code",
   "execution_count": 18,
   "id": "102ee7bf",
   "metadata": {
    "execution": {
     "iopub.execute_input": "2022-03-15T10:46:09.784008Z",
     "iopub.status.busy": "2022-03-15T10:46:09.783097Z",
     "iopub.status.idle": "2022-03-15T10:46:09.786470Z",
     "shell.execute_reply": "2022-03-15T10:46:09.786979Z",
     "shell.execute_reply.started": "2022-03-15T10:39:17.090606Z"
    },
    "executionInfo": {
     "elapsed": 48,
     "status": "ok",
     "timestamp": 1622351987043,
     "user": {
      "displayName": "siddharth patra",
      "photoUrl": "https://lh3.googleusercontent.com/a-/AOh14Gjnwsdj5DKa95WHRl25dlQz9L1Bbc10vap4xTNIiA=s64",
      "userId": "01966341811263607507"
     },
     "user_tz": -330
    },
    "id": "fFviUSNseCFa",
    "outputId": "e11aa192-c944-4ed8-d14b-25d583a7cdaf",
    "papermill": {
     "duration": 0.049117,
     "end_time": "2022-03-15T10:46:09.787162",
     "exception": false,
     "start_time": "2022-03-15T10:46:09.738045",
     "status": "completed"
    },
    "tags": []
   },
   "outputs": [
    {
     "data": {
      "text/plain": [
       "Index(['Administrative_Duration', 'Informational_Duration', 'ProductRelated',\n",
       "       'BounceRates', 'ExitRates', 'PageValues', 'SpecialDay', 'Month',\n",
       "       'OperatingSystems', 'Browser', 'Region', 'TrafficType', 'VisitorType',\n",
       "       'Weekend', 'Revenue', 'New_Visitor', 'Other', 'Returning_Visitor'],\n",
       "      dtype='object')"
      ]
     },
     "execution_count": 18,
     "metadata": {},
     "output_type": "execute_result"
    }
   ],
   "source": [
    "# Now we have build some features and extracted some feature data, whats left is to remove redundant features\n",
    "X.columns"
   ]
  },
  {
   "cell_type": "code",
   "execution_count": 19,
   "id": "1b5c931e",
   "metadata": {
    "execution": {
     "iopub.execute_input": "2022-03-15T10:46:09.877156Z",
     "iopub.status.busy": "2022-03-15T10:46:09.876454Z",
     "iopub.status.idle": "2022-03-15T10:46:09.881828Z",
     "shell.execute_reply": "2022-03-15T10:46:09.881240Z",
     "shell.execute_reply.started": "2022-03-15T10:39:17.098109Z"
    },
    "executionInfo": {
     "elapsed": 45,
     "status": "ok",
     "timestamp": 1622351987044,
     "user": {
      "displayName": "siddharth patra",
      "photoUrl": "https://lh3.googleusercontent.com/a-/AOh14Gjnwsdj5DKa95WHRl25dlQz9L1Bbc10vap4xTNIiA=s64",
      "userId": "01966341811263607507"
     },
     "user_tz": -330
    },
    "id": "AEtkxyhYfdCl",
    "papermill": {
     "duration": 0.053804,
     "end_time": "2022-03-15T10:46:09.881989",
     "exception": false,
     "start_time": "2022-03-15T10:46:09.828185",
     "status": "completed"
    },
    "tags": []
   },
   "outputs": [],
   "source": [
    "y = X['Revenue']\n",
    "X_new = X.drop(['Revenue', 'Month', 'VisitorType'], axis = 1)"
   ]
  },
  {
   "cell_type": "code",
   "execution_count": 20,
   "id": "3a56350b",
   "metadata": {
    "execution": {
     "iopub.execute_input": "2022-03-15T10:46:09.971229Z",
     "iopub.status.busy": "2022-03-15T10:46:09.970305Z",
     "iopub.status.idle": "2022-03-15T10:46:09.973181Z",
     "shell.execute_reply": "2022-03-15T10:46:09.972670Z",
     "shell.execute_reply.started": "2022-03-15T10:39:17.113517Z"
    },
    "executionInfo": {
     "elapsed": 47,
     "status": "ok",
     "timestamp": 1622351987046,
     "user": {
      "displayName": "siddharth patra",
      "photoUrl": "https://lh3.googleusercontent.com/a-/AOh14Gjnwsdj5DKa95WHRl25dlQz9L1Bbc10vap4xTNIiA=s64",
      "userId": "01966341811263607507"
     },
     "user_tz": -330
    },
    "id": "cR32AEGTjtwJ",
    "papermill": {
     "duration": 0.049885,
     "end_time": "2022-03-15T10:46:09.973328",
     "exception": false,
     "start_time": "2022-03-15T10:46:09.923443",
     "status": "completed"
    },
    "tags": []
   },
   "outputs": [],
   "source": [
    "X_new['Weekend'] = np.asarray(X_new['Weekend']).astype(np.float32)\n",
    "\n",
    "y = np.asarray(y).astype(np.float32)"
   ]
  },
  {
   "cell_type": "code",
   "execution_count": 21,
   "id": "0f8def05",
   "metadata": {
    "execution": {
     "iopub.execute_input": "2022-03-15T10:46:10.062472Z",
     "iopub.status.busy": "2022-03-15T10:46:10.061503Z",
     "iopub.status.idle": "2022-03-15T10:46:10.065018Z",
     "shell.execute_reply": "2022-03-15T10:46:10.065459Z",
     "shell.execute_reply.started": "2022-03-15T10:39:17.124325Z"
    },
    "executionInfo": {
     "elapsed": 45,
     "status": "ok",
     "timestamp": 1622351987047,
     "user": {
      "displayName": "siddharth patra",
      "photoUrl": "https://lh3.googleusercontent.com/a-/AOh14Gjnwsdj5DKa95WHRl25dlQz9L1Bbc10vap4xTNIiA=s64",
      "userId": "01966341811263607507"
     },
     "user_tz": -330
    },
    "id": "sNUQjQZAj0HB",
    "outputId": "afee6ade-5a45-4e54-8046-212fdb8b3b70",
    "papermill": {
     "duration": 0.050253,
     "end_time": "2022-03-15T10:46:10.065662",
     "exception": false,
     "start_time": "2022-03-15T10:46:10.015409",
     "status": "completed"
    },
    "tags": []
   },
   "outputs": [
    {
     "data": {
      "text/plain": [
       "(12330,)"
      ]
     },
     "execution_count": 21,
     "metadata": {},
     "output_type": "execute_result"
    }
   ],
   "source": [
    "# The above code converts the boolean values to float type - actaully it converts all the data into float type. This has been done so that\n",
    "# the sequential model is able to build tensors out of them\n",
    "y.shape"
   ]
  },
  {
   "cell_type": "code",
   "execution_count": 22,
   "id": "cef88a17",
   "metadata": {
    "execution": {
     "iopub.execute_input": "2022-03-15T10:46:10.155035Z",
     "iopub.status.busy": "2022-03-15T10:46:10.153999Z",
     "iopub.status.idle": "2022-03-15T10:46:10.158486Z",
     "shell.execute_reply": "2022-03-15T10:46:10.157846Z",
     "shell.execute_reply.started": "2022-03-15T10:39:17.140050Z"
    },
    "executionInfo": {
     "elapsed": 44,
     "status": "ok",
     "timestamp": 1622351987048,
     "user": {
      "displayName": "siddharth patra",
      "photoUrl": "https://lh3.googleusercontent.com/a-/AOh14Gjnwsdj5DKa95WHRl25dlQz9L1Bbc10vap4xTNIiA=s64",
      "userId": "01966341811263607507"
     },
     "user_tz": -330
    },
    "id": "dok_EG_2k7Wk",
    "outputId": "94c9b341-3f66-45f3-dec2-7129c67924a0",
    "papermill": {
     "duration": 0.051573,
     "end_time": "2022-03-15T10:46:10.158655",
     "exception": false,
     "start_time": "2022-03-15T10:46:10.107082",
     "status": "completed"
    },
    "tags": []
   },
   "outputs": [
    {
     "data": {
      "text/plain": [
       "(12330, 15)"
      ]
     },
     "execution_count": 22,
     "metadata": {},
     "output_type": "execute_result"
    }
   ],
   "source": [
    "X_new.shape"
   ]
  },
  {
   "cell_type": "code",
   "execution_count": 23,
   "id": "7d742095",
   "metadata": {
    "execution": {
     "iopub.execute_input": "2022-03-15T10:46:10.251314Z",
     "iopub.status.busy": "2022-03-15T10:46:10.250584Z",
     "iopub.status.idle": "2022-03-15T10:46:10.349473Z",
     "shell.execute_reply": "2022-03-15T10:46:10.350054Z",
     "shell.execute_reply.started": "2022-03-15T10:39:17.152954Z"
    },
    "executionInfo": {
     "elapsed": 42,
     "status": "ok",
     "timestamp": 1622351987049,
     "user": {
      "displayName": "siddharth patra",
      "photoUrl": "https://lh3.googleusercontent.com/a-/AOh14Gjnwsdj5DKa95WHRl25dlQz9L1Bbc10vap4xTNIiA=s64",
      "userId": "01966341811263607507"
     },
     "user_tz": -330
    },
    "id": "l6mnMB36eCJv",
    "papermill": {
     "duration": 0.148946,
     "end_time": "2022-03-15T10:46:10.350231",
     "exception": false,
     "start_time": "2022-03-15T10:46:10.201285",
     "status": "completed"
    },
    "tags": []
   },
   "outputs": [
    {
     "name": "stderr",
     "output_type": "stream",
     "text": [
      "2022-03-15 10:46:10.295548: I tensorflow/core/common_runtime/process_util.cc:146] Creating new thread pool with default inter op setting: 2. Tune using inter_op_parallelism_threads for best performance.\n"
     ]
    }
   ],
   "source": [
    "model = Sequential()\n",
    "model.add(Dense(units=18,activation=\"relu\"))\n",
    "model.add(Dense(units=32,activation=\"relu\"))\n",
    "model.add(Dense(units=16,activation=\"relu\"))\n",
    "\n",
    "# Last layer for multi-class classification of 3 species\n",
    "model.add(Dense(units=2,activation=\"softmax\"))\n",
    "model.compile(optimizer='adam',loss='sparse_categorical_crossentropy',metrics=['accuracy'])"
   ]
  },
  {
   "cell_type": "code",
   "execution_count": 24,
   "id": "30ce1dcc",
   "metadata": {
    "execution": {
     "iopub.execute_input": "2022-03-15T10:46:10.444169Z",
     "iopub.status.busy": "2022-03-15T10:46:10.443178Z",
     "iopub.status.idle": "2022-03-15T10:47:28.617558Z",
     "shell.execute_reply": "2022-03-15T10:47:28.617008Z",
     "shell.execute_reply.started": "2022-03-15T10:39:17.261778Z"
    },
    "executionInfo": {
     "elapsed": 53767,
     "status": "ok",
     "timestamp": 1622352040776,
     "user": {
      "displayName": "siddharth patra",
      "photoUrl": "https://lh3.googleusercontent.com/a-/AOh14Gjnwsdj5DKa95WHRl25dlQz9L1Bbc10vap4xTNIiA=s64",
      "userId": "01966341811263607507"
     },
     "user_tz": -330
    },
    "id": "hoHdJrsxeCRd",
    "outputId": "3a514fdc-4af5-4df4-91b5-680321fb3c97",
    "papermill": {
     "duration": 78.226591,
     "end_time": "2022-03-15T10:47:28.617753",
     "exception": false,
     "start_time": "2022-03-15T10:46:10.391162",
     "status": "completed"
    },
    "tags": []
   },
   "outputs": [
    {
     "name": "stderr",
     "output_type": "stream",
     "text": [
      "2022-03-15 10:46:10.551464: I tensorflow/compiler/mlir/mlir_graph_optimization_pass.cc:185] None of the MLIR Optimization Passes are enabled (registered 2)\n"
     ]
    },
    {
     "name": "stdout",
     "output_type": "stream",
     "text": [
      "Epoch 1/100\n",
      "347/347 [==============================] - 2s 3ms/step - loss: 0.4479 - accuracy: 0.8605 - val_loss: 0.4425 - val_accuracy: 0.8232\n",
      "Epoch 2/100\n",
      "347/347 [==============================] - 1s 2ms/step - loss: 0.3115 - accuracy: 0.8801 - val_loss: 0.4538 - val_accuracy: 0.8297\n",
      "Epoch 3/100\n",
      "347/347 [==============================] - 1s 2ms/step - loss: 0.3075 - accuracy: 0.8819 - val_loss: 0.4134 - val_accuracy: 0.8256\n",
      "Epoch 4/100\n",
      "347/347 [==============================] - 1s 2ms/step - loss: 0.2905 - accuracy: 0.8829 - val_loss: 0.4016 - val_accuracy: 0.8305\n",
      "Epoch 5/100\n",
      "347/347 [==============================] - 1s 2ms/step - loss: 0.2862 - accuracy: 0.8868 - val_loss: 0.4058 - val_accuracy: 0.8248\n",
      "Epoch 6/100\n",
      "347/347 [==============================] - 1s 2ms/step - loss: 0.2920 - accuracy: 0.8874 - val_loss: 0.3964 - val_accuracy: 0.8264\n",
      "Epoch 7/100\n",
      "347/347 [==============================] - 1s 2ms/step - loss: 0.2752 - accuracy: 0.8874 - val_loss: 0.4043 - val_accuracy: 0.8378\n",
      "Epoch 8/100\n",
      "347/347 [==============================] - 1s 2ms/step - loss: 0.2674 - accuracy: 0.8948 - val_loss: 0.3992 - val_accuracy: 0.8345\n",
      "Epoch 9/100\n",
      "347/347 [==============================] - 1s 2ms/step - loss: 0.2715 - accuracy: 0.8927 - val_loss: 0.3932 - val_accuracy: 0.8362\n",
      "Epoch 10/100\n",
      "347/347 [==============================] - 1s 2ms/step - loss: 0.2589 - accuracy: 0.8942 - val_loss: 0.3937 - val_accuracy: 0.8410\n",
      "Epoch 11/100\n",
      "347/347 [==============================] - 1s 2ms/step - loss: 0.2626 - accuracy: 0.8955 - val_loss: 0.3998 - val_accuracy: 0.8370\n",
      "Epoch 12/100\n",
      "347/347 [==============================] - 1s 2ms/step - loss: 0.2556 - accuracy: 0.8937 - val_loss: 0.3826 - val_accuracy: 0.8394\n",
      "Epoch 13/100\n",
      "347/347 [==============================] - 1s 2ms/step - loss: 0.2522 - accuracy: 0.8965 - val_loss: 0.3715 - val_accuracy: 0.8402\n",
      "Epoch 14/100\n",
      "347/347 [==============================] - 1s 2ms/step - loss: 0.2537 - accuracy: 0.8956 - val_loss: 0.4343 - val_accuracy: 0.8418\n",
      "Epoch 15/100\n",
      "347/347 [==============================] - 1s 2ms/step - loss: 0.2558 - accuracy: 0.8964 - val_loss: 0.4085 - val_accuracy: 0.8394\n",
      "Epoch 16/100\n",
      "347/347 [==============================] - 1s 2ms/step - loss: 0.2565 - accuracy: 0.8962 - val_loss: 0.3751 - val_accuracy: 0.8459\n",
      "Epoch 17/100\n",
      "347/347 [==============================] - 1s 2ms/step - loss: 0.2474 - accuracy: 0.8972 - val_loss: 0.4510 - val_accuracy: 0.8329\n",
      "Epoch 18/100\n",
      "347/347 [==============================] - 1s 2ms/step - loss: 0.2520 - accuracy: 0.8974 - val_loss: 0.3729 - val_accuracy: 0.8410\n",
      "Epoch 19/100\n",
      "347/347 [==============================] - 1s 2ms/step - loss: 0.2516 - accuracy: 0.8966 - val_loss: 0.3715 - val_accuracy: 0.8427\n",
      "Epoch 20/100\n",
      "347/347 [==============================] - 1s 2ms/step - loss: 0.2473 - accuracy: 0.8974 - val_loss: 0.3688 - val_accuracy: 0.8435\n",
      "Epoch 21/100\n",
      "347/347 [==============================] - 1s 2ms/step - loss: 0.2453 - accuracy: 0.8975 - val_loss: 0.3775 - val_accuracy: 0.8337\n",
      "Epoch 22/100\n",
      "347/347 [==============================] - 1s 2ms/step - loss: 0.2431 - accuracy: 0.9006 - val_loss: 0.3816 - val_accuracy: 0.8467\n",
      "Epoch 23/100\n",
      "347/347 [==============================] - 1s 3ms/step - loss: 0.2433 - accuracy: 0.8996 - val_loss: 0.3815 - val_accuracy: 0.8427\n",
      "Epoch 24/100\n",
      "347/347 [==============================] - 1s 2ms/step - loss: 0.2444 - accuracy: 0.8983 - val_loss: 0.3700 - val_accuracy: 0.8418\n",
      "Epoch 25/100\n",
      "347/347 [==============================] - 1s 2ms/step - loss: 0.2447 - accuracy: 0.8986 - val_loss: 0.3673 - val_accuracy: 0.8467\n",
      "Epoch 26/100\n",
      "347/347 [==============================] - 1s 2ms/step - loss: 0.2444 - accuracy: 0.8996 - val_loss: 0.4061 - val_accuracy: 0.8402\n",
      "Epoch 27/100\n",
      "347/347 [==============================] - 1s 2ms/step - loss: 0.2389 - accuracy: 0.8990 - val_loss: 0.3886 - val_accuracy: 0.8491\n",
      "Epoch 28/100\n",
      "347/347 [==============================] - 1s 2ms/step - loss: 0.2427 - accuracy: 0.9015 - val_loss: 0.3845 - val_accuracy: 0.8459\n",
      "Epoch 29/100\n",
      "347/347 [==============================] - 1s 2ms/step - loss: 0.2380 - accuracy: 0.9004 - val_loss: 0.3740 - val_accuracy: 0.8443\n",
      "Epoch 30/100\n",
      "347/347 [==============================] - 1s 2ms/step - loss: 0.2397 - accuracy: 0.8984 - val_loss: 0.4068 - val_accuracy: 0.8370\n",
      "Epoch 31/100\n",
      "347/347 [==============================] - 1s 2ms/step - loss: 0.2391 - accuracy: 0.9002 - val_loss: 0.3735 - val_accuracy: 0.8370\n",
      "Epoch 32/100\n",
      "347/347 [==============================] - 1s 2ms/step - loss: 0.2384 - accuracy: 0.8992 - val_loss: 0.3798 - val_accuracy: 0.8410\n",
      "Epoch 33/100\n",
      "347/347 [==============================] - 1s 2ms/step - loss: 0.2387 - accuracy: 0.9008 - val_loss: 0.3686 - val_accuracy: 0.8378\n",
      "Epoch 34/100\n",
      "347/347 [==============================] - 1s 2ms/step - loss: 0.2355 - accuracy: 0.9009 - val_loss: 0.3741 - val_accuracy: 0.8394\n",
      "Epoch 35/100\n",
      "347/347 [==============================] - 1s 2ms/step - loss: 0.2378 - accuracy: 0.9012 - val_loss: 0.3774 - val_accuracy: 0.8467\n",
      "Epoch 36/100\n",
      "347/347 [==============================] - 1s 2ms/step - loss: 0.2367 - accuracy: 0.8990 - val_loss: 0.4015 - val_accuracy: 0.8321\n",
      "Epoch 37/100\n",
      "347/347 [==============================] - 1s 2ms/step - loss: 0.2345 - accuracy: 0.9020 - val_loss: 0.3949 - val_accuracy: 0.8410\n",
      "Epoch 38/100\n",
      "347/347 [==============================] - 1s 2ms/step - loss: 0.2352 - accuracy: 0.9003 - val_loss: 0.3731 - val_accuracy: 0.8459\n",
      "Epoch 39/100\n",
      "347/347 [==============================] - 1s 2ms/step - loss: 0.2344 - accuracy: 0.9007 - val_loss: 0.3682 - val_accuracy: 0.8410\n",
      "Epoch 40/100\n",
      "347/347 [==============================] - 1s 2ms/step - loss: 0.2338 - accuracy: 0.9019 - val_loss: 0.4086 - val_accuracy: 0.8491\n",
      "Epoch 41/100\n",
      "347/347 [==============================] - 1s 2ms/step - loss: 0.2343 - accuracy: 0.9002 - val_loss: 0.3819 - val_accuracy: 0.8459\n",
      "Epoch 42/100\n",
      "347/347 [==============================] - 1s 2ms/step - loss: 0.2322 - accuracy: 0.9014 - val_loss: 0.3927 - val_accuracy: 0.8427\n",
      "Epoch 43/100\n",
      "347/347 [==============================] - 1s 2ms/step - loss: 0.2332 - accuracy: 0.9029 - val_loss: 0.4003 - val_accuracy: 0.8418\n",
      "Epoch 44/100\n",
      "347/347 [==============================] - 1s 2ms/step - loss: 0.2337 - accuracy: 0.9021 - val_loss: 0.4003 - val_accuracy: 0.8410\n",
      "Epoch 45/100\n",
      "347/347 [==============================] - 1s 2ms/step - loss: 0.2326 - accuracy: 0.9013 - val_loss: 0.3689 - val_accuracy: 0.8427\n",
      "Epoch 46/100\n",
      "347/347 [==============================] - 1s 2ms/step - loss: 0.2311 - accuracy: 0.9040 - val_loss: 0.3797 - val_accuracy: 0.8418\n",
      "Epoch 47/100\n",
      "347/347 [==============================] - 1s 2ms/step - loss: 0.2321 - accuracy: 0.9034 - val_loss: 0.3875 - val_accuracy: 0.8508\n",
      "Epoch 48/100\n",
      "347/347 [==============================] - 1s 2ms/step - loss: 0.2313 - accuracy: 0.9022 - val_loss: 0.3819 - val_accuracy: 0.8491\n",
      "Epoch 49/100\n",
      "347/347 [==============================] - 1s 2ms/step - loss: 0.2304 - accuracy: 0.9008 - val_loss: 0.3745 - val_accuracy: 0.8410\n",
      "Epoch 50/100\n",
      "347/347 [==============================] - 1s 2ms/step - loss: 0.2303 - accuracy: 0.9010 - val_loss: 0.3699 - val_accuracy: 0.8435\n",
      "Epoch 51/100\n",
      "347/347 [==============================] - 1s 2ms/step - loss: 0.2302 - accuracy: 0.9016 - val_loss: 0.3678 - val_accuracy: 0.8394\n",
      "Epoch 52/100\n",
      "347/347 [==============================] - 1s 2ms/step - loss: 0.2304 - accuracy: 0.9015 - val_loss: 0.3802 - val_accuracy: 0.8354\n",
      "Epoch 53/100\n",
      "347/347 [==============================] - 1s 2ms/step - loss: 0.2282 - accuracy: 0.9012 - val_loss: 0.3831 - val_accuracy: 0.8394\n",
      "Epoch 54/100\n",
      "347/347 [==============================] - 1s 2ms/step - loss: 0.2279 - accuracy: 0.9006 - val_loss: 0.3892 - val_accuracy: 0.8459\n",
      "Epoch 55/100\n",
      "347/347 [==============================] - 1s 2ms/step - loss: 0.2306 - accuracy: 0.9030 - val_loss: 0.3785 - val_accuracy: 0.8467\n",
      "Epoch 56/100\n",
      "347/347 [==============================] - 1s 2ms/step - loss: 0.2281 - accuracy: 0.9034 - val_loss: 0.3773 - val_accuracy: 0.8410\n",
      "Epoch 57/100\n",
      "347/347 [==============================] - 1s 2ms/step - loss: 0.2291 - accuracy: 0.9021 - val_loss: 0.3942 - val_accuracy: 0.8443\n",
      "Epoch 58/100\n",
      "347/347 [==============================] - 1s 2ms/step - loss: 0.2269 - accuracy: 0.9027 - val_loss: 0.3882 - val_accuracy: 0.8418\n",
      "Epoch 59/100\n",
      "347/347 [==============================] - 1s 2ms/step - loss: 0.2266 - accuracy: 0.9028 - val_loss: 0.3830 - val_accuracy: 0.8459\n",
      "Epoch 60/100\n",
      "347/347 [==============================] - 1s 2ms/step - loss: 0.2254 - accuracy: 0.9012 - val_loss: 0.3829 - val_accuracy: 0.8467\n",
      "Epoch 61/100\n",
      "347/347 [==============================] - 1s 2ms/step - loss: 0.2280 - accuracy: 0.9029 - val_loss: 0.3952 - val_accuracy: 0.8443\n",
      "Epoch 62/100\n",
      "347/347 [==============================] - 1s 2ms/step - loss: 0.2255 - accuracy: 0.9020 - val_loss: 0.3925 - val_accuracy: 0.8362\n",
      "Epoch 63/100\n",
      "347/347 [==============================] - 1s 2ms/step - loss: 0.2272 - accuracy: 0.9043 - val_loss: 0.4196 - val_accuracy: 0.8354\n",
      "Epoch 64/100\n",
      "347/347 [==============================] - 1s 2ms/step - loss: 0.2289 - accuracy: 0.9034 - val_loss: 0.4029 - val_accuracy: 0.8451\n",
      "Epoch 65/100\n",
      "347/347 [==============================] - 1s 2ms/step - loss: 0.2258 - accuracy: 0.9019 - val_loss: 0.3828 - val_accuracy: 0.8451\n",
      "Epoch 66/100\n",
      "347/347 [==============================] - 1s 3ms/step - loss: 0.2246 - accuracy: 0.9036 - val_loss: 0.3818 - val_accuracy: 0.8435\n",
      "Epoch 67/100\n",
      "347/347 [==============================] - 1s 2ms/step - loss: 0.2238 - accuracy: 0.9048 - val_loss: 0.3882 - val_accuracy: 0.8483\n",
      "Epoch 68/100\n",
      "347/347 [==============================] - 1s 2ms/step - loss: 0.2236 - accuracy: 0.9022 - val_loss: 0.3857 - val_accuracy: 0.8443\n",
      "Epoch 69/100\n",
      "347/347 [==============================] - 1s 2ms/step - loss: 0.2230 - accuracy: 0.9034 - val_loss: 0.4180 - val_accuracy: 0.8345\n",
      "Epoch 70/100\n",
      "347/347 [==============================] - 1s 2ms/step - loss: 0.2232 - accuracy: 0.9036 - val_loss: 0.4081 - val_accuracy: 0.8378\n",
      "Epoch 71/100\n",
      "347/347 [==============================] - 1s 2ms/step - loss: 0.2226 - accuracy: 0.9048 - val_loss: 0.3991 - val_accuracy: 0.8427\n",
      "Epoch 72/100\n",
      "347/347 [==============================] - 1s 2ms/step - loss: 0.2224 - accuracy: 0.9057 - val_loss: 0.3793 - val_accuracy: 0.8459\n",
      "Epoch 73/100\n",
      "347/347 [==============================] - 1s 2ms/step - loss: 0.2225 - accuracy: 0.9032 - val_loss: 0.3910 - val_accuracy: 0.8467\n",
      "Epoch 74/100\n",
      "347/347 [==============================] - 1s 2ms/step - loss: 0.2202 - accuracy: 0.9057 - val_loss: 0.3963 - val_accuracy: 0.8467\n",
      "Epoch 75/100\n",
      "347/347 [==============================] - 1s 2ms/step - loss: 0.2205 - accuracy: 0.9051 - val_loss: 0.3989 - val_accuracy: 0.8435\n",
      "Epoch 76/100\n",
      "347/347 [==============================] - 1s 2ms/step - loss: 0.2215 - accuracy: 0.9050 - val_loss: 0.4046 - val_accuracy: 0.8451\n",
      "Epoch 77/100\n",
      "347/347 [==============================] - 1s 2ms/step - loss: 0.2226 - accuracy: 0.9029 - val_loss: 0.4019 - val_accuracy: 0.8427\n",
      "Epoch 78/100\n",
      "347/347 [==============================] - 1s 2ms/step - loss: 0.2229 - accuracy: 0.9030 - val_loss: 0.4081 - val_accuracy: 0.8459\n",
      "Epoch 79/100\n",
      "347/347 [==============================] - 1s 2ms/step - loss: 0.2213 - accuracy: 0.9034 - val_loss: 0.3903 - val_accuracy: 0.8410\n",
      "Epoch 80/100\n",
      "347/347 [==============================] - 1s 2ms/step - loss: 0.2219 - accuracy: 0.9024 - val_loss: 0.3991 - val_accuracy: 0.8337\n",
      "Epoch 81/100\n",
      "347/347 [==============================] - 1s 2ms/step - loss: 0.2203 - accuracy: 0.9035 - val_loss: 0.3977 - val_accuracy: 0.8516\n",
      "Epoch 82/100\n",
      "347/347 [==============================] - 1s 2ms/step - loss: 0.2216 - accuracy: 0.9055 - val_loss: 0.3926 - val_accuracy: 0.8475\n",
      "Epoch 83/100\n",
      "347/347 [==============================] - 1s 2ms/step - loss: 0.2199 - accuracy: 0.9044 - val_loss: 0.3939 - val_accuracy: 0.8418\n",
      "Epoch 84/100\n",
      "347/347 [==============================] - 1s 2ms/step - loss: 0.2190 - accuracy: 0.9050 - val_loss: 0.3820 - val_accuracy: 0.8435\n",
      "Epoch 85/100\n",
      "347/347 [==============================] - 1s 2ms/step - loss: 0.2198 - accuracy: 0.9054 - val_loss: 0.3854 - val_accuracy: 0.8427\n",
      "Epoch 86/100\n",
      "347/347 [==============================] - 1s 2ms/step - loss: 0.2183 - accuracy: 0.9041 - val_loss: 0.3951 - val_accuracy: 0.8435\n",
      "Epoch 87/100\n",
      "347/347 [==============================] - 1s 2ms/step - loss: 0.2191 - accuracy: 0.9047 - val_loss: 0.3904 - val_accuracy: 0.8354\n",
      "Epoch 88/100\n",
      "347/347 [==============================] - 1s 2ms/step - loss: 0.2203 - accuracy: 0.9046 - val_loss: 0.4008 - val_accuracy: 0.8410\n",
      "Epoch 89/100\n",
      "347/347 [==============================] - 1s 2ms/step - loss: 0.2174 - accuracy: 0.9049 - val_loss: 0.4210 - val_accuracy: 0.8402\n",
      "Epoch 90/100\n",
      "347/347 [==============================] - 1s 2ms/step - loss: 0.2192 - accuracy: 0.9046 - val_loss: 0.4017 - val_accuracy: 0.8402\n",
      "Epoch 91/100\n",
      "347/347 [==============================] - 1s 2ms/step - loss: 0.2170 - accuracy: 0.9065 - val_loss: 0.4030 - val_accuracy: 0.8362\n",
      "Epoch 92/100\n",
      "347/347 [==============================] - 1s 2ms/step - loss: 0.2171 - accuracy: 0.9061 - val_loss: 0.4178 - val_accuracy: 0.8418\n",
      "Epoch 93/100\n",
      "347/347 [==============================] - 1s 2ms/step - loss: 0.2181 - accuracy: 0.9032 - val_loss: 0.4039 - val_accuracy: 0.8451\n",
      "Epoch 94/100\n",
      "347/347 [==============================] - 1s 2ms/step - loss: 0.2165 - accuracy: 0.9075 - val_loss: 0.4240 - val_accuracy: 0.8483\n",
      "Epoch 95/100\n",
      "347/347 [==============================] - 1s 2ms/step - loss: 0.2166 - accuracy: 0.9046 - val_loss: 0.3967 - val_accuracy: 0.8321\n",
      "Epoch 96/100\n",
      "347/347 [==============================] - 1s 2ms/step - loss: 0.2207 - accuracy: 0.9076 - val_loss: 0.4132 - val_accuracy: 0.8435\n",
      "Epoch 97/100\n",
      "347/347 [==============================] - 1s 2ms/step - loss: 0.2171 - accuracy: 0.9049 - val_loss: 0.4026 - val_accuracy: 0.8427\n",
      "Epoch 98/100\n",
      "347/347 [==============================] - 1s 2ms/step - loss: 0.2176 - accuracy: 0.9071 - val_loss: 0.3909 - val_accuracy: 0.8467\n",
      "Epoch 99/100\n",
      "347/347 [==============================] - 1s 2ms/step - loss: 0.2159 - accuracy: 0.9062 - val_loss: 0.4024 - val_accuracy: 0.8410\n",
      "Epoch 100/100\n",
      "347/347 [==============================] - 1s 2ms/step - loss: 0.2159 - accuracy: 0.9057 - val_loss: 0.4381 - val_accuracy: 0.8443\n"
     ]
    },
    {
     "data": {
      "text/plain": [
       "<keras.callbacks.History at 0x7f5eb8b3bb50>"
      ]
     },
     "execution_count": 24,
     "metadata": {},
     "output_type": "execute_result"
    }
   ],
   "source": [
    "model.fit(X_new,y,epochs=100, validation_split=0.1)"
   ]
  },
  {
   "cell_type": "code",
   "execution_count": 25,
   "id": "3bb19a73",
   "metadata": {
    "execution": {
     "iopub.execute_input": "2022-03-15T10:47:29.812343Z",
     "iopub.status.busy": "2022-03-15T10:47:29.810794Z",
     "iopub.status.idle": "2022-03-15T10:47:29.837570Z",
     "shell.execute_reply": "2022-03-15T10:47:29.838155Z",
     "shell.execute_reply.started": "2022-03-15T10:44:34.716979Z"
    },
    "executionInfo": {
     "elapsed": 41,
     "status": "ok",
     "timestamp": 1622352040777,
     "user": {
      "displayName": "siddharth patra",
      "photoUrl": "https://lh3.googleusercontent.com/a-/AOh14Gjnwsdj5DKa95WHRl25dlQz9L1Bbc10vap4xTNIiA=s64",
      "userId": "01966341811263607507"
     },
     "user_tz": -330
    },
    "id": "DMO0_QN8eCZY",
    "papermill": {
     "duration": 0.629291,
     "end_time": "2022-03-15T10:47:29.838329",
     "exception": false,
     "start_time": "2022-03-15T10:47:29.209038",
     "status": "completed"
    },
    "tags": []
   },
   "outputs": [],
   "source": [
    "# Saving the model so we can use this in out web app.\n",
    "\n",
    "model.save(\"./final_shopper_model.h5\")"
   ]
  }
 ],
 "metadata": {
  "kernelspec": {
   "display_name": "Python 3",
   "language": "python",
   "name": "python3"
  },
  "language_info": {
   "codemirror_mode": {
    "name": "ipython",
    "version": 3
   },
   "file_extension": ".py",
   "mimetype": "text/x-python",
   "name": "python",
   "nbconvert_exporter": "python",
   "pygments_lexer": "ipython3",
   "version": "3.7.12"
  },
  "papermill": {
   "default_parameters": {},
   "duration": 105.809787,
   "end_time": "2022-03-15T10:47:33.699505",
   "environment_variables": {},
   "exception": null,
   "input_path": "__notebook__.ipynb",
   "output_path": "__notebook__.ipynb",
   "parameters": {},
   "start_time": "2022-03-15T10:45:47.889718",
   "version": "2.3.3"
  }
 },
 "nbformat": 4,
 "nbformat_minor": 5
}
