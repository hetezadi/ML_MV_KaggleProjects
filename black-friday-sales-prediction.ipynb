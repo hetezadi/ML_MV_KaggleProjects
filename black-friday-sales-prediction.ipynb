{
 "cells": [
  {
   "cell_type": "markdown",
   "id": "fef7a50a",
   "metadata": {
    "papermill": {
     "duration": 0.084183,
     "end_time": "2022-03-25T19:27:36.829078",
     "exception": false,
     "start_time": "2022-03-25T19:27:36.744895",
     "status": "completed"
    },
    "tags": []
   },
   "source": [
    "## Importing necessary libraries."
   ]
  },
  {
   "cell_type": "code",
   "execution_count": 1,
   "id": "cf2e9741",
   "metadata": {
    "execution": {
     "iopub.execute_input": "2022-03-25T19:27:37.008348Z",
     "iopub.status.busy": "2022-03-25T19:27:37.007638Z",
     "iopub.status.idle": "2022-03-25T19:27:38.490759Z",
     "shell.execute_reply": "2022-03-25T19:27:38.489868Z",
     "shell.execute_reply.started": "2022-03-25T19:18:23.682799Z"
    },
    "papermill": {
     "duration": 1.578406,
     "end_time": "2022-03-25T19:27:38.490938",
     "exception": false,
     "start_time": "2022-03-25T19:27:36.912532",
     "status": "completed"
    },
    "tags": []
   },
   "outputs": [],
   "source": [
    "import pandas as pd\n",
    "import numpy as np\n",
    "import seaborn as sns\n",
    "import matplotlib.pyplot as plt\n",
    "\n",
    "from sklearn.preprocessing import LabelEncoder\n",
    "from sklearn.preprocessing import StandardScaler\n",
    "from sklearn.model_selection import train_test_split\n",
    "from sklearn.linear_model import LinearRegression\n",
    "from sklearn.tree import DecisionTreeRegressor\n",
    "from sklearn.ensemble import RandomForestRegressor\n",
    "from sklearn import metrics\n",
    "from sklearn.metrics import mean_absolute_error,mean_squared_error,r2_score\n",
    "## The above libraries are needed for performing the machine learning and evaluating the machine learning models."
   ]
  },
  {
   "cell_type": "markdown",
   "id": "c46069f6",
   "metadata": {
    "papermill": {
     "duration": 0.081732,
     "end_time": "2022-03-25T19:27:38.656719",
     "exception": false,
     "start_time": "2022-03-25T19:27:38.574987",
     "status": "completed"
    },
    "tags": []
   },
   "source": [
    "## Loading the data."
   ]
  },
  {
   "cell_type": "code",
   "execution_count": 2,
   "id": "f067e4d9",
   "metadata": {
    "execution": {
     "iopub.execute_input": "2022-03-25T19:27:38.824272Z",
     "iopub.status.busy": "2022-03-25T19:27:38.823608Z",
     "iopub.status.idle": "2022-03-25T19:27:39.734776Z",
     "shell.execute_reply": "2022-03-25T19:27:39.735316Z",
     "shell.execute_reply.started": "2022-03-25T19:18:23.691166Z"
    },
    "papermill": {
     "duration": 0.996843,
     "end_time": "2022-03-25T19:27:39.735506",
     "exception": false,
     "start_time": "2022-03-25T19:27:38.738663",
     "status": "completed"
    },
    "tags": []
   },
   "outputs": [],
   "source": [
    "df=pd.read_csv('../input/black-friday-sales-prediction/train.csv')\n",
    "## Reading the data using pd.read_csv as the dataset is in the csv format."
   ]
  },
  {
   "cell_type": "code",
   "execution_count": 3,
   "id": "7520570e",
   "metadata": {
    "execution": {
     "iopub.execute_input": "2022-03-25T19:27:39.907797Z",
     "iopub.status.busy": "2022-03-25T19:27:39.906805Z",
     "iopub.status.idle": "2022-03-25T19:27:39.948409Z",
     "shell.execute_reply": "2022-03-25T19:27:39.947652Z",
     "shell.execute_reply.started": "2022-03-25T19:18:24.419291Z"
    },
    "papermill": {
     "duration": 0.129926,
     "end_time": "2022-03-25T19:27:39.948572",
     "exception": false,
     "start_time": "2022-03-25T19:27:39.818646",
     "status": "completed"
    },
    "tags": []
   },
   "outputs": [
    {
     "data": {
      "text/html": [
       "<div>\n",
       "<style scoped>\n",
       "    .dataframe tbody tr th:only-of-type {\n",
       "        vertical-align: middle;\n",
       "    }\n",
       "\n",
       "    .dataframe tbody tr th {\n",
       "        vertical-align: top;\n",
       "    }\n",
       "\n",
       "    .dataframe thead th {\n",
       "        text-align: right;\n",
       "    }\n",
       "</style>\n",
       "<table border=\"1\" class=\"dataframe\">\n",
       "  <thead>\n",
       "    <tr style=\"text-align: right;\">\n",
       "      <th></th>\n",
       "      <th>User_ID</th>\n",
       "      <th>Product_ID</th>\n",
       "      <th>Gender</th>\n",
       "      <th>Age</th>\n",
       "      <th>Occupation</th>\n",
       "      <th>City_Category</th>\n",
       "      <th>Stay_In_Current_City_Years</th>\n",
       "      <th>Marital_Status</th>\n",
       "      <th>Product_Category_1</th>\n",
       "      <th>Product_Category_2</th>\n",
       "      <th>Product_Category_3</th>\n",
       "      <th>Purchase</th>\n",
       "    </tr>\n",
       "  </thead>\n",
       "  <tbody>\n",
       "    <tr>\n",
       "      <th>0</th>\n",
       "      <td>1000001</td>\n",
       "      <td>P00069042</td>\n",
       "      <td>F</td>\n",
       "      <td>0-17</td>\n",
       "      <td>10</td>\n",
       "      <td>A</td>\n",
       "      <td>2</td>\n",
       "      <td>0</td>\n",
       "      <td>3</td>\n",
       "      <td>NaN</td>\n",
       "      <td>NaN</td>\n",
       "      <td>8370</td>\n",
       "    </tr>\n",
       "    <tr>\n",
       "      <th>1</th>\n",
       "      <td>1000001</td>\n",
       "      <td>P00248942</td>\n",
       "      <td>F</td>\n",
       "      <td>0-17</td>\n",
       "      <td>10</td>\n",
       "      <td>A</td>\n",
       "      <td>2</td>\n",
       "      <td>0</td>\n",
       "      <td>1</td>\n",
       "      <td>6.0</td>\n",
       "      <td>14.0</td>\n",
       "      <td>15200</td>\n",
       "    </tr>\n",
       "    <tr>\n",
       "      <th>2</th>\n",
       "      <td>1000001</td>\n",
       "      <td>P00087842</td>\n",
       "      <td>F</td>\n",
       "      <td>0-17</td>\n",
       "      <td>10</td>\n",
       "      <td>A</td>\n",
       "      <td>2</td>\n",
       "      <td>0</td>\n",
       "      <td>12</td>\n",
       "      <td>NaN</td>\n",
       "      <td>NaN</td>\n",
       "      <td>1422</td>\n",
       "    </tr>\n",
       "    <tr>\n",
       "      <th>3</th>\n",
       "      <td>1000001</td>\n",
       "      <td>P00085442</td>\n",
       "      <td>F</td>\n",
       "      <td>0-17</td>\n",
       "      <td>10</td>\n",
       "      <td>A</td>\n",
       "      <td>2</td>\n",
       "      <td>0</td>\n",
       "      <td>12</td>\n",
       "      <td>14.0</td>\n",
       "      <td>NaN</td>\n",
       "      <td>1057</td>\n",
       "    </tr>\n",
       "    <tr>\n",
       "      <th>4</th>\n",
       "      <td>1000002</td>\n",
       "      <td>P00285442</td>\n",
       "      <td>M</td>\n",
       "      <td>55+</td>\n",
       "      <td>16</td>\n",
       "      <td>C</td>\n",
       "      <td>4+</td>\n",
       "      <td>0</td>\n",
       "      <td>8</td>\n",
       "      <td>NaN</td>\n",
       "      <td>NaN</td>\n",
       "      <td>7969</td>\n",
       "    </tr>\n",
       "    <tr>\n",
       "      <th>...</th>\n",
       "      <td>...</td>\n",
       "      <td>...</td>\n",
       "      <td>...</td>\n",
       "      <td>...</td>\n",
       "      <td>...</td>\n",
       "      <td>...</td>\n",
       "      <td>...</td>\n",
       "      <td>...</td>\n",
       "      <td>...</td>\n",
       "      <td>...</td>\n",
       "      <td>...</td>\n",
       "      <td>...</td>\n",
       "    </tr>\n",
       "    <tr>\n",
       "      <th>550063</th>\n",
       "      <td>1006033</td>\n",
       "      <td>P00372445</td>\n",
       "      <td>M</td>\n",
       "      <td>51-55</td>\n",
       "      <td>13</td>\n",
       "      <td>B</td>\n",
       "      <td>1</td>\n",
       "      <td>1</td>\n",
       "      <td>20</td>\n",
       "      <td>NaN</td>\n",
       "      <td>NaN</td>\n",
       "      <td>368</td>\n",
       "    </tr>\n",
       "    <tr>\n",
       "      <th>550064</th>\n",
       "      <td>1006035</td>\n",
       "      <td>P00375436</td>\n",
       "      <td>F</td>\n",
       "      <td>26-35</td>\n",
       "      <td>1</td>\n",
       "      <td>C</td>\n",
       "      <td>3</td>\n",
       "      <td>0</td>\n",
       "      <td>20</td>\n",
       "      <td>NaN</td>\n",
       "      <td>NaN</td>\n",
       "      <td>371</td>\n",
       "    </tr>\n",
       "    <tr>\n",
       "      <th>550065</th>\n",
       "      <td>1006036</td>\n",
       "      <td>P00375436</td>\n",
       "      <td>F</td>\n",
       "      <td>26-35</td>\n",
       "      <td>15</td>\n",
       "      <td>B</td>\n",
       "      <td>4+</td>\n",
       "      <td>1</td>\n",
       "      <td>20</td>\n",
       "      <td>NaN</td>\n",
       "      <td>NaN</td>\n",
       "      <td>137</td>\n",
       "    </tr>\n",
       "    <tr>\n",
       "      <th>550066</th>\n",
       "      <td>1006038</td>\n",
       "      <td>P00375436</td>\n",
       "      <td>F</td>\n",
       "      <td>55+</td>\n",
       "      <td>1</td>\n",
       "      <td>C</td>\n",
       "      <td>2</td>\n",
       "      <td>0</td>\n",
       "      <td>20</td>\n",
       "      <td>NaN</td>\n",
       "      <td>NaN</td>\n",
       "      <td>365</td>\n",
       "    </tr>\n",
       "    <tr>\n",
       "      <th>550067</th>\n",
       "      <td>1006039</td>\n",
       "      <td>P00371644</td>\n",
       "      <td>F</td>\n",
       "      <td>46-50</td>\n",
       "      <td>0</td>\n",
       "      <td>B</td>\n",
       "      <td>4+</td>\n",
       "      <td>1</td>\n",
       "      <td>20</td>\n",
       "      <td>NaN</td>\n",
       "      <td>NaN</td>\n",
       "      <td>490</td>\n",
       "    </tr>\n",
       "  </tbody>\n",
       "</table>\n",
       "<p>550068 rows × 12 columns</p>\n",
       "</div>"
      ],
      "text/plain": [
       "        User_ID Product_ID Gender    Age  Occupation City_Category  \\\n",
       "0       1000001  P00069042      F   0-17          10             A   \n",
       "1       1000001  P00248942      F   0-17          10             A   \n",
       "2       1000001  P00087842      F   0-17          10             A   \n",
       "3       1000001  P00085442      F   0-17          10             A   \n",
       "4       1000002  P00285442      M    55+          16             C   \n",
       "...         ...        ...    ...    ...         ...           ...   \n",
       "550063  1006033  P00372445      M  51-55          13             B   \n",
       "550064  1006035  P00375436      F  26-35           1             C   \n",
       "550065  1006036  P00375436      F  26-35          15             B   \n",
       "550066  1006038  P00375436      F    55+           1             C   \n",
       "550067  1006039  P00371644      F  46-50           0             B   \n",
       "\n",
       "       Stay_In_Current_City_Years  Marital_Status  Product_Category_1  \\\n",
       "0                               2               0                   3   \n",
       "1                               2               0                   1   \n",
       "2                               2               0                  12   \n",
       "3                               2               0                  12   \n",
       "4                              4+               0                   8   \n",
       "...                           ...             ...                 ...   \n",
       "550063                          1               1                  20   \n",
       "550064                          3               0                  20   \n",
       "550065                         4+               1                  20   \n",
       "550066                          2               0                  20   \n",
       "550067                         4+               1                  20   \n",
       "\n",
       "        Product_Category_2  Product_Category_3  Purchase  \n",
       "0                      NaN                 NaN      8370  \n",
       "1                      6.0                14.0     15200  \n",
       "2                      NaN                 NaN      1422  \n",
       "3                     14.0                 NaN      1057  \n",
       "4                      NaN                 NaN      7969  \n",
       "...                    ...                 ...       ...  \n",
       "550063                 NaN                 NaN       368  \n",
       "550064                 NaN                 NaN       371  \n",
       "550065                 NaN                 NaN       137  \n",
       "550066                 NaN                 NaN       365  \n",
       "550067                 NaN                 NaN       490  \n",
       "\n",
       "[550068 rows x 12 columns]"
      ]
     },
     "execution_count": 3,
     "metadata": {},
     "output_type": "execute_result"
    }
   ],
   "source": [
    "df\n",
    "## Viewing the dataset."
   ]
  },
  {
   "cell_type": "code",
   "execution_count": 4,
   "id": "47edf629",
   "metadata": {
    "execution": {
     "iopub.execute_input": "2022-03-25T19:27:40.122188Z",
     "iopub.status.busy": "2022-03-25T19:27:40.121536Z",
     "iopub.status.idle": "2022-03-25T19:27:40.125464Z",
     "shell.execute_reply": "2022-03-25T19:27:40.124885Z",
     "shell.execute_reply.started": "2022-03-25T19:18:24.446722Z"
    },
    "papermill": {
     "duration": 0.091699,
     "end_time": "2022-03-25T19:27:40.125626",
     "exception": false,
     "start_time": "2022-03-25T19:27:40.033927",
     "status": "completed"
    },
    "tags": []
   },
   "outputs": [],
   "source": [
    "## The dataset has the following columns  User_ID, Product_ID, Gender, Age, Occupation, City_Category,\n",
    "## Stay_In_Current_City_Years, Marital_Status, Product_Category_1, Product_Category_2, Product_Category_3 and Purchase"
   ]
  },
  {
   "cell_type": "markdown",
   "id": "1cf86609",
   "metadata": {
    "papermill": {
     "duration": 0.083645,
     "end_time": "2022-03-25T19:27:40.292948",
     "exception": false,
     "start_time": "2022-03-25T19:27:40.209303",
     "status": "completed"
    },
    "tags": []
   },
   "source": [
    "## Data Understanding."
   ]
  },
  {
   "cell_type": "code",
   "execution_count": 5,
   "id": "ac5a3ab9",
   "metadata": {
    "execution": {
     "iopub.execute_input": "2022-03-25T19:27:40.464657Z",
     "iopub.status.busy": "2022-03-25T19:27:40.463674Z",
     "iopub.status.idle": "2022-03-25T19:27:40.468972Z",
     "shell.execute_reply": "2022-03-25T19:27:40.469578Z",
     "shell.execute_reply.started": "2022-03-25T19:18:24.458091Z"
    },
    "papermill": {
     "duration": 0.092801,
     "end_time": "2022-03-25T19:27:40.469752",
     "exception": false,
     "start_time": "2022-03-25T19:27:40.376951",
     "status": "completed"
    },
    "tags": []
   },
   "outputs": [
    {
     "data": {
      "text/plain": [
       "(550068, 12)"
      ]
     },
     "execution_count": 5,
     "metadata": {},
     "output_type": "execute_result"
    }
   ],
   "source": [
    "df.shape\n",
    "## The dataframe has 550068 rows and 12 columns."
   ]
  },
  {
   "cell_type": "code",
   "execution_count": 6,
   "id": "23541c0a",
   "metadata": {
    "execution": {
     "iopub.execute_input": "2022-03-25T19:27:40.648765Z",
     "iopub.status.busy": "2022-03-25T19:27:40.647492Z",
     "iopub.status.idle": "2022-03-25T19:27:40.802475Z",
     "shell.execute_reply": "2022-03-25T19:27:40.801971Z",
     "shell.execute_reply.started": "2022-03-25T19:18:24.471535Z"
    },
    "papermill": {
     "duration": 0.248998,
     "end_time": "2022-03-25T19:27:40.802622",
     "exception": false,
     "start_time": "2022-03-25T19:27:40.553624",
     "status": "completed"
    },
    "tags": []
   },
   "outputs": [
    {
     "data": {
      "text/html": [
       "<div>\n",
       "<style scoped>\n",
       "    .dataframe tbody tr th:only-of-type {\n",
       "        vertical-align: middle;\n",
       "    }\n",
       "\n",
       "    .dataframe tbody tr th {\n",
       "        vertical-align: top;\n",
       "    }\n",
       "\n",
       "    .dataframe thead th {\n",
       "        text-align: right;\n",
       "    }\n",
       "</style>\n",
       "<table border=\"1\" class=\"dataframe\">\n",
       "  <thead>\n",
       "    <tr style=\"text-align: right;\">\n",
       "      <th></th>\n",
       "      <th>User_ID</th>\n",
       "      <th>Occupation</th>\n",
       "      <th>Marital_Status</th>\n",
       "      <th>Product_Category_1</th>\n",
       "      <th>Product_Category_2</th>\n",
       "      <th>Product_Category_3</th>\n",
       "      <th>Purchase</th>\n",
       "    </tr>\n",
       "  </thead>\n",
       "  <tbody>\n",
       "    <tr>\n",
       "      <th>count</th>\n",
       "      <td>5.500680e+05</td>\n",
       "      <td>550068.000000</td>\n",
       "      <td>550068.000000</td>\n",
       "      <td>550068.000000</td>\n",
       "      <td>376430.000000</td>\n",
       "      <td>166821.000000</td>\n",
       "      <td>550068.000000</td>\n",
       "    </tr>\n",
       "    <tr>\n",
       "      <th>mean</th>\n",
       "      <td>1.003029e+06</td>\n",
       "      <td>8.076707</td>\n",
       "      <td>0.409653</td>\n",
       "      <td>5.404270</td>\n",
       "      <td>9.842329</td>\n",
       "      <td>12.668243</td>\n",
       "      <td>9263.968713</td>\n",
       "    </tr>\n",
       "    <tr>\n",
       "      <th>std</th>\n",
       "      <td>1.727592e+03</td>\n",
       "      <td>6.522660</td>\n",
       "      <td>0.491770</td>\n",
       "      <td>3.936211</td>\n",
       "      <td>5.086590</td>\n",
       "      <td>4.125338</td>\n",
       "      <td>5023.065394</td>\n",
       "    </tr>\n",
       "    <tr>\n",
       "      <th>min</th>\n",
       "      <td>1.000001e+06</td>\n",
       "      <td>0.000000</td>\n",
       "      <td>0.000000</td>\n",
       "      <td>1.000000</td>\n",
       "      <td>2.000000</td>\n",
       "      <td>3.000000</td>\n",
       "      <td>12.000000</td>\n",
       "    </tr>\n",
       "    <tr>\n",
       "      <th>25%</th>\n",
       "      <td>1.001516e+06</td>\n",
       "      <td>2.000000</td>\n",
       "      <td>0.000000</td>\n",
       "      <td>1.000000</td>\n",
       "      <td>5.000000</td>\n",
       "      <td>9.000000</td>\n",
       "      <td>5823.000000</td>\n",
       "    </tr>\n",
       "    <tr>\n",
       "      <th>50%</th>\n",
       "      <td>1.003077e+06</td>\n",
       "      <td>7.000000</td>\n",
       "      <td>0.000000</td>\n",
       "      <td>5.000000</td>\n",
       "      <td>9.000000</td>\n",
       "      <td>14.000000</td>\n",
       "      <td>8047.000000</td>\n",
       "    </tr>\n",
       "    <tr>\n",
       "      <th>75%</th>\n",
       "      <td>1.004478e+06</td>\n",
       "      <td>14.000000</td>\n",
       "      <td>1.000000</td>\n",
       "      <td>8.000000</td>\n",
       "      <td>15.000000</td>\n",
       "      <td>16.000000</td>\n",
       "      <td>12054.000000</td>\n",
       "    </tr>\n",
       "    <tr>\n",
       "      <th>max</th>\n",
       "      <td>1.006040e+06</td>\n",
       "      <td>20.000000</td>\n",
       "      <td>1.000000</td>\n",
       "      <td>20.000000</td>\n",
       "      <td>18.000000</td>\n",
       "      <td>18.000000</td>\n",
       "      <td>23961.000000</td>\n",
       "    </tr>\n",
       "  </tbody>\n",
       "</table>\n",
       "</div>"
      ],
      "text/plain": [
       "            User_ID     Occupation  Marital_Status  Product_Category_1  \\\n",
       "count  5.500680e+05  550068.000000   550068.000000       550068.000000   \n",
       "mean   1.003029e+06       8.076707        0.409653            5.404270   \n",
       "std    1.727592e+03       6.522660        0.491770            3.936211   \n",
       "min    1.000001e+06       0.000000        0.000000            1.000000   \n",
       "25%    1.001516e+06       2.000000        0.000000            1.000000   \n",
       "50%    1.003077e+06       7.000000        0.000000            5.000000   \n",
       "75%    1.004478e+06      14.000000        1.000000            8.000000   \n",
       "max    1.006040e+06      20.000000        1.000000           20.000000   \n",
       "\n",
       "       Product_Category_2  Product_Category_3       Purchase  \n",
       "count       376430.000000       166821.000000  550068.000000  \n",
       "mean             9.842329           12.668243    9263.968713  \n",
       "std              5.086590            4.125338    5023.065394  \n",
       "min              2.000000            3.000000      12.000000  \n",
       "25%              5.000000            9.000000    5823.000000  \n",
       "50%              9.000000           14.000000    8047.000000  \n",
       "75%             15.000000           16.000000   12054.000000  \n",
       "max             18.000000           18.000000   23961.000000  "
      ]
     },
     "execution_count": 6,
     "metadata": {},
     "output_type": "execute_result"
    }
   ],
   "source": [
    "df.describe()\n",
    "## The describe function shows us the descriptive statistics of our data and the shape of dataset distribution "
   ]
  },
  {
   "cell_type": "code",
   "execution_count": 7,
   "id": "4543df62",
   "metadata": {
    "execution": {
     "iopub.execute_input": "2022-03-25T19:27:40.979799Z",
     "iopub.status.busy": "2022-03-25T19:27:40.979064Z",
     "iopub.status.idle": "2022-03-25T19:27:41.288709Z",
     "shell.execute_reply": "2022-03-25T19:27:41.288161Z",
     "shell.execute_reply.started": "2022-03-25T19:18:24.629091Z"
    },
    "papermill": {
     "duration": 0.400722,
     "end_time": "2022-03-25T19:27:41.288846",
     "exception": false,
     "start_time": "2022-03-25T19:27:40.888124",
     "status": "completed"
    },
    "tags": []
   },
   "outputs": [
    {
     "name": "stdout",
     "output_type": "stream",
     "text": [
      "<class 'pandas.core.frame.DataFrame'>\n",
      "RangeIndex: 550068 entries, 0 to 550067\n",
      "Data columns (total 12 columns):\n",
      " #   Column                      Non-Null Count   Dtype  \n",
      "---  ------                      --------------   -----  \n",
      " 0   User_ID                     550068 non-null  int64  \n",
      " 1   Product_ID                  550068 non-null  object \n",
      " 2   Gender                      550068 non-null  object \n",
      " 3   Age                         550068 non-null  object \n",
      " 4   Occupation                  550068 non-null  int64  \n",
      " 5   City_Category               550068 non-null  object \n",
      " 6   Stay_In_Current_City_Years  550068 non-null  object \n",
      " 7   Marital_Status              550068 non-null  int64  \n",
      " 8   Product_Category_1          550068 non-null  int64  \n",
      " 9   Product_Category_2          376430 non-null  float64\n",
      " 10  Product_Category_3          166821 non-null  float64\n",
      " 11  Purchase                    550068 non-null  int64  \n",
      "dtypes: float64(2), int64(5), object(5)\n",
      "memory usage: 50.4+ MB\n"
     ]
    }
   ],
   "source": [
    "df.info()\n",
    "## Using the info function we can see below that there are a few null values present in Product_Category_3 column\n",
    "## And we can also see the types of variables present in these columns.            "
   ]
  },
  {
   "cell_type": "code",
   "execution_count": 8,
   "id": "30ae1595",
   "metadata": {
    "execution": {
     "iopub.execute_input": "2022-03-25T19:27:41.464661Z",
     "iopub.status.busy": "2022-03-25T19:27:41.464011Z",
     "iopub.status.idle": "2022-03-25T19:27:41.768131Z",
     "shell.execute_reply": "2022-03-25T19:27:41.767633Z",
     "shell.execute_reply.started": "2022-03-25T19:18:24.943937Z"
    },
    "papermill": {
     "duration": 0.393414,
     "end_time": "2022-03-25T19:27:41.768288",
     "exception": false,
     "start_time": "2022-03-25T19:27:41.374874",
     "status": "completed"
    },
    "tags": []
   },
   "outputs": [
    {
     "data": {
      "text/plain": [
       "User_ID                            0\n",
       "Product_ID                         0\n",
       "Gender                             0\n",
       "Age                                0\n",
       "Occupation                         0\n",
       "City_Category                      0\n",
       "Stay_In_Current_City_Years         0\n",
       "Marital_Status                     0\n",
       "Product_Category_1                 0\n",
       "Product_Category_2            173638\n",
       "Product_Category_3            383247\n",
       "Purchase                           0\n",
       "dtype: int64"
      ]
     },
     "execution_count": 8,
     "metadata": {},
     "output_type": "execute_result"
    }
   ],
   "source": [
    "df.isnull().sum()\n",
    "## The isnull().sum() function will help in finding all the null values present in the columns \n",
    "## There are 173638 missing values and 383247 missing values in the Product_category_2 and Product_category_3 columns"
   ]
  },
  {
   "cell_type": "markdown",
   "id": "8e7c3bd9",
   "metadata": {
    "papermill": {
     "duration": 0.088826,
     "end_time": "2022-03-25T19:27:41.944383",
     "exception": false,
     "start_time": "2022-03-25T19:27:41.855557",
     "status": "completed"
    },
    "tags": []
   },
   "source": [
    "## Data Visualization"
   ]
  },
  {
   "cell_type": "code",
   "execution_count": 9,
   "id": "cf8603ae",
   "metadata": {
    "execution": {
     "iopub.execute_input": "2022-03-25T19:27:42.119840Z",
     "iopub.status.busy": "2022-03-25T19:27:42.119183Z",
     "iopub.status.idle": "2022-03-25T19:27:42.122724Z",
     "shell.execute_reply": "2022-03-25T19:27:42.123211Z",
     "shell.execute_reply.started": "2022-03-25T19:18:25.252137Z"
    },
    "papermill": {
     "duration": 0.093004,
     "end_time": "2022-03-25T19:27:42.123390",
     "exception": false,
     "start_time": "2022-03-25T19:27:42.030386",
     "status": "completed"
    },
    "tags": []
   },
   "outputs": [],
   "source": [
    "## The countplot shows the occurrences of the gender in the dataset."
   ]
  },
  {
   "cell_type": "code",
   "execution_count": 10,
   "id": "85ec68c5",
   "metadata": {
    "execution": {
     "iopub.execute_input": "2022-03-25T19:27:42.297504Z",
     "iopub.status.busy": "2022-03-25T19:27:42.296794Z",
     "iopub.status.idle": "2022-03-25T19:27:43.142311Z",
     "shell.execute_reply": "2022-03-25T19:27:43.142823Z",
     "shell.execute_reply.started": "2022-03-25T19:18:25.257657Z"
    },
    "papermill": {
     "duration": 0.934277,
     "end_time": "2022-03-25T19:27:43.143012",
     "exception": false,
     "start_time": "2022-03-25T19:27:42.208735",
     "status": "completed"
    },
    "tags": []
   },
   "outputs": [
    {
     "data": {
      "text/plain": [
       "<AxesSubplot:xlabel='Gender', ylabel='count'>"
      ]
     },
     "execution_count": 10,
     "metadata": {},
     "output_type": "execute_result"
    },
    {
     "data": {
      "image/png": "[encoded data removed]",
      "text/plain": [
       "<Figure size 720x432 with 1 Axes>"
      ]
     },
     "metadata": {
      "needs_background": "light"
     },
     "output_type": "display_data"
    }
   ],
   "source": [
    "plt.figure(figsize=(10, 6))\n",
    "sns.countplot(data=df, x='Gender', palette='mako')\n",
    "## The count of Male gender is higher as compared to the female."
   ]
  },
  {
   "cell_type": "code",
   "execution_count": 11,
   "id": "8b785000",
   "metadata": {
    "execution": {
     "iopub.execute_input": "2022-03-25T19:27:43.319792Z",
     "iopub.status.busy": "2022-03-25T19:27:43.319115Z",
     "iopub.status.idle": "2022-03-25T19:27:52.702329Z",
     "shell.execute_reply": "2022-03-25T19:27:52.702817Z",
     "shell.execute_reply.started": "2022-03-25T19:18:26.076637Z"
    },
    "papermill": {
     "duration": 9.474171,
     "end_time": "2022-03-25T19:27:52.703003",
     "exception": false,
     "start_time": "2022-03-25T19:27:43.228832",
     "status": "completed"
    },
    "tags": []
   },
   "outputs": [
    {
     "data": {
      "text/plain": [
       "<AxesSubplot:xlabel='Gender', ylabel='Marital_Status'>"
      ]
     },
     "execution_count": 11,
     "metadata": {},
     "output_type": "execute_result"
    },
    {
     "data": {
      "image/png": "[encoded data removed]",
      "text/plain": [
       "<Figure size 720x432 with 1 Axes>"
      ]
     },
     "metadata": {
      "needs_background": "light"
     },
     "output_type": "display_data"
    }
   ],
   "source": [
    "plt.figure(figsize=(10, 6))\n",
    "sns.barplot(x='Gender',y='Marital_Status',data=df)\n",
    "## The below visualization shows us that the female gender is slightly higher compared to the male gender."
   ]
  },
  {
   "cell_type": "code",
   "execution_count": 12,
   "id": "12a5c154",
   "metadata": {
    "execution": {
     "iopub.execute_input": "2022-03-25T19:27:52.885445Z",
     "iopub.status.busy": "2022-03-25T19:27:52.884733Z",
     "iopub.status.idle": "2022-03-25T19:28:03.174021Z",
     "shell.execute_reply": "2022-03-25T19:28:03.174516Z",
     "shell.execute_reply.started": "2022-03-25T19:18:36.148820Z"
    },
    "papermill": {
     "duration": 10.382387,
     "end_time": "2022-03-25T19:28:03.174684",
     "exception": false,
     "start_time": "2022-03-25T19:27:52.792297",
     "status": "completed"
    },
    "tags": []
   },
   "outputs": [
    {
     "data": {
      "text/plain": [
       "<AxesSubplot:xlabel='Gender', ylabel='Purchase'>"
      ]
     },
     "execution_count": 12,
     "metadata": {},
     "output_type": "execute_result"
    },
    {
     "data": {
      "image/png": "[encoded data removed]",
      "text/plain": [
       "<Figure size 720x432 with 1 Axes>"
      ]
     },
     "metadata": {
      "needs_background": "light"
     },
     "output_type": "display_data"
    }
   ],
   "source": [
    "plt.figure(figsize=(10, 6))\n",
    "sns.barplot(x='Gender',y='Purchase',data=df)\n",
    "## Higher purchases have been done by the male gender as compared to the female."
   ]
  },
  {
   "cell_type": "code",
   "execution_count": 13,
   "id": "6774a013",
   "metadata": {
    "execution": {
     "iopub.execute_input": "2022-03-25T19:28:03.355718Z",
     "iopub.status.busy": "2022-03-25T19:28:03.355103Z",
     "iopub.status.idle": "2022-03-25T19:28:10.534203Z",
     "shell.execute_reply": "2022-03-25T19:28:10.533539Z",
     "shell.execute_reply.started": "2022-03-25T19:18:46.596305Z"
    },
    "papermill": {
     "duration": 7.270283,
     "end_time": "2022-03-25T19:28:10.534381",
     "exception": false,
     "start_time": "2022-03-25T19:28:03.264098",
     "status": "completed"
    },
    "tags": []
   },
   "outputs": [
    {
     "data": {
      "image/png": "[encoded data removed]",
      "text/plain": [
       "<Figure size 720x432 with 1 Axes>"
      ]
     },
     "metadata": {
      "needs_background": "light"
     },
     "output_type": "display_data"
    }
   ],
   "source": [
    "plt.figure(figsize=(10, 6))\n",
    "sns.barplot(x='Occupation',y='Purchase',data=df);\n",
    "## Occupation has a direct effect on the purchases done by the customer and the occupation codes 12,15,17 have higher purchases."
   ]
  },
  {
   "cell_type": "code",
   "execution_count": 14,
   "id": "d229aa11",
   "metadata": {
    "execution": {
     "iopub.execute_input": "2022-03-25T19:28:10.732917Z",
     "iopub.status.busy": "2022-03-25T19:28:10.731705Z",
     "iopub.status.idle": "2022-03-25T19:28:19.069933Z",
     "shell.execute_reply": "2022-03-25T19:28:19.069198Z",
     "shell.execute_reply.started": "2022-03-25T19:18:53.655802Z"
    },
    "papermill": {
     "duration": 8.442188,
     "end_time": "2022-03-25T19:28:19.070083",
     "exception": false,
     "start_time": "2022-03-25T19:28:10.627895",
     "status": "completed"
    },
    "tags": []
   },
   "outputs": [
    {
     "data": {
      "text/plain": [
       "<AxesSubplot:xlabel='Occupation', ylabel='Purchase'>"
      ]
     },
     "execution_count": 14,
     "metadata": {},
     "output_type": "execute_result"
    },
    {
     "data": {
      "image/png": "[encoded data removed]",
      "text/plain": [
       "<Figure size 720x432 with 1 Axes>"
      ]
     },
     "metadata": {
      "needs_background": "light"
     },
     "output_type": "display_data"
    }
   ],
   "source": [
    "plt.figure(figsize=(10, 6))\n",
    "sns.barplot(x='Occupation',y='Purchase',hue='Gender',data=df)\n",
    "## In this graph it can be seen that the female gender in the occupation 18 with higher purchases compared to others."
   ]
  },
  {
   "cell_type": "markdown",
   "id": "8ddcff24",
   "metadata": {
    "papermill": {
     "duration": 0.094373,
     "end_time": "2022-03-25T19:28:19.260544",
     "exception": false,
     "start_time": "2022-03-25T19:28:19.166171",
     "status": "completed"
    },
    "tags": []
   },
   "source": [
    "# Outlier Detection."
   ]
  },
  {
   "cell_type": "markdown",
   "id": "83341cc2",
   "metadata": {
    "papermill": {
     "duration": 0.091832,
     "end_time": "2022-03-25T19:28:19.447725",
     "exception": false,
     "start_time": "2022-03-25T19:28:19.355893",
     "status": "completed"
    },
    "tags": []
   },
   "source": [
    "## Checking the presence of outliers using BoxPlot."
   ]
  },
  {
   "cell_type": "code",
   "execution_count": 15,
   "id": "70f4eb62",
   "metadata": {
    "execution": {
     "iopub.execute_input": "2022-03-25T19:28:19.641039Z",
     "iopub.status.busy": "2022-03-25T19:28:19.639574Z",
     "iopub.status.idle": "2022-03-25T19:28:20.242379Z",
     "shell.execute_reply": "2022-03-25T19:28:20.242954Z",
     "shell.execute_reply.started": "2022-03-25T19:19:01.936147Z"
    },
    "papermill": {
     "duration": 0.702333,
     "end_time": "2022-03-25T19:28:20.243142",
     "exception": false,
     "start_time": "2022-03-25T19:28:19.540809",
     "status": "completed"
    },
    "tags": []
   },
   "outputs": [
    {
     "data": {
      "text/plain": [
       "<AxesSubplot:xlabel='Gender', ylabel='Purchase'>"
      ]
     },
     "execution_count": 15,
     "metadata": {},
     "output_type": "execute_result"
    },
    {
     "data": {
      "image/png": "[encoded data removed]",
      "text/plain": [
       "<Figure size 720x432 with 1 Axes>"
      ]
     },
     "metadata": {
      "needs_background": "light"
     },
     "output_type": "display_data"
    }
   ],
   "source": [
    "plt.figure(figsize=(10, 6))\n",
    "sns.boxplot(data=df, x=\"Gender\", y=\"Purchase\")\n",
    "## Using boxplot we can detect the presence of outliers in the data."
   ]
  },
  {
   "cell_type": "code",
   "execution_count": 16,
   "id": "a0c10ae7",
   "metadata": {
    "execution": {
     "iopub.execute_input": "2022-03-25T19:28:20.437032Z",
     "iopub.status.busy": "2022-03-25T19:28:20.435887Z",
     "iopub.status.idle": "2022-03-25T19:28:21.144280Z",
     "shell.execute_reply": "2022-03-25T19:28:21.144818Z",
     "shell.execute_reply.started": "2022-03-25T19:19:02.560726Z"
    },
    "papermill": {
     "duration": 0.80622,
     "end_time": "2022-03-25T19:28:21.144995",
     "exception": false,
     "start_time": "2022-03-25T19:28:20.338775",
     "status": "completed"
    },
    "tags": []
   },
   "outputs": [
    {
     "data": {
      "text/plain": [
       "<AxesSubplot:xlabel='Occupation', ylabel='Purchase'>"
      ]
     },
     "execution_count": 16,
     "metadata": {},
     "output_type": "execute_result"
    },
    {
     "data": {
      "image/png": "[encoded data removed]",
      "text/plain": [
       "<Figure size 720x432 with 1 Axes>"
      ]
     },
     "metadata": {
      "needs_background": "light"
     },
     "output_type": "display_data"
    }
   ],
   "source": [
    "plt.figure(figsize=(10, 6))\n",
    "sns.boxplot(data=df, x=\"Occupation\", y=\"Purchase\")\n",
    "## The purchase column has outliers which may effect the performance of the machine learning models."
   ]
  },
  {
   "cell_type": "markdown",
   "id": "fc6f0c3a",
   "metadata": {
    "papermill": {
     "duration": 0.094837,
     "end_time": "2022-03-25T19:28:21.333659",
     "exception": false,
     "start_time": "2022-03-25T19:28:21.238822",
     "status": "completed"
    },
    "tags": []
   },
   "source": [
    "## As we can see above there are outliers present in the Purchase column."
   ]
  },
  {
   "cell_type": "code",
   "execution_count": 17,
   "id": "fb82a2c9",
   "metadata": {
    "execution": {
     "iopub.execute_input": "2022-03-25T19:28:21.527216Z",
     "iopub.status.busy": "2022-03-25T19:28:21.526157Z",
     "iopub.status.idle": "2022-03-25T19:28:22.206439Z",
     "shell.execute_reply": "2022-03-25T19:28:22.205465Z",
     "shell.execute_reply.started": "2022-03-25T19:19:03.186642Z"
    },
    "papermill": {
     "duration": 0.779378,
     "end_time": "2022-03-25T19:28:22.206594",
     "exception": false,
     "start_time": "2022-03-25T19:28:21.427216",
     "status": "completed"
    },
    "tags": []
   },
   "outputs": [
    {
     "data": {
      "text/plain": [
       "<AxesSubplot:xlabel='Age', ylabel='Purchase'>"
      ]
     },
     "execution_count": 17,
     "metadata": {},
     "output_type": "execute_result"
    },
    {
     "data": {
      "image/png": "[encoded data removed]",
      "text/plain": [
       "<Figure size 720x432 with 1 Axes>"
      ]
     },
     "metadata": {
      "needs_background": "light"
     },
     "output_type": "display_data"
    }
   ],
   "source": [
    "plt.figure(figsize=(10, 6))\n",
    "sns.boxplot(data=df, x=\"Age\", y=\"Purchase\")\n",
    "## We can see below that the Age with Purchases again have some outliers present in them."
   ]
  },
  {
   "cell_type": "code",
   "execution_count": 18,
   "id": "c1e6b43d",
   "metadata": {
    "execution": {
     "iopub.execute_input": "2022-03-25T19:28:22.404316Z",
     "iopub.status.busy": "2022-03-25T19:28:22.403615Z",
     "iopub.status.idle": "2022-03-25T19:28:23.028803Z",
     "shell.execute_reply": "2022-03-25T19:28:23.028206Z",
     "shell.execute_reply.started": "2022-03-25T19:19:03.904013Z"
    },
    "papermill": {
     "duration": 0.72688,
     "end_time": "2022-03-25T19:28:23.028962",
     "exception": false,
     "start_time": "2022-03-25T19:28:22.302082",
     "status": "completed"
    },
    "tags": []
   },
   "outputs": [
    {
     "data": {
      "text/plain": [
       "<AxesSubplot:xlabel='Product_Category_1', ylabel='Purchase'>"
      ]
     },
     "execution_count": 18,
     "metadata": {},
     "output_type": "execute_result"
    },
    {
     "data": {
      "image/png": "[encoded data removed]",
      "text/plain": [
       "<Figure size 720x432 with 1 Axes>"
      ]
     },
     "metadata": {
      "needs_background": "light"
     },
     "output_type": "display_data"
    }
   ],
   "source": [
    "plt.figure(figsize=(10, 6))\n",
    "sns.boxplot(data=df, x=\"Product_Category_1\", y=\"Purchase\")\n",
    "## There are outliers present in the Product category as well."
   ]
  },
  {
   "cell_type": "markdown",
   "id": "4345d264",
   "metadata": {
    "papermill": {
     "duration": 0.097681,
     "end_time": "2022-03-25T19:28:23.225923",
     "exception": false,
     "start_time": "2022-03-25T19:28:23.128242",
     "status": "completed"
    },
    "tags": []
   },
   "source": [
    "## Data preprocessing"
   ]
  },
  {
   "cell_type": "code",
   "execution_count": 19,
   "id": "46256760",
   "metadata": {
    "execution": {
     "iopub.execute_input": "2022-03-25T19:28:23.425030Z",
     "iopub.status.busy": "2022-03-25T19:28:23.423844Z",
     "iopub.status.idle": "2022-03-25T19:28:23.428013Z",
     "shell.execute_reply": "2022-03-25T19:28:23.427478Z",
     "shell.execute_reply.started": "2022-03-25T19:19:04.552019Z"
    },
    "papermill": {
     "duration": 0.105298,
     "end_time": "2022-03-25T19:28:23.428163",
     "exception": false,
     "start_time": "2022-03-25T19:28:23.322865",
     "status": "completed"
    },
    "tags": []
   },
   "outputs": [],
   "source": [
    "## Data preprocessing is a data mining technique which is used to transform the raw data in a useful and efficient format."
   ]
  },
  {
   "cell_type": "code",
   "execution_count": 20,
   "id": "8171aea0",
   "metadata": {
    "execution": {
     "iopub.execute_input": "2022-03-25T19:28:23.632512Z",
     "iopub.status.busy": "2022-03-25T19:28:23.631803Z",
     "iopub.status.idle": "2022-03-25T19:28:23.649551Z",
     "shell.execute_reply": "2022-03-25T19:28:23.650106Z",
     "shell.execute_reply.started": "2022-03-25T19:19:04.557911Z"
    },
    "papermill": {
     "duration": 0.124325,
     "end_time": "2022-03-25T19:28:23.650307",
     "exception": false,
     "start_time": "2022-03-25T19:28:23.525982",
     "status": "completed"
    },
    "tags": []
   },
   "outputs": [
    {
     "data": {
      "text/html": [
       "<div>\n",
       "<style scoped>\n",
       "    .dataframe tbody tr th:only-of-type {\n",
       "        vertical-align: middle;\n",
       "    }\n",
       "\n",
       "    .dataframe tbody tr th {\n",
       "        vertical-align: top;\n",
       "    }\n",
       "\n",
       "    .dataframe thead th {\n",
       "        text-align: right;\n",
       "    }\n",
       "</style>\n",
       "<table border=\"1\" class=\"dataframe\">\n",
       "  <thead>\n",
       "    <tr style=\"text-align: right;\">\n",
       "      <th></th>\n",
       "      <th>User_ID</th>\n",
       "      <th>Product_ID</th>\n",
       "      <th>Gender</th>\n",
       "      <th>Age</th>\n",
       "      <th>Occupation</th>\n",
       "      <th>City_Category</th>\n",
       "      <th>Stay_In_Current_City_Years</th>\n",
       "      <th>Marital_Status</th>\n",
       "      <th>Product_Category_1</th>\n",
       "      <th>Product_Category_2</th>\n",
       "      <th>Product_Category_3</th>\n",
       "      <th>Purchase</th>\n",
       "    </tr>\n",
       "  </thead>\n",
       "  <tbody>\n",
       "    <tr>\n",
       "      <th>0</th>\n",
       "      <td>1000001</td>\n",
       "      <td>P00069042</td>\n",
       "      <td>F</td>\n",
       "      <td>0-17</td>\n",
       "      <td>10</td>\n",
       "      <td>A</td>\n",
       "      <td>2</td>\n",
       "      <td>0</td>\n",
       "      <td>3</td>\n",
       "      <td>NaN</td>\n",
       "      <td>NaN</td>\n",
       "      <td>8370</td>\n",
       "    </tr>\n",
       "    <tr>\n",
       "      <th>1</th>\n",
       "      <td>1000001</td>\n",
       "      <td>P00248942</td>\n",
       "      <td>F</td>\n",
       "      <td>0-17</td>\n",
       "      <td>10</td>\n",
       "      <td>A</td>\n",
       "      <td>2</td>\n",
       "      <td>0</td>\n",
       "      <td>1</td>\n",
       "      <td>6.0</td>\n",
       "      <td>14.0</td>\n",
       "      <td>15200</td>\n",
       "    </tr>\n",
       "    <tr>\n",
       "      <th>2</th>\n",
       "      <td>1000001</td>\n",
       "      <td>P00087842</td>\n",
       "      <td>F</td>\n",
       "      <td>0-17</td>\n",
       "      <td>10</td>\n",
       "      <td>A</td>\n",
       "      <td>2</td>\n",
       "      <td>0</td>\n",
       "      <td>12</td>\n",
       "      <td>NaN</td>\n",
       "      <td>NaN</td>\n",
       "      <td>1422</td>\n",
       "    </tr>\n",
       "    <tr>\n",
       "      <th>3</th>\n",
       "      <td>1000001</td>\n",
       "      <td>P00085442</td>\n",
       "      <td>F</td>\n",
       "      <td>0-17</td>\n",
       "      <td>10</td>\n",
       "      <td>A</td>\n",
       "      <td>2</td>\n",
       "      <td>0</td>\n",
       "      <td>12</td>\n",
       "      <td>14.0</td>\n",
       "      <td>NaN</td>\n",
       "      <td>1057</td>\n",
       "    </tr>\n",
       "    <tr>\n",
       "      <th>4</th>\n",
       "      <td>1000002</td>\n",
       "      <td>P00285442</td>\n",
       "      <td>M</td>\n",
       "      <td>55+</td>\n",
       "      <td>16</td>\n",
       "      <td>C</td>\n",
       "      <td>4+</td>\n",
       "      <td>0</td>\n",
       "      <td>8</td>\n",
       "      <td>NaN</td>\n",
       "      <td>NaN</td>\n",
       "      <td>7969</td>\n",
       "    </tr>\n",
       "    <tr>\n",
       "      <th>...</th>\n",
       "      <td>...</td>\n",
       "      <td>...</td>\n",
       "      <td>...</td>\n",
       "      <td>...</td>\n",
       "      <td>...</td>\n",
       "      <td>...</td>\n",
       "      <td>...</td>\n",
       "      <td>...</td>\n",
       "      <td>...</td>\n",
       "      <td>...</td>\n",
       "      <td>...</td>\n",
       "      <td>...</td>\n",
       "    </tr>\n",
       "    <tr>\n",
       "      <th>550063</th>\n",
       "      <td>1006033</td>\n",
       "      <td>P00372445</td>\n",
       "      <td>M</td>\n",
       "      <td>51-55</td>\n",
       "      <td>13</td>\n",
       "      <td>B</td>\n",
       "      <td>1</td>\n",
       "      <td>1</td>\n",
       "      <td>20</td>\n",
       "      <td>NaN</td>\n",
       "      <td>NaN</td>\n",
       "      <td>368</td>\n",
       "    </tr>\n",
       "    <tr>\n",
       "      <th>550064</th>\n",
       "      <td>1006035</td>\n",
       "      <td>P00375436</td>\n",
       "      <td>F</td>\n",
       "      <td>26-35</td>\n",
       "      <td>1</td>\n",
       "      <td>C</td>\n",
       "      <td>3</td>\n",
       "      <td>0</td>\n",
       "      <td>20</td>\n",
       "      <td>NaN</td>\n",
       "      <td>NaN</td>\n",
       "      <td>371</td>\n",
       "    </tr>\n",
       "    <tr>\n",
       "      <th>550065</th>\n",
       "      <td>1006036</td>\n",
       "      <td>P00375436</td>\n",
       "      <td>F</td>\n",
       "      <td>26-35</td>\n",
       "      <td>15</td>\n",
       "      <td>B</td>\n",
       "      <td>4+</td>\n",
       "      <td>1</td>\n",
       "      <td>20</td>\n",
       "      <td>NaN</td>\n",
       "      <td>NaN</td>\n",
       "      <td>137</td>\n",
       "    </tr>\n",
       "    <tr>\n",
       "      <th>550066</th>\n",
       "      <td>1006038</td>\n",
       "      <td>P00375436</td>\n",
       "      <td>F</td>\n",
       "      <td>55+</td>\n",
       "      <td>1</td>\n",
       "      <td>C</td>\n",
       "      <td>2</td>\n",
       "      <td>0</td>\n",
       "      <td>20</td>\n",
       "      <td>NaN</td>\n",
       "      <td>NaN</td>\n",
       "      <td>365</td>\n",
       "    </tr>\n",
       "    <tr>\n",
       "      <th>550067</th>\n",
       "      <td>1006039</td>\n",
       "      <td>P00371644</td>\n",
       "      <td>F</td>\n",
       "      <td>46-50</td>\n",
       "      <td>0</td>\n",
       "      <td>B</td>\n",
       "      <td>4+</td>\n",
       "      <td>1</td>\n",
       "      <td>20</td>\n",
       "      <td>NaN</td>\n",
       "      <td>NaN</td>\n",
       "      <td>490</td>\n",
       "    </tr>\n",
       "  </tbody>\n",
       "</table>\n",
       "<p>550068 rows × 12 columns</p>\n",
       "</div>"
      ],
      "text/plain": [
       "        User_ID Product_ID Gender    Age  Occupation City_Category  \\\n",
       "0       1000001  P00069042      F   0-17          10             A   \n",
       "1       1000001  P00248942      F   0-17          10             A   \n",
       "2       1000001  P00087842      F   0-17          10             A   \n",
       "3       1000001  P00085442      F   0-17          10             A   \n",
       "4       1000002  P00285442      M    55+          16             C   \n",
       "...         ...        ...    ...    ...         ...           ...   \n",
       "550063  1006033  P00372445      M  51-55          13             B   \n",
       "550064  1006035  P00375436      F  26-35           1             C   \n",
       "550065  1006036  P00375436      F  26-35          15             B   \n",
       "550066  1006038  P00375436      F    55+           1             C   \n",
       "550067  1006039  P00371644      F  46-50           0             B   \n",
       "\n",
       "       Stay_In_Current_City_Years  Marital_Status  Product_Category_1  \\\n",
       "0                               2               0                   3   \n",
       "1                               2               0                   1   \n",
       "2                               2               0                  12   \n",
       "3                               2               0                  12   \n",
       "4                              4+               0                   8   \n",
       "...                           ...             ...                 ...   \n",
       "550063                          1               1                  20   \n",
       "550064                          3               0                  20   \n",
       "550065                         4+               1                  20   \n",
       "550066                          2               0                  20   \n",
       "550067                         4+               1                  20   \n",
       "\n",
       "        Product_Category_2  Product_Category_3  Purchase  \n",
       "0                      NaN                 NaN      8370  \n",
       "1                      6.0                14.0     15200  \n",
       "2                      NaN                 NaN      1422  \n",
       "3                     14.0                 NaN      1057  \n",
       "4                      NaN                 NaN      7969  \n",
       "...                    ...                 ...       ...  \n",
       "550063                 NaN                 NaN       368  \n",
       "550064                 NaN                 NaN       371  \n",
       "550065                 NaN                 NaN       137  \n",
       "550066                 NaN                 NaN       365  \n",
       "550067                 NaN                 NaN       490  \n",
       "\n",
       "[550068 rows x 12 columns]"
      ]
     },
     "execution_count": 20,
     "metadata": {},
     "output_type": "execute_result"
    }
   ],
   "source": [
    "df"
   ]
  },
  {
   "cell_type": "code",
   "execution_count": 21,
   "id": "b35fd736",
   "metadata": {
    "execution": {
     "iopub.execute_input": "2022-03-25T19:28:23.850889Z",
     "iopub.status.busy": "2022-03-25T19:28:23.850194Z",
     "iopub.status.idle": "2022-03-25T19:28:24.606325Z",
     "shell.execute_reply": "2022-03-25T19:28:24.605726Z",
     "shell.execute_reply.started": "2022-03-25T19:19:04.593242Z"
    },
    "papermill": {
     "duration": 0.856523,
     "end_time": "2022-03-25T19:28:24.606514",
     "exception": false,
     "start_time": "2022-03-25T19:28:23.749991",
     "status": "completed"
    },
    "tags": []
   },
   "outputs": [],
   "source": [
    "df['Product_ID'] = df['Product_ID'].str.replace('P00', '')\n",
    "ss = StandardScaler()\n",
    "df['Product_ID'] = ss.fit_transform(df['Product_ID'].values.reshape(-1, 1))\n",
    "## Replacing ''P00'' with no value and scaling the ProductID column. "
   ]
  },
  {
   "cell_type": "code",
   "execution_count": 22,
   "id": "a2c46ab7",
   "metadata": {
    "execution": {
     "iopub.execute_input": "2022-03-25T19:28:24.811241Z",
     "iopub.status.busy": "2022-03-25T19:28:24.810243Z",
     "iopub.status.idle": "2022-03-25T19:28:24.868774Z",
     "shell.execute_reply": "2022-03-25T19:28:24.869279Z",
     "shell.execute_reply.started": "2022-03-25T19:19:05.356312Z"
    },
    "papermill": {
     "duration": 0.162223,
     "end_time": "2022-03-25T19:28:24.869467",
     "exception": false,
     "start_time": "2022-03-25T19:28:24.707244",
     "status": "completed"
    },
    "tags": []
   },
   "outputs": [],
   "source": [
    "df.drop(['Product_Category_3'],axis=1,inplace=True)\n",
    "## There are more than 50 percent missing values present in the Product_category_column so we will drop that column."
   ]
  },
  {
   "cell_type": "code",
   "execution_count": 23,
   "id": "01b31722",
   "metadata": {
    "execution": {
     "iopub.execute_input": "2022-03-25T19:28:25.076395Z",
     "iopub.status.busy": "2022-03-25T19:28:25.075325Z",
     "iopub.status.idle": "2022-03-25T19:28:25.089398Z",
     "shell.execute_reply": "2022-03-25T19:28:25.089878Z",
     "shell.execute_reply.started": "2022-03-25T19:19:05.399060Z"
    },
    "papermill": {
     "duration": 0.120959,
     "end_time": "2022-03-25T19:28:25.090084",
     "exception": false,
     "start_time": "2022-03-25T19:28:24.969125",
     "status": "completed"
    },
    "tags": []
   },
   "outputs": [],
   "source": [
    "df['Product_Category_2']=df['Product_Category_2'].fillna(df['Product_Category_2'].mean())\n",
    "## The missing data in the product category 2 column have been imputed using mean."
   ]
  },
  {
   "cell_type": "code",
   "execution_count": 24,
   "id": "bb980996",
   "metadata": {
    "execution": {
     "iopub.execute_input": "2022-03-25T19:28:25.296320Z",
     "iopub.status.busy": "2022-03-25T19:28:25.295235Z",
     "iopub.status.idle": "2022-03-25T19:28:25.539215Z",
     "shell.execute_reply": "2022-03-25T19:28:25.538712Z",
     "shell.execute_reply.started": "2022-03-25T19:19:05.415856Z"
    },
    "papermill": {
     "duration": 0.350812,
     "end_time": "2022-03-25T19:28:25.539379",
     "exception": false,
     "start_time": "2022-03-25T19:28:25.188567",
     "status": "completed"
    },
    "tags": []
   },
   "outputs": [
    {
     "data": {
      "text/plain": [
       "User_ID                       0\n",
       "Product_ID                    0\n",
       "Gender                        0\n",
       "Age                           0\n",
       "Occupation                    0\n",
       "City_Category                 0\n",
       "Stay_In_Current_City_Years    0\n",
       "Marital_Status                0\n",
       "Product_Category_1            0\n",
       "Product_Category_2            0\n",
       "Purchase                      0\n",
       "dtype: int64"
      ]
     },
     "execution_count": 24,
     "metadata": {},
     "output_type": "execute_result"
    }
   ],
   "source": [
    "df.isnull().sum()\n",
    "## As we can see the missing values have been successfully imputed and now there are no null values present in the dataset."
   ]
  },
  {
   "cell_type": "code",
   "execution_count": 25,
   "id": "aa4def66",
   "metadata": {
    "execution": {
     "iopub.execute_input": "2022-03-25T19:28:25.739153Z",
     "iopub.status.busy": "2022-03-25T19:28:25.738121Z",
     "iopub.status.idle": "2022-03-25T19:28:25.758718Z",
     "shell.execute_reply": "2022-03-25T19:28:25.759298Z",
     "shell.execute_reply.started": "2022-03-25T19:19:05.665770Z"
    },
    "papermill": {
     "duration": 0.122312,
     "end_time": "2022-03-25T19:28:25.759475",
     "exception": false,
     "start_time": "2022-03-25T19:28:25.637163",
     "status": "completed"
    },
    "tags": []
   },
   "outputs": [
    {
     "data": {
      "text/html": [
       "<div>\n",
       "<style scoped>\n",
       "    .dataframe tbody tr th:only-of-type {\n",
       "        vertical-align: middle;\n",
       "    }\n",
       "\n",
       "    .dataframe tbody tr th {\n",
       "        vertical-align: top;\n",
       "    }\n",
       "\n",
       "    .dataframe thead th {\n",
       "        text-align: right;\n",
       "    }\n",
       "</style>\n",
       "<table border=\"1\" class=\"dataframe\">\n",
       "  <thead>\n",
       "    <tr style=\"text-align: right;\">\n",
       "      <th></th>\n",
       "      <th>User_ID</th>\n",
       "      <th>Product_ID</th>\n",
       "      <th>Gender</th>\n",
       "      <th>Age</th>\n",
       "      <th>Occupation</th>\n",
       "      <th>City_Category</th>\n",
       "      <th>Stay_In_Current_City_Years</th>\n",
       "      <th>Marital_Status</th>\n",
       "      <th>Product_Category_1</th>\n",
       "      <th>Product_Category_2</th>\n",
       "      <th>Purchase</th>\n",
       "    </tr>\n",
       "  </thead>\n",
       "  <tbody>\n",
       "    <tr>\n",
       "      <th>0</th>\n",
       "      <td>1000001</td>\n",
       "      <td>-1.028774</td>\n",
       "      <td>F</td>\n",
       "      <td>0-17</td>\n",
       "      <td>10</td>\n",
       "      <td>A</td>\n",
       "      <td>2</td>\n",
       "      <td>0</td>\n",
       "      <td>3</td>\n",
       "      <td>9.842329</td>\n",
       "      <td>8370</td>\n",
       "    </tr>\n",
       "    <tr>\n",
       "      <th>1</th>\n",
       "      <td>1000001</td>\n",
       "      <td>0.722139</td>\n",
       "      <td>F</td>\n",
       "      <td>0-17</td>\n",
       "      <td>10</td>\n",
       "      <td>A</td>\n",
       "      <td>2</td>\n",
       "      <td>0</td>\n",
       "      <td>1</td>\n",
       "      <td>6.000000</td>\n",
       "      <td>15200</td>\n",
       "    </tr>\n",
       "    <tr>\n",
       "      <th>2</th>\n",
       "      <td>1000001</td>\n",
       "      <td>-0.845799</td>\n",
       "      <td>F</td>\n",
       "      <td>0-17</td>\n",
       "      <td>10</td>\n",
       "      <td>A</td>\n",
       "      <td>2</td>\n",
       "      <td>0</td>\n",
       "      <td>12</td>\n",
       "      <td>9.842329</td>\n",
       "      <td>1422</td>\n",
       "    </tr>\n",
       "    <tr>\n",
       "      <th>3</th>\n",
       "      <td>1000001</td>\n",
       "      <td>-0.869157</td>\n",
       "      <td>F</td>\n",
       "      <td>0-17</td>\n",
       "      <td>10</td>\n",
       "      <td>A</td>\n",
       "      <td>2</td>\n",
       "      <td>0</td>\n",
       "      <td>12</td>\n",
       "      <td>14.000000</td>\n",
       "      <td>1057</td>\n",
       "    </tr>\n",
       "    <tr>\n",
       "      <th>4</th>\n",
       "      <td>1000002</td>\n",
       "      <td>1.077382</td>\n",
       "      <td>M</td>\n",
       "      <td>55+</td>\n",
       "      <td>16</td>\n",
       "      <td>C</td>\n",
       "      <td>4+</td>\n",
       "      <td>0</td>\n",
       "      <td>8</td>\n",
       "      <td>9.842329</td>\n",
       "      <td>7969</td>\n",
       "    </tr>\n",
       "    <tr>\n",
       "      <th>...</th>\n",
       "      <td>...</td>\n",
       "      <td>...</td>\n",
       "      <td>...</td>\n",
       "      <td>...</td>\n",
       "      <td>...</td>\n",
       "      <td>...</td>\n",
       "      <td>...</td>\n",
       "      <td>...</td>\n",
       "      <td>...</td>\n",
       "      <td>...</td>\n",
       "      <td>...</td>\n",
       "    </tr>\n",
       "    <tr>\n",
       "      <th>550063</th>\n",
       "      <td>1006033</td>\n",
       "      <td>1.924156</td>\n",
       "      <td>M</td>\n",
       "      <td>51-55</td>\n",
       "      <td>13</td>\n",
       "      <td>B</td>\n",
       "      <td>1</td>\n",
       "      <td>1</td>\n",
       "      <td>20</td>\n",
       "      <td>9.842329</td>\n",
       "      <td>368</td>\n",
       "    </tr>\n",
       "    <tr>\n",
       "      <th>550064</th>\n",
       "      <td>1006035</td>\n",
       "      <td>1.953267</td>\n",
       "      <td>F</td>\n",
       "      <td>26-35</td>\n",
       "      <td>1</td>\n",
       "      <td>C</td>\n",
       "      <td>3</td>\n",
       "      <td>0</td>\n",
       "      <td>20</td>\n",
       "      <td>9.842329</td>\n",
       "      <td>371</td>\n",
       "    </tr>\n",
       "    <tr>\n",
       "      <th>550065</th>\n",
       "      <td>1006036</td>\n",
       "      <td>1.953267</td>\n",
       "      <td>F</td>\n",
       "      <td>26-35</td>\n",
       "      <td>15</td>\n",
       "      <td>B</td>\n",
       "      <td>4+</td>\n",
       "      <td>1</td>\n",
       "      <td>20</td>\n",
       "      <td>9.842329</td>\n",
       "      <td>137</td>\n",
       "    </tr>\n",
       "    <tr>\n",
       "      <th>550066</th>\n",
       "      <td>1006038</td>\n",
       "      <td>1.953267</td>\n",
       "      <td>F</td>\n",
       "      <td>55+</td>\n",
       "      <td>1</td>\n",
       "      <td>C</td>\n",
       "      <td>2</td>\n",
       "      <td>0</td>\n",
       "      <td>20</td>\n",
       "      <td>9.842329</td>\n",
       "      <td>365</td>\n",
       "    </tr>\n",
       "    <tr>\n",
       "      <th>550067</th>\n",
       "      <td>1006039</td>\n",
       "      <td>1.916360</td>\n",
       "      <td>F</td>\n",
       "      <td>46-50</td>\n",
       "      <td>0</td>\n",
       "      <td>B</td>\n",
       "      <td>4+</td>\n",
       "      <td>1</td>\n",
       "      <td>20</td>\n",
       "      <td>9.842329</td>\n",
       "      <td>490</td>\n",
       "    </tr>\n",
       "  </tbody>\n",
       "</table>\n",
       "<p>550068 rows × 11 columns</p>\n",
       "</div>"
      ],
      "text/plain": [
       "        User_ID  Product_ID Gender    Age  Occupation City_Category  \\\n",
       "0       1000001   -1.028774      F   0-17          10             A   \n",
       "1       1000001    0.722139      F   0-17          10             A   \n",
       "2       1000001   -0.845799      F   0-17          10             A   \n",
       "3       1000001   -0.869157      F   0-17          10             A   \n",
       "4       1000002    1.077382      M    55+          16             C   \n",
       "...         ...         ...    ...    ...         ...           ...   \n",
       "550063  1006033    1.924156      M  51-55          13             B   \n",
       "550064  1006035    1.953267      F  26-35           1             C   \n",
       "550065  1006036    1.953267      F  26-35          15             B   \n",
       "550066  1006038    1.953267      F    55+           1             C   \n",
       "550067  1006039    1.916360      F  46-50           0             B   \n",
       "\n",
       "       Stay_In_Current_City_Years  Marital_Status  Product_Category_1  \\\n",
       "0                               2               0                   3   \n",
       "1                               2               0                   1   \n",
       "2                               2               0                  12   \n",
       "3                               2               0                  12   \n",
       "4                              4+               0                   8   \n",
       "...                           ...             ...                 ...   \n",
       "550063                          1               1                  20   \n",
       "550064                          3               0                  20   \n",
       "550065                         4+               1                  20   \n",
       "550066                          2               0                  20   \n",
       "550067                         4+               1                  20   \n",
       "\n",
       "        Product_Category_2  Purchase  \n",
       "0                 9.842329      8370  \n",
       "1                 6.000000     15200  \n",
       "2                 9.842329      1422  \n",
       "3                14.000000      1057  \n",
       "4                 9.842329      7969  \n",
       "...                    ...       ...  \n",
       "550063            9.842329       368  \n",
       "550064            9.842329       371  \n",
       "550065            9.842329       137  \n",
       "550066            9.842329       365  \n",
       "550067            9.842329       490  \n",
       "\n",
       "[550068 rows x 11 columns]"
      ]
     },
     "execution_count": 25,
     "metadata": {},
     "output_type": "execute_result"
    }
   ],
   "source": [
    "df"
   ]
  },
  {
   "cell_type": "markdown",
   "id": "2da107ae",
   "metadata": {
    "papermill": {
     "duration": 0.098688,
     "end_time": "2022-03-25T19:28:25.956733",
     "exception": false,
     "start_time": "2022-03-25T19:28:25.858045",
     "status": "completed"
    },
    "tags": []
   },
   "source": [
    "## Label Encoding is a technique used to turn categorical variables to numeric values."
   ]
  },
  {
   "cell_type": "code",
   "execution_count": 26,
   "id": "073e42e3",
   "metadata": {
    "execution": {
     "iopub.execute_input": "2022-03-25T19:28:26.161377Z",
     "iopub.status.busy": "2022-03-25T19:28:26.160307Z",
     "iopub.status.idle": "2022-03-25T19:28:26.646900Z",
     "shell.execute_reply": "2022-03-25T19:28:26.647477Z",
     "shell.execute_reply.started": "2022-03-25T19:19:05.688643Z"
    },
    "papermill": {
     "duration": 0.590582,
     "end_time": "2022-03-25T19:28:26.647650",
     "exception": false,
     "start_time": "2022-03-25T19:28:26.057068",
     "status": "completed"
    },
    "tags": []
   },
   "outputs": [
    {
     "data": {
      "text/plain": [
       "User_ID                         int64\n",
       "Product_ID                    float64\n",
       "Gender                          int64\n",
       "Age                             int64\n",
       "Occupation                      int64\n",
       "City_Category                   int64\n",
       "Stay_In_Current_City_Years     object\n",
       "Marital_Status                  int64\n",
       "Product_Category_1              int64\n",
       "Product_Category_2            float64\n",
       "Purchase                        int64\n",
       "dtype: object"
      ]
     },
     "execution_count": 26,
     "metadata": {},
     "output_type": "execute_result"
    }
   ],
   "source": [
    "cat_cols=['Gender','City_Category','Age']\n",
    "le=LabelEncoder()\n",
    "for i in cat_cols:\n",
    "    df[i]=le.fit_transform(df[i])\n",
    "df.dtypes\n",
    "## The label encoding technique will now replace all the categorical variables to numeric for easier computation."
   ]
  },
  {
   "cell_type": "code",
   "execution_count": 27,
   "id": "67fcdf3b",
   "metadata": {
    "execution": {
     "iopub.execute_input": "2022-03-25T19:28:26.849974Z",
     "iopub.status.busy": "2022-03-25T19:28:26.848863Z",
     "iopub.status.idle": "2022-03-25T19:28:26.883301Z",
     "shell.execute_reply": "2022-03-25T19:28:26.883832Z",
     "shell.execute_reply.started": "2022-03-25T19:19:06.196470Z"
    },
    "papermill": {
     "duration": 0.13776,
     "end_time": "2022-03-25T19:28:26.884006",
     "exception": false,
     "start_time": "2022-03-25T19:28:26.746246",
     "status": "completed"
    },
    "tags": []
   },
   "outputs": [],
   "source": [
    "df['Stay_In_Current_City_Years']=df['Stay_In_Current_City_Years'].replace('4+','4')\n",
    "## Values in the Stay_In_Current_City_Years column has been changed from 4+ to 4"
   ]
  },
  {
   "cell_type": "code",
   "execution_count": 28,
   "id": "9aaf6c66",
   "metadata": {
    "execution": {
     "iopub.execute_input": "2022-03-25T19:28:27.091432Z",
     "iopub.status.busy": "2022-03-25T19:28:27.090370Z",
     "iopub.status.idle": "2022-03-25T19:28:27.180733Z",
     "shell.execute_reply": "2022-03-25T19:28:27.180130Z",
     "shell.execute_reply.started": "2022-03-25T19:19:06.234119Z"
    },
    "papermill": {
     "duration": 0.19676,
     "end_time": "2022-03-25T19:28:27.180889",
     "exception": false,
     "start_time": "2022-03-25T19:28:26.984129",
     "status": "completed"
    },
    "tags": []
   },
   "outputs": [],
   "source": [
    "df['Gender']=df['Gender'].astype(int)\n",
    "df['Age']=df['Age'].astype(int)\n",
    "df['Stay_In_Current_City_Years']=df['Stay_In_Current_City_Years'].astype(int)\n",
    "## The gender, Age and Stay_In_Current_City_Years values are changed to integer types. "
   ]
  },
  {
   "cell_type": "code",
   "execution_count": 29,
   "id": "d043a3cd",
   "metadata": {
    "execution": {
     "iopub.execute_input": "2022-03-25T19:28:27.392363Z",
     "iopub.status.busy": "2022-03-25T19:28:27.391235Z",
     "iopub.status.idle": "2022-03-25T19:28:27.403529Z",
     "shell.execute_reply": "2022-03-25T19:28:27.404030Z",
     "shell.execute_reply.started": "2022-03-25T19:19:06.327273Z"
    },
    "papermill": {
     "duration": 0.121203,
     "end_time": "2022-03-25T19:28:27.404232",
     "exception": false,
     "start_time": "2022-03-25T19:28:27.283029",
     "status": "completed"
    },
    "tags": []
   },
   "outputs": [],
   "source": [
    "df['City_Category']=df['City_Category'].astype('category')\n",
    "## The type of city_category has been changed from int to category."
   ]
  },
  {
   "cell_type": "code",
   "execution_count": 30,
   "id": "c4f160a8",
   "metadata": {
    "execution": {
     "iopub.execute_input": "2022-03-25T19:28:27.613570Z",
     "iopub.status.busy": "2022-03-25T19:28:27.612805Z",
     "iopub.status.idle": "2022-03-25T19:28:27.636199Z",
     "shell.execute_reply": "2022-03-25T19:28:27.636755Z",
     "shell.execute_reply.started": "2022-03-25T19:19:06.340153Z"
    },
    "papermill": {
     "duration": 0.131049,
     "end_time": "2022-03-25T19:28:27.636935",
     "exception": false,
     "start_time": "2022-03-25T19:28:27.505886",
     "status": "completed"
    },
    "tags": []
   },
   "outputs": [
    {
     "data": {
      "text/html": [
       "<div>\n",
       "<style scoped>\n",
       "    .dataframe tbody tr th:only-of-type {\n",
       "        vertical-align: middle;\n",
       "    }\n",
       "\n",
       "    .dataframe tbody tr th {\n",
       "        vertical-align: top;\n",
       "    }\n",
       "\n",
       "    .dataframe thead th {\n",
       "        text-align: right;\n",
       "    }\n",
       "</style>\n",
       "<table border=\"1\" class=\"dataframe\">\n",
       "  <thead>\n",
       "    <tr style=\"text-align: right;\">\n",
       "      <th></th>\n",
       "      <th>User_ID</th>\n",
       "      <th>Product_ID</th>\n",
       "      <th>Gender</th>\n",
       "      <th>Age</th>\n",
       "      <th>Occupation</th>\n",
       "      <th>City_Category</th>\n",
       "      <th>Stay_In_Current_City_Years</th>\n",
       "      <th>Marital_Status</th>\n",
       "      <th>Product_Category_1</th>\n",
       "      <th>Product_Category_2</th>\n",
       "      <th>Purchase</th>\n",
       "    </tr>\n",
       "  </thead>\n",
       "  <tbody>\n",
       "    <tr>\n",
       "      <th>0</th>\n",
       "      <td>1000001</td>\n",
       "      <td>-1.028774</td>\n",
       "      <td>0</td>\n",
       "      <td>0</td>\n",
       "      <td>10</td>\n",
       "      <td>0</td>\n",
       "      <td>2</td>\n",
       "      <td>0</td>\n",
       "      <td>3</td>\n",
       "      <td>9.842329</td>\n",
       "      <td>8370</td>\n",
       "    </tr>\n",
       "    <tr>\n",
       "      <th>1</th>\n",
       "      <td>1000001</td>\n",
       "      <td>0.722139</td>\n",
       "      <td>0</td>\n",
       "      <td>0</td>\n",
       "      <td>10</td>\n",
       "      <td>0</td>\n",
       "      <td>2</td>\n",
       "      <td>0</td>\n",
       "      <td>1</td>\n",
       "      <td>6.000000</td>\n",
       "      <td>15200</td>\n",
       "    </tr>\n",
       "    <tr>\n",
       "      <th>2</th>\n",
       "      <td>1000001</td>\n",
       "      <td>-0.845799</td>\n",
       "      <td>0</td>\n",
       "      <td>0</td>\n",
       "      <td>10</td>\n",
       "      <td>0</td>\n",
       "      <td>2</td>\n",
       "      <td>0</td>\n",
       "      <td>12</td>\n",
       "      <td>9.842329</td>\n",
       "      <td>1422</td>\n",
       "    </tr>\n",
       "    <tr>\n",
       "      <th>3</th>\n",
       "      <td>1000001</td>\n",
       "      <td>-0.869157</td>\n",
       "      <td>0</td>\n",
       "      <td>0</td>\n",
       "      <td>10</td>\n",
       "      <td>0</td>\n",
       "      <td>2</td>\n",
       "      <td>0</td>\n",
       "      <td>12</td>\n",
       "      <td>14.000000</td>\n",
       "      <td>1057</td>\n",
       "    </tr>\n",
       "    <tr>\n",
       "      <th>4</th>\n",
       "      <td>1000002</td>\n",
       "      <td>1.077382</td>\n",
       "      <td>1</td>\n",
       "      <td>6</td>\n",
       "      <td>16</td>\n",
       "      <td>2</td>\n",
       "      <td>4</td>\n",
       "      <td>0</td>\n",
       "      <td>8</td>\n",
       "      <td>9.842329</td>\n",
       "      <td>7969</td>\n",
       "    </tr>\n",
       "    <tr>\n",
       "      <th>...</th>\n",
       "      <td>...</td>\n",
       "      <td>...</td>\n",
       "      <td>...</td>\n",
       "      <td>...</td>\n",
       "      <td>...</td>\n",
       "      <td>...</td>\n",
       "      <td>...</td>\n",
       "      <td>...</td>\n",
       "      <td>...</td>\n",
       "      <td>...</td>\n",
       "      <td>...</td>\n",
       "    </tr>\n",
       "    <tr>\n",
       "      <th>550063</th>\n",
       "      <td>1006033</td>\n",
       "      <td>1.924156</td>\n",
       "      <td>1</td>\n",
       "      <td>5</td>\n",
       "      <td>13</td>\n",
       "      <td>1</td>\n",
       "      <td>1</td>\n",
       "      <td>1</td>\n",
       "      <td>20</td>\n",
       "      <td>9.842329</td>\n",
       "      <td>368</td>\n",
       "    </tr>\n",
       "    <tr>\n",
       "      <th>550064</th>\n",
       "      <td>1006035</td>\n",
       "      <td>1.953267</td>\n",
       "      <td>0</td>\n",
       "      <td>2</td>\n",
       "      <td>1</td>\n",
       "      <td>2</td>\n",
       "      <td>3</td>\n",
       "      <td>0</td>\n",
       "      <td>20</td>\n",
       "      <td>9.842329</td>\n",
       "      <td>371</td>\n",
       "    </tr>\n",
       "    <tr>\n",
       "      <th>550065</th>\n",
       "      <td>1006036</td>\n",
       "      <td>1.953267</td>\n",
       "      <td>0</td>\n",
       "      <td>2</td>\n",
       "      <td>15</td>\n",
       "      <td>1</td>\n",
       "      <td>4</td>\n",
       "      <td>1</td>\n",
       "      <td>20</td>\n",
       "      <td>9.842329</td>\n",
       "      <td>137</td>\n",
       "    </tr>\n",
       "    <tr>\n",
       "      <th>550066</th>\n",
       "      <td>1006038</td>\n",
       "      <td>1.953267</td>\n",
       "      <td>0</td>\n",
       "      <td>6</td>\n",
       "      <td>1</td>\n",
       "      <td>2</td>\n",
       "      <td>2</td>\n",
       "      <td>0</td>\n",
       "      <td>20</td>\n",
       "      <td>9.842329</td>\n",
       "      <td>365</td>\n",
       "    </tr>\n",
       "    <tr>\n",
       "      <th>550067</th>\n",
       "      <td>1006039</td>\n",
       "      <td>1.916360</td>\n",
       "      <td>0</td>\n",
       "      <td>4</td>\n",
       "      <td>0</td>\n",
       "      <td>1</td>\n",
       "      <td>4</td>\n",
       "      <td>1</td>\n",
       "      <td>20</td>\n",
       "      <td>9.842329</td>\n",
       "      <td>490</td>\n",
       "    </tr>\n",
       "  </tbody>\n",
       "</table>\n",
       "<p>550068 rows × 11 columns</p>\n",
       "</div>"
      ],
      "text/plain": [
       "        User_ID  Product_ID  Gender  Age  Occupation City_Category  \\\n",
       "0       1000001   -1.028774       0    0          10             0   \n",
       "1       1000001    0.722139       0    0          10             0   \n",
       "2       1000001   -0.845799       0    0          10             0   \n",
       "3       1000001   -0.869157       0    0          10             0   \n",
       "4       1000002    1.077382       1    6          16             2   \n",
       "...         ...         ...     ...  ...         ...           ...   \n",
       "550063  1006033    1.924156       1    5          13             1   \n",
       "550064  1006035    1.953267       0    2           1             2   \n",
       "550065  1006036    1.953267       0    2          15             1   \n",
       "550066  1006038    1.953267       0    6           1             2   \n",
       "550067  1006039    1.916360       0    4           0             1   \n",
       "\n",
       "        Stay_In_Current_City_Years  Marital_Status  Product_Category_1  \\\n",
       "0                                2               0                   3   \n",
       "1                                2               0                   1   \n",
       "2                                2               0                  12   \n",
       "3                                2               0                  12   \n",
       "4                                4               0                   8   \n",
       "...                            ...             ...                 ...   \n",
       "550063                           1               1                  20   \n",
       "550064                           3               0                  20   \n",
       "550065                           4               1                  20   \n",
       "550066                           2               0                  20   \n",
       "550067                           4               1                  20   \n",
       "\n",
       "        Product_Category_2  Purchase  \n",
       "0                 9.842329      8370  \n",
       "1                 6.000000     15200  \n",
       "2                 9.842329      1422  \n",
       "3                14.000000      1057  \n",
       "4                 9.842329      7969  \n",
       "...                    ...       ...  \n",
       "550063            9.842329       368  \n",
       "550064            9.842329       371  \n",
       "550065            9.842329       137  \n",
       "550066            9.842329       365  \n",
       "550067            9.842329       490  \n",
       "\n",
       "[550068 rows x 11 columns]"
      ]
     },
     "execution_count": 30,
     "metadata": {},
     "output_type": "execute_result"
    }
   ],
   "source": [
    "df"
   ]
  },
  {
   "cell_type": "markdown",
   "id": "9c6c0d3d",
   "metadata": {
    "papermill": {
     "duration": 0.10331,
     "end_time": "2022-03-25T19:28:27.844493",
     "exception": false,
     "start_time": "2022-03-25T19:28:27.741183",
     "status": "completed"
    },
    "tags": []
   },
   "source": [
    "# Distribution plot"
   ]
  },
  {
   "cell_type": "markdown",
   "id": "819d957e",
   "metadata": {
    "papermill": {
     "duration": 0.105517,
     "end_time": "2022-03-25T19:28:28.051880",
     "exception": false,
     "start_time": "2022-03-25T19:28:27.946363",
     "status": "completed"
    },
    "tags": []
   },
   "source": [
    "### The distribution plot shows us how the overall data is distributed in the dataframe."
   ]
  },
  {
   "cell_type": "markdown",
   "id": "25853a8b",
   "metadata": {
    "papermill": {
     "duration": 0.105707,
     "end_time": "2022-03-25T19:28:28.261337",
     "exception": false,
     "start_time": "2022-03-25T19:28:28.155630",
     "status": "completed"
    },
    "tags": []
   },
   "source": [
    "In probability theory and statistics, skewness is a measure of the asymmetry of the probability distribution of a real-valued random variable about its mean. The skewness value can be positive, zero, negative, or undefined.\n",
    "\n",
    "For a unimodal distribution, negative skew commonly indicates that the tail is on the left side of the distribution, and positive skew indicates that the tail is on the right. In cases where one tail is long but the other tail is fat, skewness does not obey a simple rule. For example, a zero value means that the tails on both sides of the mean balance out overall; this is the case for a symmetric distribution, but can also be true for an asymmetric distribution where one tail is long and thin, and the other is short but fat."
   ]
  },
  {
   "cell_type": "code",
   "execution_count": 31,
   "id": "c9538372",
   "metadata": {
    "execution": {
     "iopub.execute_input": "2022-03-25T19:28:28.475643Z",
     "iopub.status.busy": "2022-03-25T19:28:28.474859Z",
     "iopub.status.idle": "2022-03-25T19:28:48.236660Z",
     "shell.execute_reply": "2022-03-25T19:28:48.236055Z",
     "shell.execute_reply.started": "2022-03-25T19:19:06.361340Z"
    },
    "papermill": {
     "duration": 19.867202,
     "end_time": "2022-03-25T19:28:48.236810",
     "exception": false,
     "start_time": "2022-03-25T19:28:28.369608",
     "status": "completed"
    },
    "tags": []
   },
   "outputs": [
    {
     "name": "stderr",
     "output_type": "stream",
     "text": [
      "/opt/conda/lib/python3.7/site-packages/seaborn/distributions.py:2619: FutureWarning: `distplot` is a deprecated function and will be removed in a future version. Please adapt your code to use either `displot` (a figure-level function with similar flexibility) or `histplot` (an axes-level function for histograms).\n",
      "  warnings.warn(msg, FutureWarning)\n",
      "/opt/conda/lib/python3.7/site-packages/seaborn/distributions.py:2619: FutureWarning: `distplot` is a deprecated function and will be removed in a future version. Please adapt your code to use either `displot` (a figure-level function with similar flexibility) or `histplot` (an axes-level function for histograms).\n",
      "  warnings.warn(msg, FutureWarning)\n",
      "/opt/conda/lib/python3.7/site-packages/seaborn/distributions.py:2619: FutureWarning: `distplot` is a deprecated function and will be removed in a future version. Please adapt your code to use either `displot` (a figure-level function with similar flexibility) or `histplot` (an axes-level function for histograms).\n",
      "  warnings.warn(msg, FutureWarning)\n",
      "/opt/conda/lib/python3.7/site-packages/seaborn/distributions.py:2619: FutureWarning: `distplot` is a deprecated function and will be removed in a future version. Please adapt your code to use either `displot` (a figure-level function with similar flexibility) or `histplot` (an axes-level function for histograms).\n",
      "  warnings.warn(msg, FutureWarning)\n",
      "/opt/conda/lib/python3.7/site-packages/seaborn/distributions.py:2619: FutureWarning: `distplot` is a deprecated function and will be removed in a future version. Please adapt your code to use either `displot` (a figure-level function with similar flexibility) or `histplot` (an axes-level function for histograms).\n",
      "  warnings.warn(msg, FutureWarning)\n",
      "/opt/conda/lib/python3.7/site-packages/seaborn/distributions.py:2619: FutureWarning: `distplot` is a deprecated function and will be removed in a future version. Please adapt your code to use either `displot` (a figure-level function with similar flexibility) or `histplot` (an axes-level function for histograms).\n",
      "  warnings.warn(msg, FutureWarning)\n",
      "/opt/conda/lib/python3.7/site-packages/seaborn/distributions.py:2619: FutureWarning: `distplot` is a deprecated function and will be removed in a future version. Please adapt your code to use either `displot` (a figure-level function with similar flexibility) or `histplot` (an axes-level function for histograms).\n",
      "  warnings.warn(msg, FutureWarning)\n",
      "/opt/conda/lib/python3.7/site-packages/seaborn/distributions.py:2619: FutureWarning: `distplot` is a deprecated function and will be removed in a future version. Please adapt your code to use either `displot` (a figure-level function with similar flexibility) or `histplot` (an axes-level function for histograms).\n",
      "  warnings.warn(msg, FutureWarning)\n",
      "/opt/conda/lib/python3.7/site-packages/seaborn/distributions.py:2619: FutureWarning: `distplot` is a deprecated function and will be removed in a future version. Please adapt your code to use either `displot` (a figure-level function with similar flexibility) or `histplot` (an axes-level function for histograms).\n",
      "  warnings.warn(msg, FutureWarning)\n"
     ]
    },
    {
     "data": {
      "image/png": "[encoded data removed]",
      "text/plain": [
       "<Figure size 720x288 with 9 Axes>"
      ]
     },
     "metadata": {
      "needs_background": "light"
     },
     "output_type": "display_data"
    }
   ],
   "source": [
    "rows=3\n",
    "cols=3\n",
    "fig, ax=plt.subplots(nrows=rows,ncols=cols,figsize=(10,4))\n",
    "col=df.columns\n",
    "index=2\n",
    "for i in range(rows):\n",
    "    for j in range(cols):\n",
    "        sns.distplot(df[col[index]],ax=ax[i][j])\n",
    "        index=index+1\n",
    "        \n",
    "plt.tight_layout()\n",
    "## The distribution plot helps us to detect the skewness of the data.Below as it can be seen that the purchase column "
   ]
  },
  {
   "cell_type": "markdown",
   "id": "0094b97d",
   "metadata": {
    "papermill": {
     "duration": 0.104041,
     "end_time": "2022-03-25T19:28:48.445487",
     "exception": false,
     "start_time": "2022-03-25T19:28:48.341446",
     "status": "completed"
    },
    "tags": []
   },
   "source": [
    "# Log transformation"
   ]
  },
  {
   "cell_type": "markdown",
   "id": "7d116894",
   "metadata": {
    "papermill": {
     "duration": 0.103799,
     "end_time": "2022-03-25T19:28:48.653487",
     "exception": false,
     "start_time": "2022-03-25T19:28:48.549688",
     "status": "completed"
    },
    "tags": []
   },
   "source": [
    "The log transformation is, arguably, the most popular among the different types of transformations used to transform skewed data to approximately conform to normality. If the original data follows a log-normal distribution or approximately so, then the log-transformed data follows a normal or near normal distribution."
   ]
  },
  {
   "cell_type": "code",
   "execution_count": 32,
   "id": "e8b243b4",
   "metadata": {
    "execution": {
     "iopub.execute_input": "2022-03-25T19:28:48.865347Z",
     "iopub.status.busy": "2022-03-25T19:28:48.864661Z",
     "iopub.status.idle": "2022-03-25T19:28:48.880249Z",
     "shell.execute_reply": "2022-03-25T19:28:48.879565Z",
     "shell.execute_reply.started": "2022-03-25T19:19:26.166762Z"
    },
    "papermill": {
     "duration": 0.122513,
     "end_time": "2022-03-25T19:28:48.880425",
     "exception": false,
     "start_time": "2022-03-25T19:28:48.757912",
     "status": "completed"
    },
    "tags": []
   },
   "outputs": [],
   "source": [
    "df['Purchase']=np.log(df['Purchase'])\n",
    "## The log transformation will help us transform the data and change the data to normal distribution"
   ]
  },
  {
   "cell_type": "code",
   "execution_count": 33,
   "id": "898dd31d",
   "metadata": {
    "execution": {
     "iopub.execute_input": "2022-03-25T19:28:49.099281Z",
     "iopub.status.busy": "2022-03-25T19:28:49.098595Z",
     "iopub.status.idle": "2022-03-25T19:28:49.170113Z",
     "shell.execute_reply": "2022-03-25T19:28:49.169541Z",
     "shell.execute_reply.started": "2022-03-25T19:19:26.184695Z"
    },
    "papermill": {
     "duration": 0.1841,
     "end_time": "2022-03-25T19:28:49.170287",
     "exception": false,
     "start_time": "2022-03-25T19:28:48.986187",
     "status": "completed"
    },
    "tags": []
   },
   "outputs": [
    {
     "data": {
      "text/html": [
       "<div>\n",
       "<style scoped>\n",
       "    .dataframe tbody tr th:only-of-type {\n",
       "        vertical-align: middle;\n",
       "    }\n",
       "\n",
       "    .dataframe tbody tr th {\n",
       "        vertical-align: top;\n",
       "    }\n",
       "\n",
       "    .dataframe thead th {\n",
       "        text-align: right;\n",
       "    }\n",
       "</style>\n",
       "<table border=\"1\" class=\"dataframe\">\n",
       "  <thead>\n",
       "    <tr style=\"text-align: right;\">\n",
       "      <th></th>\n",
       "      <th>User_ID</th>\n",
       "      <th>Product_ID</th>\n",
       "      <th>Gender</th>\n",
       "      <th>Age</th>\n",
       "      <th>Occupation</th>\n",
       "      <th>Stay_In_Current_City_Years</th>\n",
       "      <th>Marital_Status</th>\n",
       "      <th>Product_Category_1</th>\n",
       "      <th>Product_Category_2</th>\n",
       "      <th>Purchase</th>\n",
       "      <th>City_Category_0</th>\n",
       "      <th>City_Category_1</th>\n",
       "      <th>City_Category_2</th>\n",
       "    </tr>\n",
       "  </thead>\n",
       "  <tbody>\n",
       "    <tr>\n",
       "      <th>0</th>\n",
       "      <td>1000001</td>\n",
       "      <td>-1.028774</td>\n",
       "      <td>0</td>\n",
       "      <td>0</td>\n",
       "      <td>10</td>\n",
       "      <td>2</td>\n",
       "      <td>0</td>\n",
       "      <td>3</td>\n",
       "      <td>9.842329</td>\n",
       "      <td>9.032409</td>\n",
       "      <td>1</td>\n",
       "      <td>0</td>\n",
       "      <td>0</td>\n",
       "    </tr>\n",
       "    <tr>\n",
       "      <th>1</th>\n",
       "      <td>1000001</td>\n",
       "      <td>0.722139</td>\n",
       "      <td>0</td>\n",
       "      <td>0</td>\n",
       "      <td>10</td>\n",
       "      <td>2</td>\n",
       "      <td>0</td>\n",
       "      <td>1</td>\n",
       "      <td>6.000000</td>\n",
       "      <td>9.629051</td>\n",
       "      <td>1</td>\n",
       "      <td>0</td>\n",
       "      <td>0</td>\n",
       "    </tr>\n",
       "    <tr>\n",
       "      <th>2</th>\n",
       "      <td>1000001</td>\n",
       "      <td>-0.845799</td>\n",
       "      <td>0</td>\n",
       "      <td>0</td>\n",
       "      <td>10</td>\n",
       "      <td>2</td>\n",
       "      <td>0</td>\n",
       "      <td>12</td>\n",
       "      <td>9.842329</td>\n",
       "      <td>7.259820</td>\n",
       "      <td>1</td>\n",
       "      <td>0</td>\n",
       "      <td>0</td>\n",
       "    </tr>\n",
       "    <tr>\n",
       "      <th>3</th>\n",
       "      <td>1000001</td>\n",
       "      <td>-0.869157</td>\n",
       "      <td>0</td>\n",
       "      <td>0</td>\n",
       "      <td>10</td>\n",
       "      <td>2</td>\n",
       "      <td>0</td>\n",
       "      <td>12</td>\n",
       "      <td>14.000000</td>\n",
       "      <td>6.963190</td>\n",
       "      <td>1</td>\n",
       "      <td>0</td>\n",
       "      <td>0</td>\n",
       "    </tr>\n",
       "    <tr>\n",
       "      <th>4</th>\n",
       "      <td>1000002</td>\n",
       "      <td>1.077382</td>\n",
       "      <td>1</td>\n",
       "      <td>6</td>\n",
       "      <td>16</td>\n",
       "      <td>4</td>\n",
       "      <td>0</td>\n",
       "      <td>8</td>\n",
       "      <td>9.842329</td>\n",
       "      <td>8.983314</td>\n",
       "      <td>0</td>\n",
       "      <td>0</td>\n",
       "      <td>1</td>\n",
       "    </tr>\n",
       "  </tbody>\n",
       "</table>\n",
       "</div>"
      ],
      "text/plain": [
       "   User_ID  Product_ID  Gender  Age  Occupation  Stay_In_Current_City_Years  \\\n",
       "0  1000001   -1.028774       0    0          10                           2   \n",
       "1  1000001    0.722139       0    0          10                           2   \n",
       "2  1000001   -0.845799       0    0          10                           2   \n",
       "3  1000001   -0.869157       0    0          10                           2   \n",
       "4  1000002    1.077382       1    6          16                           4   \n",
       "\n",
       "   Marital_Status  Product_Category_1  Product_Category_2  Purchase  \\\n",
       "0               0                   3            9.842329  9.032409   \n",
       "1               0                   1            6.000000  9.629051   \n",
       "2               0                  12            9.842329  7.259820   \n",
       "3               0                  12           14.000000  6.963190   \n",
       "4               0                   8            9.842329  8.983314   \n",
       "\n",
       "   City_Category_0  City_Category_1  City_Category_2  \n",
       "0                1                0                0  \n",
       "1                1                0                0  \n",
       "2                1                0                0  \n",
       "3                1                0                0  \n",
       "4                0                0                1  "
      ]
     },
     "execution_count": 33,
     "metadata": {},
     "output_type": "execute_result"
    }
   ],
   "source": [
    "df= pd.get_dummies(df)\n",
    "df.head()\n",
    "## The get_dummies() function is used to convert categorical variable into dummy/indicator variables."
   ]
  },
  {
   "cell_type": "markdown",
   "id": "03a8cafc",
   "metadata": {
    "papermill": {
     "duration": 0.105042,
     "end_time": "2022-03-25T19:28:49.380819",
     "exception": false,
     "start_time": "2022-03-25T19:28:49.275777",
     "status": "completed"
    },
    "tags": []
   },
   "source": [
    "# Train test split."
   ]
  },
  {
   "cell_type": "code",
   "execution_count": 34,
   "id": "300efe44",
   "metadata": {
    "execution": {
     "iopub.execute_input": "2022-03-25T19:28:49.599126Z",
     "iopub.status.busy": "2022-03-25T19:28:49.598510Z",
     "iopub.status.idle": "2022-03-25T19:28:49.651707Z",
     "shell.execute_reply": "2022-03-25T19:28:49.652419Z",
     "shell.execute_reply.started": "2022-03-25T19:19:26.268113Z"
    },
    "papermill": {
     "duration": 0.163106,
     "end_time": "2022-03-25T19:28:49.652597",
     "exception": false,
     "start_time": "2022-03-25T19:28:49.489491",
     "status": "completed"
    },
    "tags": []
   },
   "outputs": [
    {
     "data": {
      "text/html": [
       "<div>\n",
       "<style scoped>\n",
       "    .dataframe tbody tr th:only-of-type {\n",
       "        vertical-align: middle;\n",
       "    }\n",
       "\n",
       "    .dataframe tbody tr th {\n",
       "        vertical-align: top;\n",
       "    }\n",
       "\n",
       "    .dataframe thead th {\n",
       "        text-align: right;\n",
       "    }\n",
       "</style>\n",
       "<table border=\"1\" class=\"dataframe\">\n",
       "  <thead>\n",
       "    <tr style=\"text-align: right;\">\n",
       "      <th></th>\n",
       "      <th>User_ID</th>\n",
       "      <th>Product_ID</th>\n",
       "      <th>Gender</th>\n",
       "      <th>Age</th>\n",
       "      <th>Occupation</th>\n",
       "      <th>Stay_In_Current_City_Years</th>\n",
       "      <th>Marital_Status</th>\n",
       "      <th>Product_Category_1</th>\n",
       "      <th>Product_Category_2</th>\n",
       "      <th>City_Category_0</th>\n",
       "      <th>City_Category_1</th>\n",
       "      <th>City_Category_2</th>\n",
       "    </tr>\n",
       "  </thead>\n",
       "  <tbody>\n",
       "    <tr>\n",
       "      <th>0</th>\n",
       "      <td>1000001</td>\n",
       "      <td>-1.028774</td>\n",
       "      <td>0</td>\n",
       "      <td>0</td>\n",
       "      <td>10</td>\n",
       "      <td>2</td>\n",
       "      <td>0</td>\n",
       "      <td>3</td>\n",
       "      <td>9.842329</td>\n",
       "      <td>1</td>\n",
       "      <td>0</td>\n",
       "      <td>0</td>\n",
       "    </tr>\n",
       "    <tr>\n",
       "      <th>1</th>\n",
       "      <td>1000001</td>\n",
       "      <td>0.722139</td>\n",
       "      <td>0</td>\n",
       "      <td>0</td>\n",
       "      <td>10</td>\n",
       "      <td>2</td>\n",
       "      <td>0</td>\n",
       "      <td>1</td>\n",
       "      <td>6.000000</td>\n",
       "      <td>1</td>\n",
       "      <td>0</td>\n",
       "      <td>0</td>\n",
       "    </tr>\n",
       "    <tr>\n",
       "      <th>2</th>\n",
       "      <td>1000001</td>\n",
       "      <td>-0.845799</td>\n",
       "      <td>0</td>\n",
       "      <td>0</td>\n",
       "      <td>10</td>\n",
       "      <td>2</td>\n",
       "      <td>0</td>\n",
       "      <td>12</td>\n",
       "      <td>9.842329</td>\n",
       "      <td>1</td>\n",
       "      <td>0</td>\n",
       "      <td>0</td>\n",
       "    </tr>\n",
       "    <tr>\n",
       "      <th>3</th>\n",
       "      <td>1000001</td>\n",
       "      <td>-0.869157</td>\n",
       "      <td>0</td>\n",
       "      <td>0</td>\n",
       "      <td>10</td>\n",
       "      <td>2</td>\n",
       "      <td>0</td>\n",
       "      <td>12</td>\n",
       "      <td>14.000000</td>\n",
       "      <td>1</td>\n",
       "      <td>0</td>\n",
       "      <td>0</td>\n",
       "    </tr>\n",
       "    <tr>\n",
       "      <th>4</th>\n",
       "      <td>1000002</td>\n",
       "      <td>1.077382</td>\n",
       "      <td>1</td>\n",
       "      <td>6</td>\n",
       "      <td>16</td>\n",
       "      <td>4</td>\n",
       "      <td>0</td>\n",
       "      <td>8</td>\n",
       "      <td>9.842329</td>\n",
       "      <td>0</td>\n",
       "      <td>0</td>\n",
       "      <td>1</td>\n",
       "    </tr>\n",
       "  </tbody>\n",
       "</table>\n",
       "</div>"
      ],
      "text/plain": [
       "   User_ID  Product_ID  Gender  Age  Occupation  Stay_In_Current_City_Years  \\\n",
       "0  1000001   -1.028774       0    0          10                           2   \n",
       "1  1000001    0.722139       0    0          10                           2   \n",
       "2  1000001   -0.845799       0    0          10                           2   \n",
       "3  1000001   -0.869157       0    0          10                           2   \n",
       "4  1000002    1.077382       1    6          16                           4   \n",
       "\n",
       "   Marital_Status  Product_Category_1  Product_Category_2  City_Category_0  \\\n",
       "0               0                   3            9.842329                1   \n",
       "1               0                   1            6.000000                1   \n",
       "2               0                  12            9.842329                1   \n",
       "3               0                  12           14.000000                1   \n",
       "4               0                   8            9.842329                0   \n",
       "\n",
       "   City_Category_1  City_Category_2  \n",
       "0                0                0  \n",
       "1                0                0  \n",
       "2                0                0  \n",
       "3                0                0  \n",
       "4                0                1  "
      ]
     },
     "execution_count": 34,
     "metadata": {},
     "output_type": "execute_result"
    }
   ],
   "source": [
    "X=df.drop(labels=['Purchase'],axis=1)                         \n",
    "Y=df['Purchase']\n",
    "X.head()\n",
    "## The data is split into X and Y where independent and dependent variables have been separated."
   ]
  },
  {
   "cell_type": "code",
   "execution_count": 35,
   "id": "a00af137",
   "metadata": {
    "execution": {
     "iopub.execute_input": "2022-03-25T19:28:49.871928Z",
     "iopub.status.busy": "2022-03-25T19:28:49.871237Z",
     "iopub.status.idle": "2022-03-25T19:28:49.875103Z",
     "shell.execute_reply": "2022-03-25T19:28:49.874595Z",
     "shell.execute_reply.started": "2022-03-25T19:19:26.331146Z"
    },
    "papermill": {
     "duration": 0.116313,
     "end_time": "2022-03-25T19:28:49.875247",
     "exception": false,
     "start_time": "2022-03-25T19:28:49.758934",
     "status": "completed"
    },
    "tags": []
   },
   "outputs": [
    {
     "data": {
      "text/plain": [
       "0         9.032409\n",
       "1         9.629051\n",
       "2         7.259820\n",
       "3         6.963190\n",
       "4         8.983314\n",
       "            ...   \n",
       "550063    5.908083\n",
       "550064    5.916202\n",
       "550065    4.919981\n",
       "550066    5.899897\n",
       "550067    6.194405\n",
       "Name: Purchase, Length: 550068, dtype: float64"
      ]
     },
     "execution_count": 35,
     "metadata": {},
     "output_type": "execute_result"
    }
   ],
   "source": [
    "# Target column.\n",
    "Y"
   ]
  },
  {
   "cell_type": "markdown",
   "id": "7d9ce4f1",
   "metadata": {
    "papermill": {
     "duration": 0.108923,
     "end_time": "2022-03-25T19:28:50.092323",
     "exception": false,
     "start_time": "2022-03-25T19:28:49.983400",
     "status": "completed"
    },
    "tags": []
   },
   "source": [
    "## 80 percent data is used for training purpose and 20 percent is used for testing."
   ]
  },
  {
   "cell_type": "code",
   "execution_count": 36,
   "id": "73aa8a68",
   "metadata": {
    "execution": {
     "iopub.execute_input": "2022-03-25T19:28:50.312867Z",
     "iopub.status.busy": "2022-03-25T19:28:50.312111Z",
     "iopub.status.idle": "2022-03-25T19:28:50.443101Z",
     "shell.execute_reply": "2022-03-25T19:28:50.442562Z",
     "shell.execute_reply.started": "2022-03-25T19:19:26.339513Z"
    },
    "papermill": {
     "duration": 0.243815,
     "end_time": "2022-03-25T19:28:50.443251",
     "exception": false,
     "start_time": "2022-03-25T19:28:50.199436",
     "status": "completed"
    },
    "tags": []
   },
   "outputs": [
    {
     "name": "stdout",
     "output_type": "stream",
     "text": [
      "(440054, 12) (110014, 12) (440054,) (110014,)\n"
     ]
    }
   ],
   "source": [
    "X_train,X_test,Y_train,Y_test=train_test_split(X,Y,test_size=0.2,random_state=0)\n",
    "print(X_train.shape,X_test.shape,Y_train.shape,Y_test.shape)\n",
    "## The data has been split into Train and test."
   ]
  },
  {
   "cell_type": "markdown",
   "id": "6989d598",
   "metadata": {
    "papermill": {
     "duration": 0.107107,
     "end_time": "2022-03-25T19:28:50.658020",
     "exception": false,
     "start_time": "2022-03-25T19:28:50.550913",
     "status": "completed"
    },
    "tags": []
   },
   "source": [
    "## Scaling the data"
   ]
  },
  {
   "cell_type": "code",
   "execution_count": 37,
   "id": "efe4baaa",
   "metadata": {
    "execution": {
     "iopub.execute_input": "2022-03-25T19:28:50.876698Z",
     "iopub.status.busy": "2022-03-25T19:28:50.875717Z",
     "iopub.status.idle": "2022-03-25T19:28:51.004177Z",
     "shell.execute_reply": "2022-03-25T19:28:51.003591Z",
     "shell.execute_reply.started": "2022-03-25T19:19:26.498790Z"
    },
    "papermill": {
     "duration": 0.238635,
     "end_time": "2022-03-25T19:28:51.004344",
     "exception": false,
     "start_time": "2022-03-25T19:28:50.765709",
     "status": "completed"
    },
    "tags": []
   },
   "outputs": [],
   "source": [
    "scaled=StandardScaler()\n",
    "X_train=scaled.fit_transform(X_train)\n",
    "X_test=scaled.transform(X_test)\n",
    "## StandardScaler standardizes a feature by subtracting the mean and then scaling to unit variance."
   ]
  },
  {
   "cell_type": "markdown",
   "id": "5540989c",
   "metadata": {
    "papermill": {
     "duration": 0.110032,
     "end_time": "2022-03-25T19:28:51.227542",
     "exception": false,
     "start_time": "2022-03-25T19:28:51.117510",
     "status": "completed"
    },
    "tags": []
   },
   "source": [
    "# Machine Learning."
   ]
  },
  {
   "cell_type": "markdown",
   "id": "44a33110",
   "metadata": {
    "papermill": {
     "duration": 0.108355,
     "end_time": "2022-03-25T19:28:51.446152",
     "exception": false,
     "start_time": "2022-03-25T19:28:51.337797",
     "status": "completed"
    },
    "tags": []
   },
   "source": [
    "## Linear Regression"
   ]
  },
  {
   "cell_type": "code",
   "execution_count": 38,
   "id": "986647fb",
   "metadata": {
    "execution": {
     "iopub.execute_input": "2022-03-25T19:28:51.667838Z",
     "iopub.status.busy": "2022-03-25T19:28:51.666588Z",
     "iopub.status.idle": "2022-03-25T19:28:51.833535Z",
     "shell.execute_reply": "2022-03-25T19:28:51.832445Z",
     "shell.execute_reply.started": "2022-03-25T19:19:26.632686Z"
    },
    "papermill": {
     "duration": 0.27947,
     "end_time": "2022-03-25T19:28:51.833771",
     "exception": false,
     "start_time": "2022-03-25T19:28:51.554301",
     "status": "completed"
    },
    "tags": []
   },
   "outputs": [
    {
     "data": {
      "text/plain": [
       "LinearRegression()"
      ]
     },
     "execution_count": 38,
     "metadata": {},
     "output_type": "execute_result"
    }
   ],
   "source": [
    "model=LinearRegression()\n",
    "model.fit(X_train,Y_train)"
   ]
  },
  {
   "cell_type": "code",
   "execution_count": 39,
   "id": "dca011b4",
   "metadata": {
    "execution": {
     "iopub.execute_input": "2022-03-25T19:28:52.082207Z",
     "iopub.status.busy": "2022-03-25T19:28:52.081573Z",
     "iopub.status.idle": "2022-03-25T19:28:52.089638Z",
     "shell.execute_reply": "2022-03-25T19:28:52.090445Z",
     "shell.execute_reply.started": "2022-03-25T19:19:26.806868Z"
    },
    "papermill": {
     "duration": 0.122773,
     "end_time": "2022-03-25T19:28:52.090723",
     "exception": false,
     "start_time": "2022-03-25T19:28:51.967950",
     "status": "completed"
    },
    "tags": []
   },
   "outputs": [],
   "source": [
    "Y_predict=model.predict(X_test)\n",
    "## Predicting on X_test"
   ]
  },
  {
   "cell_type": "code",
   "execution_count": 40,
   "id": "e244f99c",
   "metadata": {
    "execution": {
     "iopub.execute_input": "2022-03-25T19:28:52.365534Z",
     "iopub.status.busy": "2022-03-25T19:28:52.364847Z",
     "iopub.status.idle": "2022-03-25T19:28:52.372983Z",
     "shell.execute_reply": "2022-03-25T19:28:52.373531Z",
     "shell.execute_reply.started": "2022-03-25T19:19:26.825532Z"
    },
    "papermill": {
     "duration": 0.122509,
     "end_time": "2022-03-25T19:28:52.373702",
     "exception": false,
     "start_time": "2022-03-25T19:28:52.251193",
     "status": "completed"
    },
    "tags": []
   },
   "outputs": [
    {
     "name": "stdout",
     "output_type": "stream",
     "text": [
      "r2_score:  0.2016460614925666\n",
      "mean_absolute_error:  0.4556495510088039\n",
      "mean_squared_error:  0.44379427501382107\n",
      "root_mean_squared_error:  0.6661788611280165\n"
     ]
    }
   ],
   "source": [
    "score=r2_score(Y_test,Y_predict)\n",
    "mae=mean_absolute_error(Y_test,Y_predict)\n",
    "mse=mean_squared_error(Y_test,Y_predict)\n",
    "rmse=(np.sqrt(mean_squared_error(Y_test,Y_predict)))\n",
    "print('r2_score: ',score)\n",
    "print('mean_absolute_error: ',mae)\n",
    "print('mean_squared_error: ',mse)\n",
    "print('root_mean_squared_error: ',rmse)"
   ]
  },
  {
   "cell_type": "markdown",
   "id": "462f8320",
   "metadata": {
    "papermill": {
     "duration": 0.108543,
     "end_time": "2022-03-25T19:28:52.590602",
     "exception": false,
     "start_time": "2022-03-25T19:28:52.482059",
     "status": "completed"
    },
    "tags": []
   },
   "source": [
    "### The above evaluation metrics help us to find how well our model is performing. As we can see the r2_score is only 0.20 and as the Root mean square error is high the model is not very accurate to predict the purchases or the target column."
   ]
  },
  {
   "cell_type": "markdown",
   "id": "60204911",
   "metadata": {
    "papermill": {
     "duration": 0.108036,
     "end_time": "2022-03-25T19:28:52.807061",
     "exception": false,
     "start_time": "2022-03-25T19:28:52.699025",
     "status": "completed"
    },
    "tags": []
   },
   "source": [
    "## Decision Tree Regressor"
   ]
  },
  {
   "cell_type": "code",
   "execution_count": 41,
   "id": "e3c39dc8",
   "metadata": {
    "execution": {
     "iopub.execute_input": "2022-03-25T19:28:53.040827Z",
     "iopub.status.busy": "2022-03-25T19:28:53.039454Z",
     "iopub.status.idle": "2022-03-25T19:28:54.562902Z",
     "shell.execute_reply": "2022-03-25T19:28:54.562378Z",
     "shell.execute_reply.started": "2022-03-25T19:19:26.857144Z"
    },
    "papermill": {
     "duration": 1.645443,
     "end_time": "2022-03-25T19:28:54.563060",
     "exception": false,
     "start_time": "2022-03-25T19:28:52.917617",
     "status": "completed"
    },
    "tags": []
   },
   "outputs": [
    {
     "data": {
      "text/plain": [
       "DecisionTreeRegressor(max_depth=9)"
      ]
     },
     "execution_count": 41,
     "metadata": {},
     "output_type": "execute_result"
    }
   ],
   "source": [
    "DT=DecisionTreeRegressor(max_depth=9)\n",
    "DT.fit(X_train,Y_train)"
   ]
  },
  {
   "cell_type": "code",
   "execution_count": 42,
   "id": "a9254768",
   "metadata": {
    "execution": {
     "iopub.execute_input": "2022-03-25T19:28:54.787928Z",
     "iopub.status.busy": "2022-03-25T19:28:54.787190Z",
     "iopub.status.idle": "2022-03-25T19:28:54.844558Z",
     "shell.execute_reply": "2022-03-25T19:28:54.843956Z",
     "shell.execute_reply.started": "2022-03-25T19:19:28.288867Z"
    },
    "papermill": {
     "duration": 0.170845,
     "end_time": "2022-03-25T19:28:54.844701",
     "exception": false,
     "start_time": "2022-03-25T19:28:54.673856",
     "status": "completed"
    },
    "tags": []
   },
   "outputs": [],
   "source": [
    "#predicting train\n",
    "train_preds=DT.predict(X_train)\n",
    "#predicting on test\n",
    "test_preds=DT.predict(X_test)"
   ]
  },
  {
   "cell_type": "code",
   "execution_count": 43,
   "id": "59bf3ad3",
   "metadata": {
    "execution": {
     "iopub.execute_input": "2022-03-25T19:28:55.070181Z",
     "iopub.status.busy": "2022-03-25T19:28:55.069530Z",
     "iopub.status.idle": "2022-03-25T19:28:55.138539Z",
     "shell.execute_reply": "2022-03-25T19:28:55.137805Z",
     "shell.execute_reply.started": "2022-03-25T19:19:28.349437Z"
    },
    "papermill": {
     "duration": 0.185159,
     "end_time": "2022-03-25T19:28:55.138691",
     "exception": false,
     "start_time": "2022-03-25T19:28:54.953532",
     "status": "completed"
    },
    "tags": []
   },
   "outputs": [
    {
     "name": "stdout",
     "output_type": "stream",
     "text": [
      "RMSE TrainingData =  0.3680408214406252\n",
      "RMSE TestData =  0.3689257433587166\n",
      "--------------------------------------------------\n",
      "RSquared value on train: 0.7519510621944242\n",
      "RSquared value on test: 0.7551547412247448\n"
     ]
    }
   ],
   "source": [
    "RMSE_train=(np.sqrt(metrics.mean_squared_error(Y_train,train_preds)))\n",
    "RMSE_test=(np.sqrt(metrics.mean_squared_error(Y_test,test_preds)))\n",
    "print(\"RMSE TrainingData = \",str(RMSE_train))\n",
    "print(\"RMSE TestData = \",str(RMSE_test))\n",
    "print('-'*50)\n",
    "print('RSquared value on train:',DT.score(X_train, Y_train))\n",
    "print('RSquared value on test:',DT.score(X_test, Y_test))"
   ]
  },
  {
   "cell_type": "markdown",
   "id": "91d81faa",
   "metadata": {
    "papermill": {
     "duration": 0.10832,
     "end_time": "2022-03-25T19:28:55.356079",
     "exception": false,
     "start_time": "2022-03-25T19:28:55.247759",
     "status": "completed"
    },
    "tags": []
   },
   "source": [
    "### The Decision Tree Regressor is better compared to Linear regression as it can be observed that the root mean square error is less as compared to the previous model and the RSuared value is higher in this model."
   ]
  },
  {
   "cell_type": "markdown",
   "id": "03cbb0cd",
   "metadata": {
    "papermill": {
     "duration": 0.108317,
     "end_time": "2022-03-25T19:28:55.573119",
     "exception": false,
     "start_time": "2022-03-25T19:28:55.464802",
     "status": "completed"
    },
    "tags": []
   },
   "source": [
    "## Random Forest Regressor"
   ]
  },
  {
   "cell_type": "code",
   "execution_count": 44,
   "id": "42c7b80e",
   "metadata": {
    "execution": {
     "iopub.execute_input": "2022-03-25T19:28:55.795821Z",
     "iopub.status.busy": "2022-03-25T19:28:55.794537Z",
     "iopub.status.idle": "2022-03-25T19:33:15.287502Z",
     "shell.execute_reply": "2022-03-25T19:33:15.286460Z",
     "shell.execute_reply.started": "2022-03-25T19:19:28.424765Z"
    },
    "papermill": {
     "duration": 259.605207,
     "end_time": "2022-03-25T19:33:15.287671",
     "exception": false,
     "start_time": "2022-03-25T19:28:55.682464",
     "status": "completed"
    },
    "tags": []
   },
   "outputs": [],
   "source": [
    "RF=RandomForestRegressor().fit(X_train,Y_train)"
   ]
  },
  {
   "cell_type": "code",
   "execution_count": 45,
   "id": "27b7f34d",
   "metadata": {
    "execution": {
     "iopub.execute_input": "2022-03-25T19:33:15.516783Z",
     "iopub.status.busy": "2022-03-25T19:33:15.516062Z",
     "iopub.status.idle": "2022-03-25T19:34:05.034716Z",
     "shell.execute_reply": "2022-03-25T19:34:05.034067Z",
     "shell.execute_reply.started": "2022-03-25T19:23:34.687197Z"
    },
    "papermill": {
     "duration": 49.634484,
     "end_time": "2022-03-25T19:34:05.034866",
     "exception": false,
     "start_time": "2022-03-25T19:33:15.400382",
     "status": "completed"
    },
    "tags": []
   },
   "outputs": [],
   "source": [
    "#predicting train\n",
    "train_preds1=RF.predict(X_train)\n",
    "#predicting on test\n",
    "test_preds1=RF.predict(X_test)"
   ]
  },
  {
   "cell_type": "code",
   "execution_count": 46,
   "id": "db4ec9ce",
   "metadata": {
    "execution": {
     "iopub.execute_input": "2022-03-25T19:34:05.265449Z",
     "iopub.status.busy": "2022-03-25T19:34:05.264127Z",
     "iopub.status.idle": "2022-03-25T19:34:52.035568Z",
     "shell.execute_reply": "2022-03-25T19:34:52.036034Z",
     "shell.execute_reply.started": "2022-03-25T19:24:21.492386Z"
    },
    "papermill": {
     "duration": 46.889247,
     "end_time": "2022-03-25T19:34:52.036228",
     "exception": false,
     "start_time": "2022-03-25T19:34:05.146981",
     "status": "completed"
    },
    "tags": []
   },
   "outputs": [
    {
     "name": "stdout",
     "output_type": "stream",
     "text": [
      "RMSE TrainingData =  0.13152677397972465\n",
      "RMSE TestData =  0.3499043441654934\n",
      "--------------------------------------------------\n",
      "RSquared value on train: 0.9683208350570915\n",
      "RSquared value on test: 0.779751760609052\n"
     ]
    }
   ],
   "source": [
    "RMSE_train=(np.sqrt(metrics.mean_squared_error(Y_train,train_preds1)))\n",
    "RMSE_test=(np.sqrt(metrics.mean_squared_error(Y_test,test_preds1)))\n",
    "print(\"RMSE TrainingData = \",str(RMSE_train))\n",
    "print(\"RMSE TestData = \",str(RMSE_test))\n",
    "print('-'*50)\n",
    "print('RSquared value on train:',RF.score(X_train, Y_train))\n",
    "print('RSquared value on test:',RF.score(X_test, Y_test))"
   ]
  },
  {
   "cell_type": "markdown",
   "id": "92f93800",
   "metadata": {
    "papermill": {
     "duration": 0.108816,
     "end_time": "2022-03-25T19:34:52.255056",
     "exception": false,
     "start_time": "2022-03-25T19:34:52.146240",
     "status": "completed"
    },
    "tags": []
   },
   "source": [
    "### The Random Forest regressor model is again better than the previous model as we have a lower root mean square error value and the Rsquared value is higher than the previous model."
   ]
  },
  {
   "cell_type": "code",
   "execution_count": 47,
   "id": "c51fc77a",
   "metadata": {
    "execution": {
     "iopub.execute_input": "2022-03-25T19:34:52.477604Z",
     "iopub.status.busy": "2022-03-25T19:34:52.476908Z",
     "iopub.status.idle": "2022-03-25T19:34:52.809417Z",
     "shell.execute_reply": "2022-03-25T19:34:52.808856Z",
     "shell.execute_reply.started": "2022-03-25T19:25:07.845046Z"
    },
    "papermill": {
     "duration": 0.444449,
     "end_time": "2022-03-25T19:34:52.809571",
     "exception": false,
     "start_time": "2022-03-25T19:34:52.365122",
     "status": "completed"
    },
    "tags": []
   },
   "outputs": [],
   "source": [
    "df_test=pd.read_csv('../input/black-friday-sales-prediction/test.csv')\n",
    "## Loading test dataset"
   ]
  },
  {
   "cell_type": "code",
   "execution_count": 48,
   "id": "47baa4af",
   "metadata": {
    "execution": {
     "iopub.execute_input": "2022-03-25T19:34:53.037661Z",
     "iopub.status.busy": "2022-03-25T19:34:53.036991Z",
     "iopub.status.idle": "2022-03-25T19:34:53.054415Z",
     "shell.execute_reply": "2022-03-25T19:34:53.054908Z",
     "shell.execute_reply.started": "2022-03-25T19:25:08.222700Z"
    },
    "papermill": {
     "duration": 0.134945,
     "end_time": "2022-03-25T19:34:53.055072",
     "exception": false,
     "start_time": "2022-03-25T19:34:52.920127",
     "status": "completed"
    },
    "tags": []
   },
   "outputs": [
    {
     "data": {
      "text/html": [
       "<div>\n",
       "<style scoped>\n",
       "    .dataframe tbody tr th:only-of-type {\n",
       "        vertical-align: middle;\n",
       "    }\n",
       "\n",
       "    .dataframe tbody tr th {\n",
       "        vertical-align: top;\n",
       "    }\n",
       "\n",
       "    .dataframe thead th {\n",
       "        text-align: right;\n",
       "    }\n",
       "</style>\n",
       "<table border=\"1\" class=\"dataframe\">\n",
       "  <thead>\n",
       "    <tr style=\"text-align: right;\">\n",
       "      <th></th>\n",
       "      <th>User_ID</th>\n",
       "      <th>Product_ID</th>\n",
       "      <th>Gender</th>\n",
       "      <th>Age</th>\n",
       "      <th>Occupation</th>\n",
       "      <th>City_Category</th>\n",
       "      <th>Stay_In_Current_City_Years</th>\n",
       "      <th>Marital_Status</th>\n",
       "      <th>Product_Category_1</th>\n",
       "      <th>Product_Category_2</th>\n",
       "      <th>Product_Category_3</th>\n",
       "    </tr>\n",
       "  </thead>\n",
       "  <tbody>\n",
       "    <tr>\n",
       "      <th>0</th>\n",
       "      <td>1000004</td>\n",
       "      <td>P00128942</td>\n",
       "      <td>M</td>\n",
       "      <td>46-50</td>\n",
       "      <td>7</td>\n",
       "      <td>B</td>\n",
       "      <td>2</td>\n",
       "      <td>1</td>\n",
       "      <td>1</td>\n",
       "      <td>11.0</td>\n",
       "      <td>NaN</td>\n",
       "    </tr>\n",
       "    <tr>\n",
       "      <th>1</th>\n",
       "      <td>1000009</td>\n",
       "      <td>P00113442</td>\n",
       "      <td>M</td>\n",
       "      <td>26-35</td>\n",
       "      <td>17</td>\n",
       "      <td>C</td>\n",
       "      <td>0</td>\n",
       "      <td>0</td>\n",
       "      <td>3</td>\n",
       "      <td>5.0</td>\n",
       "      <td>NaN</td>\n",
       "    </tr>\n",
       "    <tr>\n",
       "      <th>2</th>\n",
       "      <td>1000010</td>\n",
       "      <td>P00288442</td>\n",
       "      <td>F</td>\n",
       "      <td>36-45</td>\n",
       "      <td>1</td>\n",
       "      <td>B</td>\n",
       "      <td>4+</td>\n",
       "      <td>1</td>\n",
       "      <td>5</td>\n",
       "      <td>14.0</td>\n",
       "      <td>NaN</td>\n",
       "    </tr>\n",
       "    <tr>\n",
       "      <th>3</th>\n",
       "      <td>1000010</td>\n",
       "      <td>P00145342</td>\n",
       "      <td>F</td>\n",
       "      <td>36-45</td>\n",
       "      <td>1</td>\n",
       "      <td>B</td>\n",
       "      <td>4+</td>\n",
       "      <td>1</td>\n",
       "      <td>4</td>\n",
       "      <td>9.0</td>\n",
       "      <td>NaN</td>\n",
       "    </tr>\n",
       "    <tr>\n",
       "      <th>4</th>\n",
       "      <td>1000011</td>\n",
       "      <td>P00053842</td>\n",
       "      <td>F</td>\n",
       "      <td>26-35</td>\n",
       "      <td>1</td>\n",
       "      <td>C</td>\n",
       "      <td>1</td>\n",
       "      <td>0</td>\n",
       "      <td>4</td>\n",
       "      <td>5.0</td>\n",
       "      <td>12.0</td>\n",
       "    </tr>\n",
       "    <tr>\n",
       "      <th>...</th>\n",
       "      <td>...</td>\n",
       "      <td>...</td>\n",
       "      <td>...</td>\n",
       "      <td>...</td>\n",
       "      <td>...</td>\n",
       "      <td>...</td>\n",
       "      <td>...</td>\n",
       "      <td>...</td>\n",
       "      <td>...</td>\n",
       "      <td>...</td>\n",
       "      <td>...</td>\n",
       "    </tr>\n",
       "    <tr>\n",
       "      <th>233594</th>\n",
       "      <td>1006036</td>\n",
       "      <td>P00118942</td>\n",
       "      <td>F</td>\n",
       "      <td>26-35</td>\n",
       "      <td>15</td>\n",
       "      <td>B</td>\n",
       "      <td>4+</td>\n",
       "      <td>1</td>\n",
       "      <td>8</td>\n",
       "      <td>NaN</td>\n",
       "      <td>NaN</td>\n",
       "    </tr>\n",
       "    <tr>\n",
       "      <th>233595</th>\n",
       "      <td>1006036</td>\n",
       "      <td>P00254642</td>\n",
       "      <td>F</td>\n",
       "      <td>26-35</td>\n",
       "      <td>15</td>\n",
       "      <td>B</td>\n",
       "      <td>4+</td>\n",
       "      <td>1</td>\n",
       "      <td>5</td>\n",
       "      <td>8.0</td>\n",
       "      <td>NaN</td>\n",
       "    </tr>\n",
       "    <tr>\n",
       "      <th>233596</th>\n",
       "      <td>1006036</td>\n",
       "      <td>P00031842</td>\n",
       "      <td>F</td>\n",
       "      <td>26-35</td>\n",
       "      <td>15</td>\n",
       "      <td>B</td>\n",
       "      <td>4+</td>\n",
       "      <td>1</td>\n",
       "      <td>1</td>\n",
       "      <td>5.0</td>\n",
       "      <td>12.0</td>\n",
       "    </tr>\n",
       "    <tr>\n",
       "      <th>233597</th>\n",
       "      <td>1006037</td>\n",
       "      <td>P00124742</td>\n",
       "      <td>F</td>\n",
       "      <td>46-50</td>\n",
       "      <td>1</td>\n",
       "      <td>C</td>\n",
       "      <td>4+</td>\n",
       "      <td>0</td>\n",
       "      <td>10</td>\n",
       "      <td>16.0</td>\n",
       "      <td>NaN</td>\n",
       "    </tr>\n",
       "    <tr>\n",
       "      <th>233598</th>\n",
       "      <td>1006039</td>\n",
       "      <td>P00316642</td>\n",
       "      <td>F</td>\n",
       "      <td>46-50</td>\n",
       "      <td>0</td>\n",
       "      <td>B</td>\n",
       "      <td>4+</td>\n",
       "      <td>1</td>\n",
       "      <td>4</td>\n",
       "      <td>5.0</td>\n",
       "      <td>NaN</td>\n",
       "    </tr>\n",
       "  </tbody>\n",
       "</table>\n",
       "<p>233599 rows × 11 columns</p>\n",
       "</div>"
      ],
      "text/plain": [
       "        User_ID Product_ID Gender    Age  Occupation City_Category  \\\n",
       "0       1000004  P00128942      M  46-50           7             B   \n",
       "1       1000009  P00113442      M  26-35          17             C   \n",
       "2       1000010  P00288442      F  36-45           1             B   \n",
       "3       1000010  P00145342      F  36-45           1             B   \n",
       "4       1000011  P00053842      F  26-35           1             C   \n",
       "...         ...        ...    ...    ...         ...           ...   \n",
       "233594  1006036  P00118942      F  26-35          15             B   \n",
       "233595  1006036  P00254642      F  26-35          15             B   \n",
       "233596  1006036  P00031842      F  26-35          15             B   \n",
       "233597  1006037  P00124742      F  46-50           1             C   \n",
       "233598  1006039  P00316642      F  46-50           0             B   \n",
       "\n",
       "       Stay_In_Current_City_Years  Marital_Status  Product_Category_1  \\\n",
       "0                               2               1                   1   \n",
       "1                               0               0                   3   \n",
       "2                              4+               1                   5   \n",
       "3                              4+               1                   4   \n",
       "4                               1               0                   4   \n",
       "...                           ...             ...                 ...   \n",
       "233594                         4+               1                   8   \n",
       "233595                         4+               1                   5   \n",
       "233596                         4+               1                   1   \n",
       "233597                         4+               0                  10   \n",
       "233598                         4+               1                   4   \n",
       "\n",
       "        Product_Category_2  Product_Category_3  \n",
       "0                     11.0                 NaN  \n",
       "1                      5.0                 NaN  \n",
       "2                     14.0                 NaN  \n",
       "3                      9.0                 NaN  \n",
       "4                      5.0                12.0  \n",
       "...                    ...                 ...  \n",
       "233594                 NaN                 NaN  \n",
       "233595                 8.0                 NaN  \n",
       "233596                 5.0                12.0  \n",
       "233597                16.0                 NaN  \n",
       "233598                 5.0                 NaN  \n",
       "\n",
       "[233599 rows x 11 columns]"
      ]
     },
     "execution_count": 48,
     "metadata": {},
     "output_type": "execute_result"
    }
   ],
   "source": [
    "df_test"
   ]
  },
  {
   "cell_type": "code",
   "execution_count": 49,
   "id": "0d18b1b0",
   "metadata": {
    "execution": {
     "iopub.execute_input": "2022-03-25T19:34:53.281207Z",
     "iopub.status.busy": "2022-03-25T19:34:53.280547Z",
     "iopub.status.idle": "2022-03-25T19:34:53.414229Z",
     "shell.execute_reply": "2022-03-25T19:34:53.413572Z",
     "shell.execute_reply.started": "2022-03-25T19:25:08.247463Z"
    },
    "papermill": {
     "duration": 0.248289,
     "end_time": "2022-03-25T19:34:53.414404",
     "exception": false,
     "start_time": "2022-03-25T19:34:53.166115",
     "status": "completed"
    },
    "tags": []
   },
   "outputs": [
    {
     "data": {
      "text/plain": [
       "User_ID                            0\n",
       "Product_ID                         0\n",
       "Gender                             0\n",
       "Age                                0\n",
       "Occupation                         0\n",
       "City_Category                      0\n",
       "Stay_In_Current_City_Years         0\n",
       "Marital_Status                     0\n",
       "Product_Category_1                 0\n",
       "Product_Category_2             72344\n",
       "Product_Category_3            162562\n",
       "dtype: int64"
      ]
     },
     "execution_count": 49,
     "metadata": {},
     "output_type": "execute_result"
    }
   ],
   "source": [
    "df_test.isnull().sum()\n",
    "## Checking for missing values present in the test dataset."
   ]
  },
  {
   "cell_type": "markdown",
   "id": "6068dcf4",
   "metadata": {
    "papermill": {
     "duration": 0.112116,
     "end_time": "2022-03-25T19:34:53.638636",
     "exception": false,
     "start_time": "2022-03-25T19:34:53.526520",
     "status": "completed"
    },
    "tags": []
   },
   "source": [
    "## The null values in the test data have to be treated as well."
   ]
  },
  {
   "cell_type": "code",
   "execution_count": 50,
   "id": "29a7ab2a",
   "metadata": {
    "execution": {
     "iopub.execute_input": "2022-03-25T19:34:53.892802Z",
     "iopub.status.busy": "2022-03-25T19:34:53.891828Z",
     "iopub.status.idle": "2022-03-25T19:34:54.188589Z",
     "shell.execute_reply": "2022-03-25T19:34:54.187933Z",
     "shell.execute_reply.started": "2022-03-25T19:25:08.389552Z"
    },
    "papermill": {
     "duration": 0.438233,
     "end_time": "2022-03-25T19:34:54.188740",
     "exception": false,
     "start_time": "2022-03-25T19:34:53.750507",
     "status": "completed"
    },
    "tags": []
   },
   "outputs": [],
   "source": [
    "df_test['Product_ID'] = df_test['Product_ID'].str.replace('P00', '')\n",
    "ss = StandardScaler()\n",
    "df_test['Product_ID'] = ss.fit_transform(df_test['Product_ID'].values.reshape(-1, 1))\n",
    "## The 'P00' value has been replaced int he ProductId column and the column has been scaled. "
   ]
  },
  {
   "cell_type": "code",
   "execution_count": 51,
   "id": "756e0685",
   "metadata": {
    "execution": {
     "iopub.execute_input": "2022-03-25T19:34:54.421010Z",
     "iopub.status.busy": "2022-03-25T19:34:54.419911Z",
     "iopub.status.idle": "2022-03-25T19:34:54.433534Z",
     "shell.execute_reply": "2022-03-25T19:34:54.434056Z",
     "shell.execute_reply.started": "2022-03-25T19:25:08.713027Z"
    },
    "papermill": {
     "duration": 0.13175,
     "end_time": "2022-03-25T19:34:54.434225",
     "exception": false,
     "start_time": "2022-03-25T19:34:54.302475",
     "status": "completed"
    },
    "tags": []
   },
   "outputs": [],
   "source": [
    "df_test.drop(['Product_Category_3'],axis=1,inplace=True)\n",
    "## As the Product_Category_3 column in the train set had been removed. Same has been done here aswell."
   ]
  },
  {
   "cell_type": "code",
   "execution_count": 52,
   "id": "28c6fe36",
   "metadata": {
    "execution": {
     "iopub.execute_input": "2022-03-25T19:34:54.660860Z",
     "iopub.status.busy": "2022-03-25T19:34:54.660118Z",
     "iopub.status.idle": "2022-03-25T19:34:54.666827Z",
     "shell.execute_reply": "2022-03-25T19:34:54.667320Z",
     "shell.execute_reply.started": "2022-03-25T19:25:08.737113Z"
    },
    "papermill": {
     "duration": 0.122436,
     "end_time": "2022-03-25T19:34:54.667530",
     "exception": false,
     "start_time": "2022-03-25T19:34:54.545094",
     "status": "completed"
    },
    "tags": []
   },
   "outputs": [],
   "source": [
    "df_test['Product_Category_2']=df_test['Product_Category_2'].fillna(df_test['Product_Category_2'].mean())\n",
    "## Product_Category_2 has been imputed with mean"
   ]
  },
  {
   "cell_type": "code",
   "execution_count": 53,
   "id": "b0b13a85",
   "metadata": {
    "execution": {
     "iopub.execute_input": "2022-03-25T19:34:54.991547Z",
     "iopub.status.busy": "2022-03-25T19:34:54.990867Z",
     "iopub.status.idle": "2022-03-25T19:34:55.001686Z",
     "shell.execute_reply": "2022-03-25T19:34:55.001004Z",
     "shell.execute_reply.started": "2022-03-25T19:25:08.747781Z"
    },
    "papermill": {
     "duration": 0.223881,
     "end_time": "2022-03-25T19:34:55.001834",
     "exception": false,
     "start_time": "2022-03-25T19:34:54.777953",
     "status": "completed"
    },
    "tags": []
   },
   "outputs": [
    {
     "data": {
      "text/plain": [
       "User_ID                       0\n",
       "Product_ID                    0\n",
       "Gender                        0\n",
       "Age                           0\n",
       "Occupation                    0\n",
       "City_Category                 0\n",
       "Stay_In_Current_City_Years    0\n",
       "Marital_Status                0\n",
       "Product_Category_1            0\n",
       "Product_Category_2            0\n",
       "dtype: int64"
      ]
     },
     "execution_count": 53,
     "metadata": {},
     "output_type": "execute_result"
    }
   ],
   "source": [
    "df_test.isnull().sum()\n",
    "## As we see there are no null values in the test dataframe as well."
   ]
  },
  {
   "cell_type": "code",
   "execution_count": 54,
   "id": "fa5c42d9",
   "metadata": {
    "execution": {
     "iopub.execute_input": "2022-03-25T19:34:55.251452Z",
     "iopub.status.busy": "2022-03-25T19:34:55.250740Z",
     "iopub.status.idle": "2022-03-25T19:34:55.253582Z",
     "shell.execute_reply": "2022-03-25T19:34:55.254058Z",
     "shell.execute_reply.started": "2022-03-25T19:25:08.863615Z"
    },
    "papermill": {
     "duration": 0.13749,
     "end_time": "2022-03-25T19:34:55.254233",
     "exception": false,
     "start_time": "2022-03-25T19:34:55.116743",
     "status": "completed"
    },
    "tags": []
   },
   "outputs": [
    {
     "data": {
      "text/html": [
       "<div>\n",
       "<style scoped>\n",
       "    .dataframe tbody tr th:only-of-type {\n",
       "        vertical-align: middle;\n",
       "    }\n",
       "\n",
       "    .dataframe tbody tr th {\n",
       "        vertical-align: top;\n",
       "    }\n",
       "\n",
       "    .dataframe thead th {\n",
       "        text-align: right;\n",
       "    }\n",
       "</style>\n",
       "<table border=\"1\" class=\"dataframe\">\n",
       "  <thead>\n",
       "    <tr style=\"text-align: right;\">\n",
       "      <th></th>\n",
       "      <th>User_ID</th>\n",
       "      <th>Product_ID</th>\n",
       "      <th>Gender</th>\n",
       "      <th>Age</th>\n",
       "      <th>Occupation</th>\n",
       "      <th>City_Category</th>\n",
       "      <th>Stay_In_Current_City_Years</th>\n",
       "      <th>Marital_Status</th>\n",
       "      <th>Product_Category_1</th>\n",
       "      <th>Product_Category_2</th>\n",
       "    </tr>\n",
       "  </thead>\n",
       "  <tbody>\n",
       "    <tr>\n",
       "      <th>0</th>\n",
       "      <td>1000004</td>\n",
       "      <td>-0.434752</td>\n",
       "      <td>M</td>\n",
       "      <td>46-50</td>\n",
       "      <td>7</td>\n",
       "      <td>B</td>\n",
       "      <td>2</td>\n",
       "      <td>1</td>\n",
       "      <td>1</td>\n",
       "      <td>11.000000</td>\n",
       "    </tr>\n",
       "    <tr>\n",
       "      <th>1</th>\n",
       "      <td>1000009</td>\n",
       "      <td>-0.587188</td>\n",
       "      <td>M</td>\n",
       "      <td>26-35</td>\n",
       "      <td>17</td>\n",
       "      <td>C</td>\n",
       "      <td>0</td>\n",
       "      <td>0</td>\n",
       "      <td>3</td>\n",
       "      <td>5.000000</td>\n",
       "    </tr>\n",
       "    <tr>\n",
       "      <th>2</th>\n",
       "      <td>1000010</td>\n",
       "      <td>1.133865</td>\n",
       "      <td>F</td>\n",
       "      <td>36-45</td>\n",
       "      <td>1</td>\n",
       "      <td>B</td>\n",
       "      <td>4+</td>\n",
       "      <td>1</td>\n",
       "      <td>5</td>\n",
       "      <td>14.000000</td>\n",
       "    </tr>\n",
       "    <tr>\n",
       "      <th>3</th>\n",
       "      <td>1000010</td>\n",
       "      <td>-0.273465</td>\n",
       "      <td>F</td>\n",
       "      <td>36-45</td>\n",
       "      <td>1</td>\n",
       "      <td>B</td>\n",
       "      <td>4+</td>\n",
       "      <td>1</td>\n",
       "      <td>4</td>\n",
       "      <td>9.000000</td>\n",
       "    </tr>\n",
       "    <tr>\n",
       "      <th>4</th>\n",
       "      <td>1000011</td>\n",
       "      <td>-1.173330</td>\n",
       "      <td>F</td>\n",
       "      <td>26-35</td>\n",
       "      <td>1</td>\n",
       "      <td>C</td>\n",
       "      <td>1</td>\n",
       "      <td>0</td>\n",
       "      <td>4</td>\n",
       "      <td>5.000000</td>\n",
       "    </tr>\n",
       "    <tr>\n",
       "      <th>...</th>\n",
       "      <td>...</td>\n",
       "      <td>...</td>\n",
       "      <td>...</td>\n",
       "      <td>...</td>\n",
       "      <td>...</td>\n",
       "      <td>...</td>\n",
       "      <td>...</td>\n",
       "      <td>...</td>\n",
       "      <td>...</td>\n",
       "      <td>...</td>\n",
       "    </tr>\n",
       "    <tr>\n",
       "      <th>233594</th>\n",
       "      <td>1006036</td>\n",
       "      <td>-0.533098</td>\n",
       "      <td>F</td>\n",
       "      <td>26-35</td>\n",
       "      <td>15</td>\n",
       "      <td>B</td>\n",
       "      <td>4+</td>\n",
       "      <td>1</td>\n",
       "      <td>8</td>\n",
       "      <td>9.849586</td>\n",
       "    </tr>\n",
       "    <tr>\n",
       "      <th>233595</th>\n",
       "      <td>1006036</td>\n",
       "      <td>0.801456</td>\n",
       "      <td>F</td>\n",
       "      <td>26-35</td>\n",
       "      <td>15</td>\n",
       "      <td>B</td>\n",
       "      <td>4+</td>\n",
       "      <td>1</td>\n",
       "      <td>5</td>\n",
       "      <td>8.000000</td>\n",
       "    </tr>\n",
       "    <tr>\n",
       "      <th>233596</th>\n",
       "      <td>1006036</td>\n",
       "      <td>-1.389691</td>\n",
       "      <td>F</td>\n",
       "      <td>26-35</td>\n",
       "      <td>15</td>\n",
       "      <td>B</td>\n",
       "      <td>4+</td>\n",
       "      <td>1</td>\n",
       "      <td>1</td>\n",
       "      <td>5.000000</td>\n",
       "    </tr>\n",
       "    <tr>\n",
       "      <th>233597</th>\n",
       "      <td>1006037</td>\n",
       "      <td>-0.476058</td>\n",
       "      <td>F</td>\n",
       "      <td>46-50</td>\n",
       "      <td>1</td>\n",
       "      <td>C</td>\n",
       "      <td>4+</td>\n",
       "      <td>0</td>\n",
       "      <td>10</td>\n",
       "      <td>16.000000</td>\n",
       "    </tr>\n",
       "    <tr>\n",
       "      <th>233598</th>\n",
       "      <td>1006039</td>\n",
       "      <td>1.411200</td>\n",
       "      <td>F</td>\n",
       "      <td>46-50</td>\n",
       "      <td>0</td>\n",
       "      <td>B</td>\n",
       "      <td>4+</td>\n",
       "      <td>1</td>\n",
       "      <td>4</td>\n",
       "      <td>5.000000</td>\n",
       "    </tr>\n",
       "  </tbody>\n",
       "</table>\n",
       "<p>233599 rows × 10 columns</p>\n",
       "</div>"
      ],
      "text/plain": [
       "        User_ID  Product_ID Gender    Age  Occupation City_Category  \\\n",
       "0       1000004   -0.434752      M  46-50           7             B   \n",
       "1       1000009   -0.587188      M  26-35          17             C   \n",
       "2       1000010    1.133865      F  36-45           1             B   \n",
       "3       1000010   -0.273465      F  36-45           1             B   \n",
       "4       1000011   -1.173330      F  26-35           1             C   \n",
       "...         ...         ...    ...    ...         ...           ...   \n",
       "233594  1006036   -0.533098      F  26-35          15             B   \n",
       "233595  1006036    0.801456      F  26-35          15             B   \n",
       "233596  1006036   -1.389691      F  26-35          15             B   \n",
       "233597  1006037   -0.476058      F  46-50           1             C   \n",
       "233598  1006039    1.411200      F  46-50           0             B   \n",
       "\n",
       "       Stay_In_Current_City_Years  Marital_Status  Product_Category_1  \\\n",
       "0                               2               1                   1   \n",
       "1                               0               0                   3   \n",
       "2                              4+               1                   5   \n",
       "3                              4+               1                   4   \n",
       "4                               1               0                   4   \n",
       "...                           ...             ...                 ...   \n",
       "233594                         4+               1                   8   \n",
       "233595                         4+               1                   5   \n",
       "233596                         4+               1                   1   \n",
       "233597                         4+               0                  10   \n",
       "233598                         4+               1                   4   \n",
       "\n",
       "        Product_Category_2  \n",
       "0                11.000000  \n",
       "1                 5.000000  \n",
       "2                14.000000  \n",
       "3                 9.000000  \n",
       "4                 5.000000  \n",
       "...                    ...  \n",
       "233594            9.849586  \n",
       "233595            8.000000  \n",
       "233596            5.000000  \n",
       "233597           16.000000  \n",
       "233598            5.000000  \n",
       "\n",
       "[233599 rows x 10 columns]"
      ]
     },
     "execution_count": 54,
     "metadata": {},
     "output_type": "execute_result"
    }
   ],
   "source": [
    "df_test"
   ]
  },
  {
   "cell_type": "markdown",
   "id": "6e6d1260",
   "metadata": {
    "papermill": {
     "duration": 0.111994,
     "end_time": "2022-03-25T19:34:55.479504",
     "exception": false,
     "start_time": "2022-03-25T19:34:55.367510",
     "status": "completed"
    },
    "tags": []
   },
   "source": [
    "## Label Encoding categorical data"
   ]
  },
  {
   "cell_type": "code",
   "execution_count": 55,
   "id": "d98398a9",
   "metadata": {
    "execution": {
     "iopub.execute_input": "2022-03-25T19:34:55.774223Z",
     "iopub.status.busy": "2022-03-25T19:34:55.705780Z",
     "iopub.status.idle": "2022-03-25T19:34:55.923193Z",
     "shell.execute_reply": "2022-03-25T19:34:55.922591Z",
     "shell.execute_reply.started": "2022-03-25T19:25:08.885019Z"
    },
    "papermill": {
     "duration": 0.331903,
     "end_time": "2022-03-25T19:34:55.923347",
     "exception": false,
     "start_time": "2022-03-25T19:34:55.591444",
     "status": "completed"
    },
    "tags": []
   },
   "outputs": [
    {
     "data": {
      "text/plain": [
       "User_ID                         int64\n",
       "Product_ID                    float64\n",
       "Gender                          int64\n",
       "Age                             int64\n",
       "Occupation                      int64\n",
       "City_Category                   int64\n",
       "Stay_In_Current_City_Years     object\n",
       "Marital_Status                  int64\n",
       "Product_Category_1              int64\n",
       "Product_Category_2            float64\n",
       "dtype: object"
      ]
     },
     "execution_count": 55,
     "metadata": {},
     "output_type": "execute_result"
    }
   ],
   "source": [
    "cat_cols=['Gender','City_Category','Age']\n",
    "le=LabelEncoder()\n",
    "for i in cat_cols:\n",
    "    df_test[i]=le.fit_transform(df_test[i])\n",
    "df_test.dtypes\n",
    "## The label encoding technique will now replace all the categorical variables to numeric for easier computation."
   ]
  },
  {
   "cell_type": "markdown",
   "id": "a5d9a518",
   "metadata": {
    "papermill": {
     "duration": 0.125353,
     "end_time": "2022-03-25T19:34:56.178143",
     "exception": false,
     "start_time": "2022-03-25T19:34:56.052790",
     "status": "completed"
    },
    "tags": []
   },
   "source": [
    "## Categorical data in the test dataframe are converted to numeric values using label encoding."
   ]
  },
  {
   "cell_type": "code",
   "execution_count": 56,
   "id": "769d7b6f",
   "metadata": {
    "execution": {
     "iopub.execute_input": "2022-03-25T19:34:56.421492Z",
     "iopub.status.busy": "2022-03-25T19:34:56.420767Z",
     "iopub.status.idle": "2022-03-25T19:34:56.426995Z",
     "shell.execute_reply": "2022-03-25T19:34:56.427534Z",
     "shell.execute_reply.started": "2022-03-25T19:25:09.104181Z"
    },
    "papermill": {
     "duration": 0.135692,
     "end_time": "2022-03-25T19:34:56.427707",
     "exception": false,
     "start_time": "2022-03-25T19:34:56.292015",
     "status": "completed"
    },
    "tags": []
   },
   "outputs": [],
   "source": [
    "df_test['Stay_In_Current_City_Years']=df_test['Stay_In_Current_City_Years'].replace('4+','4')\n",
    "## The 4+ value in the Stay_In_Current_City_Years have been replaced with only 4."
   ]
  },
  {
   "cell_type": "code",
   "execution_count": 57,
   "id": "feb8498f",
   "metadata": {
    "execution": {
     "iopub.execute_input": "2022-03-25T19:34:56.655640Z",
     "iopub.status.busy": "2022-03-25T19:34:56.655003Z",
     "iopub.status.idle": "2022-03-25T19:34:56.698417Z",
     "shell.execute_reply": "2022-03-25T19:34:56.698932Z",
     "shell.execute_reply.started": "2022-03-25T19:25:09.126473Z"
    },
    "papermill": {
     "duration": 0.158755,
     "end_time": "2022-03-25T19:34:56.699113",
     "exception": false,
     "start_time": "2022-03-25T19:34:56.540358",
     "status": "completed"
    },
    "tags": []
   },
   "outputs": [],
   "source": [
    "df_test['Gender']=df_test['Gender'].astype(int)\n",
    "df_test['Age']=df_test['Age'].astype(int)\n",
    "df_test['Stay_In_Current_City_Years']=df_test['Stay_In_Current_City_Years'].astype(int)\n",
    "df_test['City_Category']=df_test['City_Category'].astype('category')\n",
    "## The values in the test set have been converted to integer types as done in the train set."
   ]
  },
  {
   "cell_type": "code",
   "execution_count": 58,
   "id": "7ccffdd6",
   "metadata": {
    "execution": {
     "iopub.execute_input": "2022-03-25T19:34:56.926803Z",
     "iopub.status.busy": "2022-03-25T19:34:56.926139Z",
     "iopub.status.idle": "2022-03-25T19:34:56.954123Z",
     "shell.execute_reply": "2022-03-25T19:34:56.954738Z",
     "shell.execute_reply.started": "2022-03-25T19:25:09.184691Z"
    },
    "papermill": {
     "duration": 0.143363,
     "end_time": "2022-03-25T19:34:56.954928",
     "exception": false,
     "start_time": "2022-03-25T19:34:56.811565",
     "status": "completed"
    },
    "tags": []
   },
   "outputs": [],
   "source": [
    "df_test= pd.get_dummies(df_test)\n",
    "## Dummies are created for the test set."
   ]
  },
  {
   "cell_type": "code",
   "execution_count": 59,
   "id": "dd34217a",
   "metadata": {
    "execution": {
     "iopub.execute_input": "2022-03-25T19:34:57.186993Z",
     "iopub.status.busy": "2022-03-25T19:34:57.186096Z",
     "iopub.status.idle": "2022-03-25T19:34:57.199832Z",
     "shell.execute_reply": "2022-03-25T19:34:57.200442Z",
     "shell.execute_reply.started": "2022-03-25T19:25:09.213523Z"
    },
    "papermill": {
     "duration": 0.131474,
     "end_time": "2022-03-25T19:34:57.200616",
     "exception": false,
     "start_time": "2022-03-25T19:34:57.069142",
     "status": "completed"
    },
    "tags": []
   },
   "outputs": [
    {
     "data": {
      "text/html": [
       "<div>\n",
       "<style scoped>\n",
       "    .dataframe tbody tr th:only-of-type {\n",
       "        vertical-align: middle;\n",
       "    }\n",
       "\n",
       "    .dataframe tbody tr th {\n",
       "        vertical-align: top;\n",
       "    }\n",
       "\n",
       "    .dataframe thead th {\n",
       "        text-align: right;\n",
       "    }\n",
       "</style>\n",
       "<table border=\"1\" class=\"dataframe\">\n",
       "  <thead>\n",
       "    <tr style=\"text-align: right;\">\n",
       "      <th></th>\n",
       "      <th>User_ID</th>\n",
       "      <th>Product_ID</th>\n",
       "      <th>Gender</th>\n",
       "      <th>Age</th>\n",
       "      <th>Occupation</th>\n",
       "      <th>Stay_In_Current_City_Years</th>\n",
       "      <th>Marital_Status</th>\n",
       "      <th>Product_Category_1</th>\n",
       "      <th>Product_Category_2</th>\n",
       "      <th>City_Category_0</th>\n",
       "      <th>City_Category_1</th>\n",
       "      <th>City_Category_2</th>\n",
       "    </tr>\n",
       "  </thead>\n",
       "  <tbody>\n",
       "    <tr>\n",
       "      <th>0</th>\n",
       "      <td>1000004</td>\n",
       "      <td>-0.434752</td>\n",
       "      <td>1</td>\n",
       "      <td>4</td>\n",
       "      <td>7</td>\n",
       "      <td>2</td>\n",
       "      <td>1</td>\n",
       "      <td>1</td>\n",
       "      <td>11.0</td>\n",
       "      <td>0</td>\n",
       "      <td>1</td>\n",
       "      <td>0</td>\n",
       "    </tr>\n",
       "    <tr>\n",
       "      <th>1</th>\n",
       "      <td>1000009</td>\n",
       "      <td>-0.587188</td>\n",
       "      <td>1</td>\n",
       "      <td>2</td>\n",
       "      <td>17</td>\n",
       "      <td>0</td>\n",
       "      <td>0</td>\n",
       "      <td>3</td>\n",
       "      <td>5.0</td>\n",
       "      <td>0</td>\n",
       "      <td>0</td>\n",
       "      <td>1</td>\n",
       "    </tr>\n",
       "    <tr>\n",
       "      <th>2</th>\n",
       "      <td>1000010</td>\n",
       "      <td>1.133865</td>\n",
       "      <td>0</td>\n",
       "      <td>3</td>\n",
       "      <td>1</td>\n",
       "      <td>4</td>\n",
       "      <td>1</td>\n",
       "      <td>5</td>\n",
       "      <td>14.0</td>\n",
       "      <td>0</td>\n",
       "      <td>1</td>\n",
       "      <td>0</td>\n",
       "    </tr>\n",
       "    <tr>\n",
       "      <th>3</th>\n",
       "      <td>1000010</td>\n",
       "      <td>-0.273465</td>\n",
       "      <td>0</td>\n",
       "      <td>3</td>\n",
       "      <td>1</td>\n",
       "      <td>4</td>\n",
       "      <td>1</td>\n",
       "      <td>4</td>\n",
       "      <td>9.0</td>\n",
       "      <td>0</td>\n",
       "      <td>1</td>\n",
       "      <td>0</td>\n",
       "    </tr>\n",
       "    <tr>\n",
       "      <th>4</th>\n",
       "      <td>1000011</td>\n",
       "      <td>-1.173330</td>\n",
       "      <td>0</td>\n",
       "      <td>2</td>\n",
       "      <td>1</td>\n",
       "      <td>1</td>\n",
       "      <td>0</td>\n",
       "      <td>4</td>\n",
       "      <td>5.0</td>\n",
       "      <td>0</td>\n",
       "      <td>0</td>\n",
       "      <td>1</td>\n",
       "    </tr>\n",
       "  </tbody>\n",
       "</table>\n",
       "</div>"
      ],
      "text/plain": [
       "   User_ID  Product_ID  Gender  Age  Occupation  Stay_In_Current_City_Years  \\\n",
       "0  1000004   -0.434752       1    4           7                           2   \n",
       "1  1000009   -0.587188       1    2          17                           0   \n",
       "2  1000010    1.133865       0    3           1                           4   \n",
       "3  1000010   -0.273465       0    3           1                           4   \n",
       "4  1000011   -1.173330       0    2           1                           1   \n",
       "\n",
       "   Marital_Status  Product_Category_1  Product_Category_2  City_Category_0  \\\n",
       "0               1                   1                11.0                0   \n",
       "1               0                   3                 5.0                0   \n",
       "2               1                   5                14.0                0   \n",
       "3               1                   4                 9.0                0   \n",
       "4               0                   4                 5.0                0   \n",
       "\n",
       "   City_Category_1  City_Category_2  \n",
       "0                1                0  \n",
       "1                0                1  \n",
       "2                1                0  \n",
       "3                1                0  \n",
       "4                0                1  "
      ]
     },
     "execution_count": 59,
     "metadata": {},
     "output_type": "execute_result"
    }
   ],
   "source": [
    "df_test.head()"
   ]
  },
  {
   "cell_type": "markdown",
   "id": "0c4676dc",
   "metadata": {
    "papermill": {
     "duration": 0.113095,
     "end_time": "2022-03-25T19:34:57.427373",
     "exception": false,
     "start_time": "2022-03-25T19:34:57.314278",
     "status": "completed"
    },
    "tags": []
   },
   "source": [
    "### Shape of the train data."
   ]
  },
  {
   "cell_type": "code",
   "execution_count": 60,
   "id": "19f82a40",
   "metadata": {
    "execution": {
     "iopub.execute_input": "2022-03-25T19:34:57.656779Z",
     "iopub.status.busy": "2022-03-25T19:34:57.655778Z",
     "iopub.status.idle": "2022-03-25T19:34:57.660862Z",
     "shell.execute_reply": "2022-03-25T19:34:57.661378Z",
     "shell.execute_reply.started": "2022-03-25T19:25:09.228778Z"
    },
    "papermill": {
     "duration": 0.121351,
     "end_time": "2022-03-25T19:34:57.661543",
     "exception": false,
     "start_time": "2022-03-25T19:34:57.540192",
     "status": "completed"
    },
    "tags": []
   },
   "outputs": [
    {
     "data": {
      "text/plain": [
       "(550068, 13)"
      ]
     },
     "execution_count": 60,
     "metadata": {},
     "output_type": "execute_result"
    }
   ],
   "source": [
    "df.shape\n",
    "# train data shape"
   ]
  },
  {
   "cell_type": "markdown",
   "id": "9b9b1d15",
   "metadata": {
    "papermill": {
     "duration": 0.113365,
     "end_time": "2022-03-25T19:34:57.888189",
     "exception": false,
     "start_time": "2022-03-25T19:34:57.774824",
     "status": "completed"
    },
    "tags": []
   },
   "source": [
    "### Shape of the test data."
   ]
  },
  {
   "cell_type": "code",
   "execution_count": 61,
   "id": "cf569099",
   "metadata": {
    "execution": {
     "iopub.execute_input": "2022-03-25T19:34:58.119140Z",
     "iopub.status.busy": "2022-03-25T19:34:58.118497Z",
     "iopub.status.idle": "2022-03-25T19:34:58.122446Z",
     "shell.execute_reply": "2022-03-25T19:34:58.122921Z",
     "shell.execute_reply.started": "2022-03-25T19:25:09.237140Z"
    },
    "papermill": {
     "duration": 0.121496,
     "end_time": "2022-03-25T19:34:58.123094",
     "exception": false,
     "start_time": "2022-03-25T19:34:58.001598",
     "status": "completed"
    },
    "tags": []
   },
   "outputs": [
    {
     "data": {
      "text/plain": [
       "(233599, 12)"
      ]
     },
     "execution_count": 61,
     "metadata": {},
     "output_type": "execute_result"
    }
   ],
   "source": [
    "df_test.shape\n",
    "# test data shape"
   ]
  },
  {
   "cell_type": "code",
   "execution_count": 62,
   "id": "89179f3b",
   "metadata": {
    "execution": {
     "iopub.execute_input": "2022-03-25T19:34:58.354574Z",
     "iopub.status.busy": "2022-03-25T19:34:58.353902Z",
     "iopub.status.idle": "2022-03-25T19:34:58.380695Z",
     "shell.execute_reply": "2022-03-25T19:34:58.381172Z",
     "shell.execute_reply.started": "2022-03-25T19:25:09.248755Z"
    },
    "papermill": {
     "duration": 0.144268,
     "end_time": "2022-03-25T19:34:58.381370",
     "exception": false,
     "start_time": "2022-03-25T19:34:58.237102",
     "status": "completed"
    },
    "tags": []
   },
   "outputs": [
    {
     "data": {
      "text/html": [
       "<div>\n",
       "<style scoped>\n",
       "    .dataframe tbody tr th:only-of-type {\n",
       "        vertical-align: middle;\n",
       "    }\n",
       "\n",
       "    .dataframe tbody tr th {\n",
       "        vertical-align: top;\n",
       "    }\n",
       "\n",
       "    .dataframe thead th {\n",
       "        text-align: right;\n",
       "    }\n",
       "</style>\n",
       "<table border=\"1\" class=\"dataframe\">\n",
       "  <thead>\n",
       "    <tr style=\"text-align: right;\">\n",
       "      <th></th>\n",
       "      <th>User_ID</th>\n",
       "      <th>Product_ID</th>\n",
       "      <th>Gender</th>\n",
       "      <th>Age</th>\n",
       "      <th>Occupation</th>\n",
       "      <th>Stay_In_Current_City_Years</th>\n",
       "      <th>Marital_Status</th>\n",
       "      <th>Product_Category_1</th>\n",
       "      <th>Product_Category_2</th>\n",
       "      <th>Purchase</th>\n",
       "      <th>City_Category_0</th>\n",
       "      <th>City_Category_1</th>\n",
       "      <th>City_Category_2</th>\n",
       "    </tr>\n",
       "  </thead>\n",
       "  <tbody>\n",
       "    <tr>\n",
       "      <th>0</th>\n",
       "      <td>1000001</td>\n",
       "      <td>-1.028774</td>\n",
       "      <td>0</td>\n",
       "      <td>0</td>\n",
       "      <td>10</td>\n",
       "      <td>2</td>\n",
       "      <td>0</td>\n",
       "      <td>3</td>\n",
       "      <td>9.842329</td>\n",
       "      <td>9.032409</td>\n",
       "      <td>1</td>\n",
       "      <td>0</td>\n",
       "      <td>0</td>\n",
       "    </tr>\n",
       "    <tr>\n",
       "      <th>1</th>\n",
       "      <td>1000001</td>\n",
       "      <td>0.722139</td>\n",
       "      <td>0</td>\n",
       "      <td>0</td>\n",
       "      <td>10</td>\n",
       "      <td>2</td>\n",
       "      <td>0</td>\n",
       "      <td>1</td>\n",
       "      <td>6.000000</td>\n",
       "      <td>9.629051</td>\n",
       "      <td>1</td>\n",
       "      <td>0</td>\n",
       "      <td>0</td>\n",
       "    </tr>\n",
       "    <tr>\n",
       "      <th>2</th>\n",
       "      <td>1000001</td>\n",
       "      <td>-0.845799</td>\n",
       "      <td>0</td>\n",
       "      <td>0</td>\n",
       "      <td>10</td>\n",
       "      <td>2</td>\n",
       "      <td>0</td>\n",
       "      <td>12</td>\n",
       "      <td>9.842329</td>\n",
       "      <td>7.259820</td>\n",
       "      <td>1</td>\n",
       "      <td>0</td>\n",
       "      <td>0</td>\n",
       "    </tr>\n",
       "    <tr>\n",
       "      <th>3</th>\n",
       "      <td>1000001</td>\n",
       "      <td>-0.869157</td>\n",
       "      <td>0</td>\n",
       "      <td>0</td>\n",
       "      <td>10</td>\n",
       "      <td>2</td>\n",
       "      <td>0</td>\n",
       "      <td>12</td>\n",
       "      <td>14.000000</td>\n",
       "      <td>6.963190</td>\n",
       "      <td>1</td>\n",
       "      <td>0</td>\n",
       "      <td>0</td>\n",
       "    </tr>\n",
       "    <tr>\n",
       "      <th>4</th>\n",
       "      <td>1000002</td>\n",
       "      <td>1.077382</td>\n",
       "      <td>1</td>\n",
       "      <td>6</td>\n",
       "      <td>16</td>\n",
       "      <td>4</td>\n",
       "      <td>0</td>\n",
       "      <td>8</td>\n",
       "      <td>9.842329</td>\n",
       "      <td>8.983314</td>\n",
       "      <td>0</td>\n",
       "      <td>0</td>\n",
       "      <td>1</td>\n",
       "    </tr>\n",
       "    <tr>\n",
       "      <th>...</th>\n",
       "      <td>...</td>\n",
       "      <td>...</td>\n",
       "      <td>...</td>\n",
       "      <td>...</td>\n",
       "      <td>...</td>\n",
       "      <td>...</td>\n",
       "      <td>...</td>\n",
       "      <td>...</td>\n",
       "      <td>...</td>\n",
       "      <td>...</td>\n",
       "      <td>...</td>\n",
       "      <td>...</td>\n",
       "      <td>...</td>\n",
       "    </tr>\n",
       "    <tr>\n",
       "      <th>550063</th>\n",
       "      <td>1006033</td>\n",
       "      <td>1.924156</td>\n",
       "      <td>1</td>\n",
       "      <td>5</td>\n",
       "      <td>13</td>\n",
       "      <td>1</td>\n",
       "      <td>1</td>\n",
       "      <td>20</td>\n",
       "      <td>9.842329</td>\n",
       "      <td>5.908083</td>\n",
       "      <td>0</td>\n",
       "      <td>1</td>\n",
       "      <td>0</td>\n",
       "    </tr>\n",
       "    <tr>\n",
       "      <th>550064</th>\n",
       "      <td>1006035</td>\n",
       "      <td>1.953267</td>\n",
       "      <td>0</td>\n",
       "      <td>2</td>\n",
       "      <td>1</td>\n",
       "      <td>3</td>\n",
       "      <td>0</td>\n",
       "      <td>20</td>\n",
       "      <td>9.842329</td>\n",
       "      <td>5.916202</td>\n",
       "      <td>0</td>\n",
       "      <td>0</td>\n",
       "      <td>1</td>\n",
       "    </tr>\n",
       "    <tr>\n",
       "      <th>550065</th>\n",
       "      <td>1006036</td>\n",
       "      <td>1.953267</td>\n",
       "      <td>0</td>\n",
       "      <td>2</td>\n",
       "      <td>15</td>\n",
       "      <td>4</td>\n",
       "      <td>1</td>\n",
       "      <td>20</td>\n",
       "      <td>9.842329</td>\n",
       "      <td>4.919981</td>\n",
       "      <td>0</td>\n",
       "      <td>1</td>\n",
       "      <td>0</td>\n",
       "    </tr>\n",
       "    <tr>\n",
       "      <th>550066</th>\n",
       "      <td>1006038</td>\n",
       "      <td>1.953267</td>\n",
       "      <td>0</td>\n",
       "      <td>6</td>\n",
       "      <td>1</td>\n",
       "      <td>2</td>\n",
       "      <td>0</td>\n",
       "      <td>20</td>\n",
       "      <td>9.842329</td>\n",
       "      <td>5.899897</td>\n",
       "      <td>0</td>\n",
       "      <td>0</td>\n",
       "      <td>1</td>\n",
       "    </tr>\n",
       "    <tr>\n",
       "      <th>550067</th>\n",
       "      <td>1006039</td>\n",
       "      <td>1.916360</td>\n",
       "      <td>0</td>\n",
       "      <td>4</td>\n",
       "      <td>0</td>\n",
       "      <td>4</td>\n",
       "      <td>1</td>\n",
       "      <td>20</td>\n",
       "      <td>9.842329</td>\n",
       "      <td>6.194405</td>\n",
       "      <td>0</td>\n",
       "      <td>1</td>\n",
       "      <td>0</td>\n",
       "    </tr>\n",
       "  </tbody>\n",
       "</table>\n",
       "<p>550068 rows × 13 columns</p>\n",
       "</div>"
      ],
      "text/plain": [
       "        User_ID  Product_ID  Gender  Age  Occupation  \\\n",
       "0       1000001   -1.028774       0    0          10   \n",
       "1       1000001    0.722139       0    0          10   \n",
       "2       1000001   -0.845799       0    0          10   \n",
       "3       1000001   -0.869157       0    0          10   \n",
       "4       1000002    1.077382       1    6          16   \n",
       "...         ...         ...     ...  ...         ...   \n",
       "550063  1006033    1.924156       1    5          13   \n",
       "550064  1006035    1.953267       0    2           1   \n",
       "550065  1006036    1.953267       0    2          15   \n",
       "550066  1006038    1.953267       0    6           1   \n",
       "550067  1006039    1.916360       0    4           0   \n",
       "\n",
       "        Stay_In_Current_City_Years  Marital_Status  Product_Category_1  \\\n",
       "0                                2               0                   3   \n",
       "1                                2               0                   1   \n",
       "2                                2               0                  12   \n",
       "3                                2               0                  12   \n",
       "4                                4               0                   8   \n",
       "...                            ...             ...                 ...   \n",
       "550063                           1               1                  20   \n",
       "550064                           3               0                  20   \n",
       "550065                           4               1                  20   \n",
       "550066                           2               0                  20   \n",
       "550067                           4               1                  20   \n",
       "\n",
       "        Product_Category_2  Purchase  City_Category_0  City_Category_1  \\\n",
       "0                 9.842329  9.032409                1                0   \n",
       "1                 6.000000  9.629051                1                0   \n",
       "2                 9.842329  7.259820                1                0   \n",
       "3                14.000000  6.963190                1                0   \n",
       "4                 9.842329  8.983314                0                0   \n",
       "...                    ...       ...              ...              ...   \n",
       "550063            9.842329  5.908083                0                1   \n",
       "550064            9.842329  5.916202                0                0   \n",
       "550065            9.842329  4.919981                0                1   \n",
       "550066            9.842329  5.899897                0                0   \n",
       "550067            9.842329  6.194405                0                1   \n",
       "\n",
       "        City_Category_2  \n",
       "0                     0  \n",
       "1                     0  \n",
       "2                     0  \n",
       "3                     0  \n",
       "4                     1  \n",
       "...                 ...  \n",
       "550063                0  \n",
       "550064                1  \n",
       "550065                0  \n",
       "550066                1  \n",
       "550067                0  \n",
       "\n",
       "[550068 rows x 13 columns]"
      ]
     },
     "execution_count": 62,
     "metadata": {},
     "output_type": "execute_result"
    }
   ],
   "source": [
    "df"
   ]
  },
  {
   "cell_type": "code",
   "execution_count": 63,
   "id": "24bf783d",
   "metadata": {
    "execution": {
     "iopub.execute_input": "2022-03-25T19:34:58.630183Z",
     "iopub.status.busy": "2022-03-25T19:34:58.629323Z",
     "iopub.status.idle": "2022-03-25T19:34:58.632933Z",
     "shell.execute_reply": "2022-03-25T19:34:58.633419Z",
     "shell.execute_reply.started": "2022-03-25T19:25:09.278977Z"
    },
    "papermill": {
     "duration": 0.137097,
     "end_time": "2022-03-25T19:34:58.633587",
     "exception": false,
     "start_time": "2022-03-25T19:34:58.496490",
     "status": "completed"
    },
    "tags": []
   },
   "outputs": [
    {
     "data": {
      "text/html": [
       "<div>\n",
       "<style scoped>\n",
       "    .dataframe tbody tr th:only-of-type {\n",
       "        vertical-align: middle;\n",
       "    }\n",
       "\n",
       "    .dataframe tbody tr th {\n",
       "        vertical-align: top;\n",
       "    }\n",
       "\n",
       "    .dataframe thead th {\n",
       "        text-align: right;\n",
       "    }\n",
       "</style>\n",
       "<table border=\"1\" class=\"dataframe\">\n",
       "  <thead>\n",
       "    <tr style=\"text-align: right;\">\n",
       "      <th></th>\n",
       "      <th>User_ID</th>\n",
       "      <th>Product_ID</th>\n",
       "      <th>Gender</th>\n",
       "      <th>Age</th>\n",
       "      <th>Occupation</th>\n",
       "      <th>Stay_In_Current_City_Years</th>\n",
       "      <th>Marital_Status</th>\n",
       "      <th>Product_Category_1</th>\n",
       "      <th>Product_Category_2</th>\n",
       "      <th>City_Category_0</th>\n",
       "      <th>City_Category_1</th>\n",
       "      <th>City_Category_2</th>\n",
       "    </tr>\n",
       "  </thead>\n",
       "  <tbody>\n",
       "    <tr>\n",
       "      <th>0</th>\n",
       "      <td>1000004</td>\n",
       "      <td>-0.434752</td>\n",
       "      <td>1</td>\n",
       "      <td>4</td>\n",
       "      <td>7</td>\n",
       "      <td>2</td>\n",
       "      <td>1</td>\n",
       "      <td>1</td>\n",
       "      <td>11.000000</td>\n",
       "      <td>0</td>\n",
       "      <td>1</td>\n",
       "      <td>0</td>\n",
       "    </tr>\n",
       "    <tr>\n",
       "      <th>1</th>\n",
       "      <td>1000009</td>\n",
       "      <td>-0.587188</td>\n",
       "      <td>1</td>\n",
       "      <td>2</td>\n",
       "      <td>17</td>\n",
       "      <td>0</td>\n",
       "      <td>0</td>\n",
       "      <td>3</td>\n",
       "      <td>5.000000</td>\n",
       "      <td>0</td>\n",
       "      <td>0</td>\n",
       "      <td>1</td>\n",
       "    </tr>\n",
       "    <tr>\n",
       "      <th>2</th>\n",
       "      <td>1000010</td>\n",
       "      <td>1.133865</td>\n",
       "      <td>0</td>\n",
       "      <td>3</td>\n",
       "      <td>1</td>\n",
       "      <td>4</td>\n",
       "      <td>1</td>\n",
       "      <td>5</td>\n",
       "      <td>14.000000</td>\n",
       "      <td>0</td>\n",
       "      <td>1</td>\n",
       "      <td>0</td>\n",
       "    </tr>\n",
       "    <tr>\n",
       "      <th>3</th>\n",
       "      <td>1000010</td>\n",
       "      <td>-0.273465</td>\n",
       "      <td>0</td>\n",
       "      <td>3</td>\n",
       "      <td>1</td>\n",
       "      <td>4</td>\n",
       "      <td>1</td>\n",
       "      <td>4</td>\n",
       "      <td>9.000000</td>\n",
       "      <td>0</td>\n",
       "      <td>1</td>\n",
       "      <td>0</td>\n",
       "    </tr>\n",
       "    <tr>\n",
       "      <th>4</th>\n",
       "      <td>1000011</td>\n",
       "      <td>-1.173330</td>\n",
       "      <td>0</td>\n",
       "      <td>2</td>\n",
       "      <td>1</td>\n",
       "      <td>1</td>\n",
       "      <td>0</td>\n",
       "      <td>4</td>\n",
       "      <td>5.000000</td>\n",
       "      <td>0</td>\n",
       "      <td>0</td>\n",
       "      <td>1</td>\n",
       "    </tr>\n",
       "    <tr>\n",
       "      <th>...</th>\n",
       "      <td>...</td>\n",
       "      <td>...</td>\n",
       "      <td>...</td>\n",
       "      <td>...</td>\n",
       "      <td>...</td>\n",
       "      <td>...</td>\n",
       "      <td>...</td>\n",
       "      <td>...</td>\n",
       "      <td>...</td>\n",
       "      <td>...</td>\n",
       "      <td>...</td>\n",
       "      <td>...</td>\n",
       "    </tr>\n",
       "    <tr>\n",
       "      <th>233594</th>\n",
       "      <td>1006036</td>\n",
       "      <td>-0.533098</td>\n",
       "      <td>0</td>\n",
       "      <td>2</td>\n",
       "      <td>15</td>\n",
       "      <td>4</td>\n",
       "      <td>1</td>\n",
       "      <td>8</td>\n",
       "      <td>9.849586</td>\n",
       "      <td>0</td>\n",
       "      <td>1</td>\n",
       "      <td>0</td>\n",
       "    </tr>\n",
       "    <tr>\n",
       "      <th>233595</th>\n",
       "      <td>1006036</td>\n",
       "      <td>0.801456</td>\n",
       "      <td>0</td>\n",
       "      <td>2</td>\n",
       "      <td>15</td>\n",
       "      <td>4</td>\n",
       "      <td>1</td>\n",
       "      <td>5</td>\n",
       "      <td>8.000000</td>\n",
       "      <td>0</td>\n",
       "      <td>1</td>\n",
       "      <td>0</td>\n",
       "    </tr>\n",
       "    <tr>\n",
       "      <th>233596</th>\n",
       "      <td>1006036</td>\n",
       "      <td>-1.389691</td>\n",
       "      <td>0</td>\n",
       "      <td>2</td>\n",
       "      <td>15</td>\n",
       "      <td>4</td>\n",
       "      <td>1</td>\n",
       "      <td>1</td>\n",
       "      <td>5.000000</td>\n",
       "      <td>0</td>\n",
       "      <td>1</td>\n",
       "      <td>0</td>\n",
       "    </tr>\n",
       "    <tr>\n",
       "      <th>233597</th>\n",
       "      <td>1006037</td>\n",
       "      <td>-0.476058</td>\n",
       "      <td>0</td>\n",
       "      <td>4</td>\n",
       "      <td>1</td>\n",
       "      <td>4</td>\n",
       "      <td>0</td>\n",
       "      <td>10</td>\n",
       "      <td>16.000000</td>\n",
       "      <td>0</td>\n",
       "      <td>0</td>\n",
       "      <td>1</td>\n",
       "    </tr>\n",
       "    <tr>\n",
       "      <th>233598</th>\n",
       "      <td>1006039</td>\n",
       "      <td>1.411200</td>\n",
       "      <td>0</td>\n",
       "      <td>4</td>\n",
       "      <td>0</td>\n",
       "      <td>4</td>\n",
       "      <td>1</td>\n",
       "      <td>4</td>\n",
       "      <td>5.000000</td>\n",
       "      <td>0</td>\n",
       "      <td>1</td>\n",
       "      <td>0</td>\n",
       "    </tr>\n",
       "  </tbody>\n",
       "</table>\n",
       "<p>233599 rows × 12 columns</p>\n",
       "</div>"
      ],
      "text/plain": [
       "        User_ID  Product_ID  Gender  Age  Occupation  \\\n",
       "0       1000004   -0.434752       1    4           7   \n",
       "1       1000009   -0.587188       1    2          17   \n",
       "2       1000010    1.133865       0    3           1   \n",
       "3       1000010   -0.273465       0    3           1   \n",
       "4       1000011   -1.173330       0    2           1   \n",
       "...         ...         ...     ...  ...         ...   \n",
       "233594  1006036   -0.533098       0    2          15   \n",
       "233595  1006036    0.801456       0    2          15   \n",
       "233596  1006036   -1.389691       0    2          15   \n",
       "233597  1006037   -0.476058       0    4           1   \n",
       "233598  1006039    1.411200       0    4           0   \n",
       "\n",
       "        Stay_In_Current_City_Years  Marital_Status  Product_Category_1  \\\n",
       "0                                2               1                   1   \n",
       "1                                0               0                   3   \n",
       "2                                4               1                   5   \n",
       "3                                4               1                   4   \n",
       "4                                1               0                   4   \n",
       "...                            ...             ...                 ...   \n",
       "233594                           4               1                   8   \n",
       "233595                           4               1                   5   \n",
       "233596                           4               1                   1   \n",
       "233597                           4               0                  10   \n",
       "233598                           4               1                   4   \n",
       "\n",
       "        Product_Category_2  City_Category_0  City_Category_1  City_Category_2  \n",
       "0                11.000000                0                1                0  \n",
       "1                 5.000000                0                0                1  \n",
       "2                14.000000                0                1                0  \n",
       "3                 9.000000                0                1                0  \n",
       "4                 5.000000                0                0                1  \n",
       "...                    ...              ...              ...              ...  \n",
       "233594            9.849586                0                1                0  \n",
       "233595            8.000000                0                1                0  \n",
       "233596            5.000000                0                1                0  \n",
       "233597           16.000000                0                0                1  \n",
       "233598            5.000000                0                1                0  \n",
       "\n",
       "[233599 rows x 12 columns]"
      ]
     },
     "execution_count": 63,
     "metadata": {},
     "output_type": "execute_result"
    }
   ],
   "source": [
    "df_test"
   ]
  },
  {
   "cell_type": "code",
   "execution_count": 64,
   "id": "a6e2e7b7",
   "metadata": {
    "execution": {
     "iopub.execute_input": "2022-03-25T19:34:58.867726Z",
     "iopub.status.busy": "2022-03-25T19:34:58.866758Z",
     "iopub.status.idle": "2022-03-25T19:35:00.457329Z",
     "shell.execute_reply": "2022-03-25T19:35:00.456747Z",
     "shell.execute_reply.started": "2022-03-25T19:25:09.296463Z"
    },
    "papermill": {
     "duration": 1.708806,
     "end_time": "2022-03-25T19:35:00.457488",
     "exception": false,
     "start_time": "2022-03-25T19:34:58.748682",
     "status": "completed"
    },
    "tags": []
   },
   "outputs": [
    {
     "name": "stderr",
     "output_type": "stream",
     "text": [
      "/opt/conda/lib/python3.7/site-packages/sklearn/base.py:439: UserWarning: X has feature names, but RandomForestRegressor was fitted without feature names\n",
      "  f\"X has feature names, but {self.__class__.__name__} was fitted without\"\n"
     ]
    },
    {
     "data": {
      "text/plain": [
       "233599"
      ]
     },
     "execution_count": 64,
     "metadata": {},
     "output_type": "execute_result"
    }
   ],
   "source": [
    "test_preds= RF.predict(df_test)\n",
    "len(test_preds)"
   ]
  },
  {
   "cell_type": "markdown",
   "id": "ed160ca5",
   "metadata": {
    "papermill": {
     "duration": 0.11571,
     "end_time": "2022-03-25T19:35:00.692503",
     "exception": false,
     "start_time": "2022-03-25T19:35:00.576793",
     "status": "completed"
    },
    "tags": []
   },
   "source": [
    "## As random forest regressor performed very well compared to linear regression and decision tree regressor model. Random forest regressor model has been used to predict on our test dataset."
   ]
  },
  {
   "cell_type": "code",
   "execution_count": 65,
   "id": "10643e73",
   "metadata": {
    "execution": {
     "iopub.execute_input": "2022-03-25T19:35:00.931727Z",
     "iopub.status.busy": "2022-03-25T19:35:00.931060Z",
     "iopub.status.idle": "2022-03-25T19:35:01.155541Z",
     "shell.execute_reply": "2022-03-25T19:35:01.154989Z",
     "shell.execute_reply.started": "2022-03-25T19:25:10.934459Z"
    },
    "papermill": {
     "duration": 0.346347,
     "end_time": "2022-03-25T19:35:01.155692",
     "exception": false,
     "start_time": "2022-03-25T19:35:00.809345",
     "status": "completed"
    },
    "tags": []
   },
   "outputs": [],
   "source": [
    "id_frame=pd.read_csv('../input/black-friday-sales-prediction/test.csv')"
   ]
  },
  {
   "cell_type": "code",
   "execution_count": 66,
   "id": "8c1b12c5",
   "metadata": {
    "execution": {
     "iopub.execute_input": "2022-03-25T19:35:01.398704Z",
     "iopub.status.busy": "2022-03-25T19:35:01.397714Z",
     "iopub.status.idle": "2022-03-25T19:35:01.401561Z",
     "shell.execute_reply": "2022-03-25T19:35:01.401028Z",
     "shell.execute_reply.started": "2022-03-25T19:25:11.172912Z"
    },
    "papermill": {
     "duration": 0.130804,
     "end_time": "2022-03-25T19:35:01.401696",
     "exception": false,
     "start_time": "2022-03-25T19:35:01.270892",
     "status": "completed"
    },
    "tags": []
   },
   "outputs": [
    {
     "data": {
      "text/html": [
       "<div>\n",
       "<style scoped>\n",
       "    .dataframe tbody tr th:only-of-type {\n",
       "        vertical-align: middle;\n",
       "    }\n",
       "\n",
       "    .dataframe tbody tr th {\n",
       "        vertical-align: top;\n",
       "    }\n",
       "\n",
       "    .dataframe thead th {\n",
       "        text-align: right;\n",
       "    }\n",
       "</style>\n",
       "<table border=\"1\" class=\"dataframe\">\n",
       "  <thead>\n",
       "    <tr style=\"text-align: right;\">\n",
       "      <th></th>\n",
       "      <th>User_ID</th>\n",
       "      <th>Product_ID</th>\n",
       "    </tr>\n",
       "  </thead>\n",
       "  <tbody>\n",
       "    <tr>\n",
       "      <th>0</th>\n",
       "      <td>1000004</td>\n",
       "      <td>P00128942</td>\n",
       "    </tr>\n",
       "    <tr>\n",
       "      <th>1</th>\n",
       "      <td>1000009</td>\n",
       "      <td>P00113442</td>\n",
       "    </tr>\n",
       "    <tr>\n",
       "      <th>2</th>\n",
       "      <td>1000010</td>\n",
       "      <td>P00288442</td>\n",
       "    </tr>\n",
       "    <tr>\n",
       "      <th>3</th>\n",
       "      <td>1000010</td>\n",
       "      <td>P00145342</td>\n",
       "    </tr>\n",
       "    <tr>\n",
       "      <th>4</th>\n",
       "      <td>1000011</td>\n",
       "      <td>P00053842</td>\n",
       "    </tr>\n",
       "  </tbody>\n",
       "</table>\n",
       "</div>"
      ],
      "text/plain": [
       "   User_ID Product_ID\n",
       "0  1000004  P00128942\n",
       "1  1000009  P00113442\n",
       "2  1000010  P00288442\n",
       "3  1000010  P00145342\n",
       "4  1000011  P00053842"
      ]
     },
     "execution_count": 66,
     "metadata": {},
     "output_type": "execute_result"
    }
   ],
   "source": [
    "ID_info= id_frame[[\"User_ID\",\"Product_ID\"]]\n",
    "ID_info.head()\n",
    "## Using User_Id and Product_Id from the test set."
   ]
  },
  {
   "cell_type": "code",
   "execution_count": 67,
   "id": "deb74d6c",
   "metadata": {
    "execution": {
     "iopub.execute_input": "2022-03-25T19:35:01.637572Z",
     "iopub.status.busy": "2022-03-25T19:35:01.636592Z",
     "iopub.status.idle": "2022-03-25T19:35:01.650172Z",
     "shell.execute_reply": "2022-03-25T19:35:01.650705Z",
     "shell.execute_reply.started": "2022-03-25T19:25:11.189069Z"
    },
    "papermill": {
     "duration": 0.13316,
     "end_time": "2022-03-25T19:35:01.650879",
     "exception": false,
     "start_time": "2022-03-25T19:35:01.517719",
     "status": "completed"
    },
    "tags": []
   },
   "outputs": [
    {
     "data": {
      "text/html": [
       "<div>\n",
       "<style scoped>\n",
       "    .dataframe tbody tr th:only-of-type {\n",
       "        vertical-align: middle;\n",
       "    }\n",
       "\n",
       "    .dataframe tbody tr th {\n",
       "        vertical-align: top;\n",
       "    }\n",
       "\n",
       "    .dataframe thead th {\n",
       "        text-align: right;\n",
       "    }\n",
       "</style>\n",
       "<table border=\"1\" class=\"dataframe\">\n",
       "  <thead>\n",
       "    <tr style=\"text-align: right;\">\n",
       "      <th></th>\n",
       "      <th>Purchase</th>\n",
       "      <th>User_ID</th>\n",
       "      <th>Product_ID</th>\n",
       "    </tr>\n",
       "  </thead>\n",
       "  <tbody>\n",
       "    <tr>\n",
       "      <th>0</th>\n",
       "      <td>9.531818</td>\n",
       "      <td>1000004</td>\n",
       "      <td>P00128942</td>\n",
       "    </tr>\n",
       "    <tr>\n",
       "      <th>1</th>\n",
       "      <td>9.512071</td>\n",
       "      <td>1000009</td>\n",
       "      <td>P00113442</td>\n",
       "    </tr>\n",
       "    <tr>\n",
       "      <th>2</th>\n",
       "      <td>4.708420</td>\n",
       "      <td>1000010</td>\n",
       "      <td>P00288442</td>\n",
       "    </tr>\n",
       "    <tr>\n",
       "      <th>3</th>\n",
       "      <td>4.708420</td>\n",
       "      <td>1000010</td>\n",
       "      <td>P00145342</td>\n",
       "    </tr>\n",
       "    <tr>\n",
       "      <th>4</th>\n",
       "      <td>4.684451</td>\n",
       "      <td>1000011</td>\n",
       "      <td>P00053842</td>\n",
       "    </tr>\n",
       "  </tbody>\n",
       "</table>\n",
       "</div>"
      ],
      "text/plain": [
       "   Purchase  User_ID Product_ID\n",
       "0  9.531818  1000004  P00128942\n",
       "1  9.512071  1000009  P00113442\n",
       "2  4.708420  1000010  P00288442\n",
       "3  4.708420  1000010  P00145342\n",
       "4  4.684451  1000011  P00053842"
      ]
     },
     "execution_count": 67,
     "metadata": {},
     "output_type": "execute_result"
    }
   ],
   "source": [
    "predictions= pd.DataFrame(test_preds, columns=[\"Purchase\"])\n",
    "predictions[\"User_ID\"]= ID_info[\"User_ID\"]\n",
    "predictions[\"Product_ID\"]= ID_info[\"Product_ID\"]\n",
    "predictions.head()\n",
    "## Predictions have been save in the form of a dataframe"
   ]
  },
  {
   "cell_type": "code",
   "execution_count": 68,
   "id": "59c34010",
   "metadata": {
    "execution": {
     "iopub.execute_input": "2022-03-25T19:35:01.888102Z",
     "iopub.status.busy": "2022-03-25T19:35:01.887137Z",
     "iopub.status.idle": "2022-03-25T19:35:02.792401Z",
     "shell.execute_reply": "2022-03-25T19:35:02.791796Z",
     "shell.execute_reply.started": "2022-03-25T19:25:11.206411Z"
    },
    "papermill": {
     "duration": 1.025444,
     "end_time": "2022-03-25T19:35:02.792554",
     "exception": false,
     "start_time": "2022-03-25T19:35:01.767110",
     "status": "completed"
    },
    "tags": []
   },
   "outputs": [],
   "source": [
    "predictions.to_csv('BlackFridayPredictions.csv', index=False)\n",
    "## Finally converted the prediction into csv format."
   ]
  }
 ],
 "metadata": {
  "kernelspec": {
   "display_name": "Python 3",
   "language": "python",
   "name": "python3"
  },
  "language_info": {
   "codemirror_mode": {
    "name": "ipython",
    "version": 3
   },
   "file_extension": ".py",
   "mimetype": "text/x-python",
   "name": "python",
   "nbconvert_exporter": "python",
   "pygments_lexer": "ipython3",
   "version": "3.7.12"
  },
  "papermill": {
   "default_parameters": {},
   "duration": 457.791742,
   "end_time": "2022-03-25T19:35:04.024275",
   "environment_variables": {},
   "exception": null,
   "input_path": "__notebook__.ipynb",
   "output_path": "__notebook__.ipynb",
   "parameters": {},
   "start_time": "2022-03-25T19:27:26.232533",
   "version": "2.3.3"
  }
 },
 "nbformat": 4,
 "nbformat_minor": 5
}
