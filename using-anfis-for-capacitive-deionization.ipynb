{
 "cells": [
  {
   "cell_type": "code",
   "execution_count": 1,
   "id": "9dd322fa",
   "metadata": {
    "_cell_guid": "b1076dfc-b9ad-4769-8c92-a6c4dae69d19",
    "_uuid": "8f2839f25d086af736a60e9eeb907d3b93b6e0e5",
    "execution": {
     "iopub.execute_input": "2022-07-03T13:38:46.183133Z",
     "iopub.status.busy": "2022-07-03T13:38:46.182115Z",
     "iopub.status.idle": "2022-07-03T13:38:56.545493Z",
     "shell.execute_reply": "2022-07-03T13:38:56.544197Z"
    },
    "papermill": {
     "duration": 10.380707,
     "end_time": "2022-07-03T13:38:56.548979",
     "exception": false,
     "start_time": "2022-07-03T13:38:46.168272",
     "status": "completed"
    },
    "tags": []
   },
   "outputs": [],
   "source": [
    "\"\"\"\n",
    "MyAnfis Implementation\n",
    "Gregor Lenhard\n",
    "University of Basel\n",
    "\"\"\"\n",
    "import logging\n",
    "logging.getLogger('tensorflow').disabled = True\n",
    "import os\n",
    "os.environ['TF_CPP_MIN_LOG_LEVEL'] = '3'  # remove WARNING Messages\n",
    "import tensorflow as tf\n",
    "from tensorflow import keras\n",
    "import numpy as np\n",
    "import matplotlib.pyplot as plt\n",
    "# parameter class fis parameters\n",
    "\n",
    "\n",
    "class fis_parameters():\n",
    "    def __init__(self, n_input: int = 3, n_memb: int = 3, batch_size: int = 16, n_epochs: int = 25, memb_func: str = 'gaussian', optimizer: str = 'sgd', loss: str = 'mse'):\n",
    "        self.n_input = n_input  # no. of Regressors\n",
    "        self.n_memb = n_memb  # no. of fuzzy memberships\n",
    "        self.batch_size = batch_size\n",
    "        self.n_epochs = n_epochs\n",
    "        self.memb_func = memb_func  # 'gaussian' / 'gbellmf'\n",
    "        self.optimizer = optimizer   # sgd / adam /\n",
    "        self.loss = loss  # mse / mae\n",
    "\n",
    "\n",
    "# Main Class ANFIS\n",
    "class ANFIS:\n",
    "    def __init__(self, n_input: int, n_memb: int, batch_size: int = 16, memb_func: str = 'gaussian', name: str = 'MyAnfis'):\n",
    "        self.n = n_input\n",
    "        self.m = n_memb\n",
    "        self.batch_size = batch_size\n",
    "        self.memb_func = memb_func\n",
    "        input_ = keras.layers.Input(\n",
    "            shape=(n_input), name='inputLayer', batch_size=self.batch_size)\n",
    "        L1 = FuzzyLayer(n_input, n_memb, memb_func, name='fuzzyLayer')(input_)\n",
    "        L2 = RuleLayer(n_input, n_memb, name='ruleLayer')(L1)\n",
    "        L3 = NormLayer(name='normLayer')(L2)\n",
    "        L4 = DefuzzLayer(n_input, n_memb, name='defuzzLayer')(L3, input_)\n",
    "        L5 = SummationLayer(name='sumLayer')(L4)\n",
    "        self.model = keras.Model(inputs=[input_], outputs=[L5], name=name)\n",
    "        self.update_weights()\n",
    "\n",
    "    def __call__(self, X):\n",
    "        return self.model.predict(X, batch_size=self.batch_size)\n",
    "\n",
    "    def update_weights(self):\n",
    "        # premise parameters (mu&sigma for gaussian // a/b/c for bell-shaped)\n",
    "        if self.memb_func == 'gaussian':\n",
    "            self.mus, self.sigmas = self.model.get_layer(\n",
    "                'fuzzyLayer').get_weights()\n",
    "        elif self.memb_func == 'gbellmf':\n",
    "            self.a, self.b, self.c = self.model.get_layer(\n",
    "                'fuzzyLayer').get_weights()\n",
    "        # consequence parameters\n",
    "        self.bias, self.weights = self.model.get_layer(\n",
    "            'defuzzLayer').get_weights()\n",
    "\n",
    "    def plotmfs(self, show_initial_weights=False):\n",
    "        n_input = self.n\n",
    "        n_memb = self.m\n",
    "\n",
    "        if self.memb_func == 'gaussian':\n",
    "            mus, sigmas = np.around(self.model.get_layer(\n",
    "                'fuzzyLayer').get_weights(), 2)\n",
    "            mus, sigmas = mus.reshape(\n",
    "                (n_memb, n_input, 1)), sigmas.reshape(n_memb, n_input, 1)\n",
    "\n",
    "            xn = np.linspace(np.min(mus) - 2 * np.max(abs(sigmas)),\n",
    "                             np.max(mus) + 2 * np.max(abs(sigmas)), 100).reshape((1, 1, -1))\n",
    "            xn = np.tile(xn, (n_memb, n_input, 1))\n",
    "\n",
    "            # broadcast all curves in one array\n",
    "            memb_curves = np.exp(-np.square((xn - mus)) / np.square(sigmas))\n",
    "\n",
    "            if show_initial_weights:\n",
    "                mus_init, sigmas_init = np.around(self.init_weights, 2)\n",
    "                mus_init, sigmas_init = mus_init.reshape(\n",
    "                    n_memb, n_input, 1), sigmas_init.reshape(n_memb, n_input, 1)\n",
    "                init_curves = np.exp(-np.square((xn - mus_init)\n",
    "                                                ) / np.square(sigmas_init))\n",
    "\n",
    "        elif self.memb_func == 'gbellmf':\n",
    "            a, b, c = np.around(self.model.get_layer(\n",
    "                'fuzzyLayer').get_weights(), 2)\n",
    "            a, b, c = a.reshape((n_memb, n_input, 1)), b.reshape(\n",
    "                n_memb, n_input, 1), c.reshape(n_memb, n_input, 1)\n",
    "\n",
    "            xn = np.linspace(np.min(c) - 2 * np.max(abs(a)),\n",
    "                             np.max(c) + 2 * np.max(abs(a)), 100).reshape((1, 1, -1))\n",
    "            xn = np.tile(xn, (n_memb, n_input, 1))\n",
    "\n",
    "            # broadcast all curves in one array\n",
    "            memb_curves = 1 / (1 + np.square((xn - c) / a)**b)\n",
    "\n",
    "            if show_initial_weights:\n",
    "                a_init, b_init, c_init = np.around(self.init_weights, 2)\n",
    "                a_init, b_init, c_init = a_init.reshape((n_memb, n_input, 1)), b_init.reshape(\n",
    "                    n_memb, n_input, 1), c_init.reshape(n_memb, n_input, 1)\n",
    "                init_curves = 1 / \\\n",
    "                    (1 + np.square((xn - c_init) / a_init)**b_init)\n",
    "\n",
    "        elif self.memb_func == 'sigmoid':\n",
    "            gammas, c = np.around(self.model.get_layer(\n",
    "                'fuzzyLayer').get_weights(), 2)\n",
    "            gammas, c = gammas.reshape(\n",
    "                (n_memb, n_input, 1)), c.reshape(n_memb, n_input, 1)\n",
    "\n",
    "            xn = np.linspace(np.min(c) - 2 * np.max(abs(c)), np.max(c) + 2 * np.max(\n",
    "                abs(c)), 100).reshape((1, 1, -1))  # TODO: change confidence bands\n",
    "            xn = np.tile(xn, (n_memb, n_input, 1))\n",
    "\n",
    "            # broadcast all curves in one array\n",
    "            memb_curves = 1 / (1 + np.exp(-gammas * (xn - c)))\n",
    "\n",
    "            if show_initial_weights:\n",
    "                gammas_init, c_init = np.around(self.init_weights, 2)\n",
    "                gammas_init, c_init = gammas_init.reshape(\n",
    "                    n_memb, n_input, 1), c_init.reshape(n_memb, n_input, 1)\n",
    "                init_curves = 1 / (1 + np.exp(-gammas_init * (xn - c_init)))\n",
    "\n",
    "        fig, axs = plt.subplots(nrows=n_input, ncols=1, figsize=(8, self.n * 3))\n",
    "        fig.suptitle('Membership functions', size=16)\n",
    "        for n in range(self.n):\n",
    "            axs[n].grid(True)\n",
    "            axs[n].set_title(f'Input {n+1}')\n",
    "            for m in range(self.m):\n",
    "                axs[n].plot(xn[m, n, :], memb_curves[m, n, :])\n",
    "\n",
    "        if show_initial_weights:  # plot initial membership curve\n",
    "            for n in range(self.n):\n",
    "                axs[n].set_prop_cycle(None)  # reset color cycle\n",
    "                for m in range(self.m):\n",
    "                    axs[n].plot(xn[m, n, :], init_curves[m, n, :],\n",
    "                                '--', alpha=.5)\n",
    "        plt.show()\n",
    "\n",
    "    def fit(self, X, y, **kwargs):\n",
    "        # save initial weights in the anfis class\n",
    "        self.init_weights = self.model.get_layer('fuzzyLayer').get_weights()\n",
    "\n",
    "        # fit model & update weights in the anfis class\n",
    "        history = self.model.fit(X, y, **kwargs)\n",
    "        self.update_weights()\n",
    "\n",
    "        # clear the graphs\n",
    "        tf.keras.backend.clear_session()\n",
    "\n",
    "        return history\n",
    "\n",
    "    def get_memberships(self, Xs):\n",
    "        intermediate_layer_model = keras.Model(inputs=self.model.input,\n",
    "                                               outputs=self.model.get_layer('normLayer').output)\n",
    "\n",
    "        intermediate_L2_output = intermediate_layer_model.predict(Xs)\n",
    "\n",
    "        return intermediate_L2_output\n",
    "\n",
    "\n",
    "# Custom weight initializer\n",
    "def equally_spaced_initializer(shape, minval=-1.5, maxval=1.5, dtype=tf.float32):\n",
    "    \"\"\"\n",
    "    Custom weight initializer:\n",
    "        euqlly spaced weights along an operating range of [minval, maxval].\n",
    "    \"\"\"\n",
    "    linspace = tf.reshape(tf.linspace(minval, maxval, shape[0]),\n",
    "                          (-1, 1))\n",
    "    return tf.Variable(tf.tile(linspace, (1, shape[1])))\n",
    "\n",
    "\n",
    "# Layer 1\n",
    "class FuzzyLayer(keras.layers.Layer):\n",
    "    def __init__(self, n_input, n_memb, memb_func='gaussian', **kwargs):\n",
    "        super(FuzzyLayer, self).__init__(**kwargs)\n",
    "        self.n = n_input\n",
    "        self.m = n_memb\n",
    "        self.memb_func = memb_func\n",
    "\n",
    "    def build(self, batch_input_shape):\n",
    "        self.batch_size = batch_input_shape[0]\n",
    "\n",
    "        if self.memb_func == 'gbellmf':\n",
    "            self.a = self.add_weight(name='a',\n",
    "                                     shape=(self.m, self.n),\n",
    "                                     initializer=keras.initializers.RandomUniform(\n",
    "                                         minval=.7, maxval=1.3, seed=1),\n",
    "                                     #initializer = 'ones',\n",
    "                                     trainable=True)\n",
    "            self.b = self.add_weight(name='b',\n",
    "                                     shape=(self.m, self.n),\n",
    "                                     initializer=keras.initializers.RandomUniform(\n",
    "                                         minval=.7, maxval=1.3, seed=1),\n",
    "                                     #initializer = 'ones',\n",
    "                                     trainable=True)\n",
    "            self.c = self.add_weight(name='c',\n",
    "                                     shape=(self.m, self.n),\n",
    "                                     initializer=equally_spaced_initializer,\n",
    "                                     #initializer = keras.initializers.RandomUniform(minval=-1.5, maxval=1.5, seed=1),\n",
    "                                     #initializer = 'zeros',\n",
    "                                     trainable=True)\n",
    "\n",
    "        elif self.memb_func == 'gaussian':\n",
    "            self.mu = self.add_weight(name='mu',\n",
    "                                      shape=(self.m, self.n),\n",
    "                                      initializer=equally_spaced_initializer,\n",
    "                                      #initializer = keras.initializers.RandomUniform(minval=-1.5, maxval=1.5, seed=1),\n",
    "                                      #initializer = 'zeros',\n",
    "                                      trainable=True)\n",
    "            self.sigma = self.add_weight(name='sigma',\n",
    "                                         shape=(self.m, self.n),\n",
    "                                         initializer=keras.initializers.RandomUniform(\n",
    "                                             minval=.7, maxval=1.3, seed=1),\n",
    "                                         #initializer = 'ones',\n",
    "                                         trainable=True)\n",
    "\n",
    "        elif self.memb_func == 'sigmoid':\n",
    "            self.gamma = self.add_weight(name='gamma',\n",
    "                                         shape=(self.m, self.n),\n",
    "                                         initializer=equally_spaced_initializer,  # 'ones',\n",
    "                                         trainable=True)\n",
    "\n",
    "            self.c = self.add_weight(name='c',\n",
    "                                     shape=(self.m, self.n),\n",
    "                                     initializer=equally_spaced_initializer,  # 'ones',\n",
    "                                     trainable=True)\n",
    "\n",
    "        # Be sure to call this at the end\n",
    "        super(FuzzyLayer, self).build(batch_input_shape)\n",
    "\n",
    "    def call(self, x_inputs):\n",
    "        if self.memb_func == 'gbellmf':\n",
    "            L1_output = 1 / (1 +\n",
    "                             tf.math.pow(\n",
    "                                 tf.square(tf.subtract(\n",
    "                                     tf.reshape(\n",
    "                                         tf.tile(x_inputs, (1, self.m)), (-1, self.m, self.n)), self.c\n",
    "                                 ) / self.a), self.b)\n",
    "                             )\n",
    "        elif self.memb_func == 'gaussian':\n",
    "            L1_output = tf.exp(-1 *\n",
    "                               tf.square(tf.subtract(\n",
    "                                   tf.reshape(\n",
    "                                       tf.tile(x_inputs, (1, self.m)), (-1, self.m, self.n)), self.mu\n",
    "                               )) / tf.square(self.sigma))\n",
    "\n",
    "        elif self.memb_func == 'sigmoid':\n",
    "            L1_output = tf.math.divide(1,\n",
    "                                       tf.math.exp(-self.gamma *\n",
    "                                                   tf.subtract(\n",
    "                                                       tf.reshape(\n",
    "                                                           tf.tile(x_inputs, (1, self.m)), (-1, self.m, self.n)), self.c)\n",
    "                                                   )\n",
    "                                       )\n",
    "        return L1_output\n",
    "\n",
    "\n",
    "# Layer 2\n",
    "class RuleLayer(keras.layers.Layer):\n",
    "    def __init__(self, n_input, n_memb, **kwargs):\n",
    "        super(RuleLayer, self).__init__(**kwargs)\n",
    "        self.n = n_input\n",
    "        self.m = n_memb\n",
    "        self.batch_size = None\n",
    "\n",
    "    def build(self, batch_input_shape):\n",
    "        self.batch_size = batch_input_shape[0]\n",
    "        # self.batch_size = tf.shape(batch_input_shape)[0]\n",
    "        # Be sure to call this at the end\n",
    "        super(RuleLayer, self).build(batch_input_shape)\n",
    "\n",
    "    def call(self, input_):\n",
    "        if self.n == 2:\n",
    "            L2_output = tf.reshape(input_[:, :, 0], [self.batch_size, -1, 1]) * \\\n",
    "                tf.reshape(input_[:, :, 1], [self.batch_size, 1, -1])\n",
    "        elif self.n == 3:\n",
    "            L2_output = tf.reshape(input_[:, :, 0], [self.batch_size, -1, 1, 1]) * \\\n",
    "                tf.reshape(input_[:, :, 1], [self.batch_size, 1, -1, 1]) * \\\n",
    "                tf.reshape(input_[:, :, 2], [self.batch_size, 1, 1, -1])\n",
    "        elif self.n == 4:\n",
    "            L2_output = tf.reshape(input_[:, :, 0], [self.batch_size, -1, 1, 1, 1]) * \\\n",
    "                tf.reshape(input_[:, :, 1], [self.batch_size, 1, -1, 1, 1]) * \\\n",
    "                tf.reshape(input_[:, :, 2], [self.batch_size, 1, 1, -1, 1]) * \\\n",
    "                tf.reshape(input_[:, :, 3], [self.batch_size, 1, 1, 1, -1])\n",
    "        elif self.n == 5:\n",
    "            L2_output = tf.reshape(input_[:, :, 0], [self.batch_size, -1, 1, 1, 1, 1]) * \\\n",
    "                tf.reshape(input_[:, :, 1], [self.batch_size, 1, -1, 1, 1, 1]) * \\\n",
    "                tf.reshape(input_[:, :, 2], [self.batch_size, 1, 1, -1, 1, 1]) * \\\n",
    "                tf.reshape(input_[:, :, 3], [self.batch_size, 1, 1, 1, -1, 1]) * \\\n",
    "                tf.reshape(input_[:, :, 4], [self.batch_size, 1, 1, 1, 1, -1])\n",
    "        elif self.n == 6:\n",
    "            L2_output = tf.reshape(input_[:, :, 0], [self.batch_size, -1, 1, 1, 1, 1, 1]) * \\\n",
    "                tf.reshape(input_[:, :, 1], [self.batch_size, 1, -1, 1, 1, 1, 1]) * \\\n",
    "                tf.reshape(input_[:, :, 2], [self.batch_size, 1, 1, -1, 1, 1, 1]) * \\\n",
    "                tf.reshape(input_[:, :, 3], [self.batch_size, 1, 1, 1, -1, 1, 1]) * \\\n",
    "                tf.reshape(input_[:, :, 4], [self.batch_size, 1, 1, 1, 1, -1, 1]) * \\\n",
    "                tf.reshape(input_[:, :, 5], [\n",
    "                           self.batch_size, 1, 1, 1, 1, 1, -1])\n",
    "        else:\n",
    "            raise ValueError(\n",
    "                f'This ANFIS implementation works with 2 to 6 inputs.')\n",
    "\n",
    "        return tf.reshape(L2_output, [self.batch_size, -1])\n",
    "\n",
    "\n",
    "# Layer 3\n",
    "class NormLayer(keras.layers.Layer):\n",
    "    def __init__(self, **kwargs):\n",
    "        super().__init__(**kwargs)\n",
    "\n",
    "    def call(self, w):\n",
    "        w_sum = tf.reshape(tf.reduce_sum(w, axis=1), (-1, 1))\n",
    "        w_norm = w / w_sum\n",
    "        return w_norm\n",
    "\n",
    "\n",
    "# Layer 4\n",
    "class DefuzzLayer(keras.layers.Layer):\n",
    "    def __init__(self, n_input, n_memb, **kwargs):\n",
    "        super().__init__(**kwargs)\n",
    "        self.n = n_input\n",
    "        self.m = n_memb\n",
    "\n",
    "        self.CP_bias = self.add_weight(name='Consequence_bias',\n",
    "                                       shape=(1, self.m ** self.n),\n",
    "                                       initializer=keras.initializers.RandomUniform(\n",
    "                                           minval=-2, maxval=2),\n",
    "                                       # initializer = 'ones',\n",
    "                                       trainable=True)\n",
    "        self.CP_weight = self.add_weight(name='Consequence_weight',\n",
    "                                         shape=(self.n, self.m ** self.n),\n",
    "                                         initializer=keras.initializers.RandomUniform(\n",
    "                                             minval=-2, maxval=2),\n",
    "                                         # initializer = 'ones',\n",
    "                                         trainable=True)\n",
    "\n",
    "    def call(self, w_norm, input_):\n",
    "\n",
    "        L4_L2_output = tf.multiply(w_norm,\n",
    "                                   tf.matmul(input_, self.CP_weight) + self.CP_bias)\n",
    "        return L4_L2_output  # Defuzzyfied Layer\n",
    "\n",
    "\n",
    "# Layer 5\n",
    "class SummationLayer(keras.layers.Layer):\n",
    "    def __init__(self, **kwargs):\n",
    "        super().__init__(**kwargs)\n",
    "\n",
    "    def build(self, batch_input_shape):\n",
    "        self.batch_size = batch_input_shape[0]\n",
    "        #self.batch_size = tf.shape(batch_input_shape)[0]\n",
    "        # Be sure to call this at the end\n",
    "        super(SummationLayer, self).build(batch_input_shape)\n",
    "\n",
    "    def call(self, input_):\n",
    "        L5_L2_output = tf.reduce_sum(input_, axis=1)\n",
    "        L5_L2_output = tf.reshape(L5_L2_output, (-1, 1))\n",
    "        return L5_L2_output\n",
    "\n",
    "    # def compute_L2_output_shape(self, batch_input_shape):\n",
    "        # return tf.TensorShape([self.batch_size, 1])"
   ]
  },
  {
   "cell_type": "code",
   "execution_count": 2,
   "id": "4396d73b",
   "metadata": {
    "execution": {
     "iopub.execute_input": "2022-07-03T13:38:56.571428Z",
     "iopub.status.busy": "2022-07-03T13:38:56.570372Z",
     "iopub.status.idle": "2022-07-03T13:38:57.324227Z",
     "shell.execute_reply": "2022-07-03T13:38:57.322854Z"
    },
    "papermill": {
     "duration": 0.768453,
     "end_time": "2022-07-03T13:38:57.327474",
     "exception": false,
     "start_time": "2022-07-03T13:38:56.559021",
     "status": "completed"
    },
    "tags": []
   },
   "outputs": [],
   "source": [
    "import pandas as pd\n",
    "import numpy as np\n",
    "import sys\n",
    "sys.maxsize\n",
    "\n",
    "from sklearn.model_selection import KFold\n",
    "from sklearn.preprocessing import MinMaxScaler\n",
    "\n",
    "import tensorflow as tf"
   ]
  },
  {
   "cell_type": "code",
   "execution_count": 3,
   "id": "f6509fa5",
   "metadata": {
    "execution": {
     "iopub.execute_input": "2022-07-03T13:38:57.349928Z",
     "iopub.status.busy": "2022-07-03T13:38:57.349296Z",
     "iopub.status.idle": "2022-07-03T13:39:12.513068Z",
     "shell.execute_reply": "2022-07-03T13:39:12.511803Z"
    },
    "papermill": {
     "duration": 15.177722,
     "end_time": "2022-07-03T13:39:12.515467",
     "exception": false,
     "start_time": "2022-07-03T13:38:57.337745",
     "status": "completed"
    },
    "tags": []
   },
   "outputs": [
    {
     "name": "stdout",
     "output_type": "stream",
     "text": [
      "Collecting openpyxl\r\n",
      "  Downloading openpyxl-3.0.10-py2.py3-none-any.whl (242 kB)\r\n",
      "\u001b[2K     \u001b[90m━━━━━━━━━━━━━━━━━━━━━━━━━━━━━━━━━━━━━\u001b[0m \u001b[32m242.1/242.1 kB\u001b[0m \u001b[31m525.9 kB/s\u001b[0m eta \u001b[36m0:00:00\u001b[0m\r\n",
      "\u001b[?25hCollecting et-xmlfile\r\n",
      "  Downloading et_xmlfile-1.1.0-py3-none-any.whl (4.7 kB)\r\n",
      "Installing collected packages: et-xmlfile, openpyxl\r\n",
      "Successfully installed et-xmlfile-1.1.0 openpyxl-3.0.10\r\n",
      "\u001b[33mWARNING: Running pip as the 'root' user can result in broken permissions and conflicting behaviour with the system package manager. It is recommended to use a virtual environment instead: https://pip.pypa.io/warnings/venv\u001b[0m\u001b[33m\r\n",
      "\u001b[0m"
     ]
    },
    {
     "data": {
      "text/plain": [
       "(125, 5)"
      ]
     },
     "execution_count": 3,
     "metadata": {},
     "output_type": "execute_result"
    }
   ],
   "source": [
    "!pip install openpyxl\n",
    "df = pd.read_excel('../input/capacitive-deionization-dataset/Capacitive Deionization.xlsx') \n",
    "df.shape"
   ]
  },
  {
   "cell_type": "code",
   "execution_count": 4,
   "id": "309e3c4a",
   "metadata": {
    "execution": {
     "iopub.execute_input": "2022-07-03T13:39:12.539875Z",
     "iopub.status.busy": "2022-07-03T13:39:12.538885Z",
     "iopub.status.idle": "2022-07-03T13:39:12.545003Z",
     "shell.execute_reply": "2022-07-03T13:39:12.543866Z"
    },
    "papermill": {
     "duration": 0.022307,
     "end_time": "2022-07-03T13:39:12.548637",
     "exception": false,
     "start_time": "2022-07-03T13:39:12.526330",
     "status": "completed"
    },
    "tags": []
   },
   "outputs": [
    {
     "name": "stdout",
     "output_type": "stream",
     "text": [
      "<class 'pandas.core.frame.DataFrame'>\n"
     ]
    }
   ],
   "source": [
    "print(type(df))"
   ]
  },
  {
   "cell_type": "code",
   "execution_count": 5,
   "id": "3c436d3c",
   "metadata": {
    "execution": {
     "iopub.execute_input": "2022-07-03T13:39:12.578438Z",
     "iopub.status.busy": "2022-07-03T13:39:12.578058Z",
     "iopub.status.idle": "2022-07-03T13:39:12.594359Z",
     "shell.execute_reply": "2022-07-03T13:39:12.593069Z"
    },
    "papermill": {
     "duration": 0.031366,
     "end_time": "2022-07-03T13:39:12.596753",
     "exception": false,
     "start_time": "2022-07-03T13:39:12.565387",
     "status": "completed"
    },
    "tags": []
   },
   "outputs": [
    {
     "data": {
      "text/plain": [
       "array([[8.00000000e-01, 1.00000000e+03, 1.00000000e+01, 1.66000000e+03,\n",
       "        1.70000000e-01],\n",
       "       [8.00000000e-01, 1.00000000e+03, 2.00000000e+01, 1.69000000e+03,\n",
       "        1.55000000e-01],\n",
       "       [8.00000000e-01, 1.00000000e+03, 3.00000000e+01, 1.73000000e+03,\n",
       "        1.35000000e-01],\n",
       "       [8.00000000e-01, 1.00000000e+03, 4.00000000e+01, 1.78000000e+03,\n",
       "        1.10000000e-01],\n",
       "       [8.00000000e-01, 1.00000000e+03, 5.00000000e+01, 1.81000000e+03,\n",
       "        9.50000000e-02],\n",
       "       [8.00000000e-01, 2.00000000e+03, 1.00000000e+01, 3.33000000e+03,\n",
       "        1.67500000e-01],\n",
       "       [8.00000000e-01, 2.00000000e+03, 2.00000000e+01, 3.36000000e+03,\n",
       "        1.60000000e-01],\n",
       "       [8.00000000e-01, 2.00000000e+03, 3.00000000e+01, 3.39000000e+03,\n",
       "        1.52500000e-01],\n",
       "       [8.00000000e-01, 2.00000000e+03, 4.00000000e+01, 3.43000000e+03,\n",
       "        1.42500000e-01],\n",
       "       [8.00000000e-01, 2.00000000e+03, 5.00000000e+01, 3.46000000e+03,\n",
       "        1.35000000e-01],\n",
       "       [8.00000000e-01, 3.00000000e+03, 1.00000000e+01, 4.95000000e+03,\n",
       "        1.75000000e-01],\n",
       "       [8.00000000e-01, 3.00000000e+03, 2.00000000e+01, 4.99000000e+03,\n",
       "        1.68333333e-01],\n",
       "       [8.00000000e-01, 3.00000000e+03, 3.00000000e+01, 5.06000000e+03,\n",
       "        1.56666667e-01],\n",
       "       [8.00000000e-01, 3.00000000e+03, 4.00000000e+01, 5.11000000e+03,\n",
       "        1.48333333e-01],\n",
       "       [8.00000000e-01, 3.00000000e+03, 5.00000000e+01, 5.22000000e+03,\n",
       "        1.30000000e-01],\n",
       "       [8.00000000e-01, 4.00000000e+03, 1.00000000e+01, 6.85000000e+03,\n",
       "        1.43750000e-01],\n",
       "       [8.00000000e-01, 4.00000000e+03, 2.00000000e+01, 6.92000000e+03,\n",
       "        1.35000000e-01],\n",
       "       [8.00000000e-01, 4.00000000e+03, 3.00000000e+01, 6.99000000e+03,\n",
       "        1.26250000e-01],\n",
       "       [8.00000000e-01, 4.00000000e+03, 4.00000000e+01, 7.06000000e+03,\n",
       "        1.17500000e-01],\n",
       "       [8.00000000e-01, 4.00000000e+03, 5.00000000e+01, 7.12000000e+03,\n",
       "        1.10000000e-01],\n",
       "       [8.00000000e-01, 5.00000000e+03, 1.00000000e+01, 8.30000000e+03,\n",
       "        1.70000000e-01],\n",
       "       [8.00000000e-01, 5.00000000e+03, 2.00000000e+01, 8.34000000e+03,\n",
       "        1.66000000e-01],\n",
       "       [8.00000000e-01, 5.00000000e+03, 3.00000000e+01, 8.38000000e+03,\n",
       "        1.62000000e-01],\n",
       "       [8.00000000e-01, 5.00000000e+03, 4.00000000e+01, 8.43000000e+03,\n",
       "        1.57000000e-01],\n",
       "       [8.00000000e-01, 5.00000000e+03, 5.00000000e+01, 8.49000000e+03,\n",
       "        1.51000000e-01],\n",
       "       [1.00000000e+00, 1.00000000e+03, 1.00000000e+01, 1.65000000e+03,\n",
       "        1.75000000e-01],\n",
       "       [1.00000000e+00, 1.00000000e+03, 2.00000000e+01, 1.67000000e+03,\n",
       "        1.65000000e-01],\n",
       "       [1.00000000e+00, 1.00000000e+03, 3.00000000e+01, 1.71000000e+03,\n",
       "        1.45000000e-01],\n",
       "       [1.00000000e+00, 1.00000000e+03, 4.00000000e+01, 1.73000000e+03,\n",
       "        1.35000000e-01],\n",
       "       [1.00000000e+00, 1.00000000e+03, 5.00000000e+01, 1.80000000e+03,\n",
       "        1.00000000e-01],\n",
       "       [1.00000000e+00, 2.00000000e+03, 1.00000000e+01, 3.32000000e+03,\n",
       "        1.70000000e-01],\n",
       "       [1.00000000e+00, 2.00000000e+03, 2.00000000e+01, 3.34000000e+03,\n",
       "        1.65000000e-01],\n",
       "       [1.00000000e+00, 2.00000000e+03, 3.00000000e+01, 3.36000000e+03,\n",
       "        1.60000000e-01],\n",
       "       [1.00000000e+00, 2.00000000e+03, 4.00000000e+01, 3.40000000e+03,\n",
       "        1.50000000e-01],\n",
       "       [1.00000000e+00, 2.00000000e+03, 5.00000000e+01, 3.43000000e+03,\n",
       "        1.42500000e-01],\n",
       "       [1.00000000e+00, 3.00000000e+03, 1.00000000e+01, 4.92000000e+03,\n",
       "        1.80000000e-01],\n",
       "       [1.00000000e+00, 3.00000000e+03, 2.00000000e+01, 4.96000000e+03,\n",
       "        1.73333333e-01],\n",
       "       [1.00000000e+00, 3.00000000e+03, 3.00000000e+01, 5.01000000e+03,\n",
       "        1.65000000e-01],\n",
       "       [1.00000000e+00, 3.00000000e+03, 4.00000000e+01, 5.06000000e+03,\n",
       "        1.56666667e-01],\n",
       "       [1.00000000e+00, 3.00000000e+03, 5.00000000e+01, 5.10000000e+03,\n",
       "        1.50000000e-01],\n",
       "       [1.00000000e+00, 4.00000000e+03, 1.00000000e+01, 6.80000000e+03,\n",
       "        1.50000000e-01],\n",
       "       [1.00000000e+00, 4.00000000e+03, 2.00000000e+01, 6.90000000e+03,\n",
       "        1.37500000e-01],\n",
       "       [1.00000000e+00, 4.00000000e+03, 3.00000000e+01, 6.97000000e+03,\n",
       "        1.28750000e-01],\n",
       "       [1.00000000e+00, 4.00000000e+03, 4.00000000e+01, 7.04000000e+03,\n",
       "        1.20000000e-01],\n",
       "       [1.00000000e+00, 4.00000000e+03, 5.00000000e+01, 7.10000000e+03,\n",
       "        1.12500000e-01],\n",
       "       [1.00000000e+00, 5.00000000e+03, 1.00000000e+01, 8.26000000e+03,\n",
       "        1.74000000e-01],\n",
       "       [1.00000000e+00, 5.00000000e+03, 2.00000000e+01, 8.29000000e+03,\n",
       "        1.71000000e-01],\n",
       "       [1.00000000e+00, 5.00000000e+03, 3.00000000e+01, 8.35000000e+03,\n",
       "        1.65000000e-01],\n",
       "       [1.00000000e+00, 5.00000000e+03, 4.00000000e+01, 8.39000000e+03,\n",
       "        1.61000000e-01],\n",
       "       [1.00000000e+00, 5.00000000e+03, 5.00000000e+01, 8.44000000e+03,\n",
       "        1.56000000e-01],\n",
       "       [1.20000000e+00, 1.00000000e+03, 1.00000000e+01, 1.63000000e+03,\n",
       "        1.85000000e-01],\n",
       "       [1.20000000e+00, 1.00000000e+03, 2.00000000e+01, 1.66000000e+03,\n",
       "        1.70000000e-01],\n",
       "       [1.20000000e+00, 1.00000000e+03, 3.00000000e+01, 1.69000000e+03,\n",
       "        1.55000000e-01],\n",
       "       [1.20000000e+00, 1.00000000e+03, 4.00000000e+01, 1.72000000e+03,\n",
       "        1.40000000e-01],\n",
       "       [1.20000000e+00, 1.00000000e+03, 5.00000000e+01, 1.78000000e+03,\n",
       "        1.10000000e-01],\n",
       "       [1.20000000e+00, 2.00000000e+03, 1.00000000e+01, 3.27000000e+03,\n",
       "        1.82500000e-01],\n",
       "       [1.20000000e+00, 2.00000000e+03, 2.00000000e+01, 3.30000000e+03,\n",
       "        1.75000000e-01],\n",
       "       [1.20000000e+00, 2.00000000e+03, 3.00000000e+01, 3.35000000e+03,\n",
       "        1.62500000e-01],\n",
       "       [1.20000000e+00, 2.00000000e+03, 4.00000000e+01, 3.39000000e+03,\n",
       "        1.52500000e-01],\n",
       "       [1.20000000e+00, 2.00000000e+03, 5.00000000e+01, 3.44000000e+03,\n",
       "        1.40000000e-01],\n",
       "       [1.20000000e+00, 3.00000000e+03, 1.00000000e+01, 4.89000000e+03,\n",
       "        1.85000000e-01],\n",
       "       [1.20000000e+00, 3.00000000e+03, 2.00000000e+01, 4.93000000e+03,\n",
       "        1.78333333e-01],\n",
       "       [1.20000000e+00, 3.00000000e+03, 3.00000000e+01, 4.96000000e+03,\n",
       "        1.73333333e-01],\n",
       "       [1.20000000e+00, 3.00000000e+03, 4.00000000e+01, 5.02000000e+03,\n",
       "        1.63333333e-01],\n",
       "       [1.20000000e+00, 3.00000000e+03, 5.00000000e+01, 5.08000000e+03,\n",
       "        1.53333333e-01],\n",
       "       [1.20000000e+00, 4.00000000e+03, 1.00000000e+01, 6.76000000e+03,\n",
       "        1.55000000e-01],\n",
       "       [1.20000000e+00, 4.00000000e+03, 2.00000000e+01, 6.84000000e+03,\n",
       "        1.45000000e-01],\n",
       "       [1.20000000e+00, 4.00000000e+03, 3.00000000e+01, 6.91000000e+03,\n",
       "        1.36250000e-01],\n",
       "       [1.20000000e+00, 4.00000000e+03, 4.00000000e+01, 6.97000000e+03,\n",
       "        1.28750000e-01],\n",
       "       [1.20000000e+00, 4.00000000e+03, 5.00000000e+01, 7.07000000e+03,\n",
       "        1.16250000e-01],\n",
       "       [1.20000000e+00, 5.00000000e+03, 1.00000000e+01, 8.21000000e+03,\n",
       "        1.79000000e-01],\n",
       "       [1.20000000e+00, 5.00000000e+03, 2.00000000e+01, 8.26000000e+03,\n",
       "        1.74000000e-01],\n",
       "       [1.20000000e+00, 5.00000000e+03, 3.00000000e+01, 8.33000000e+03,\n",
       "        1.67000000e-01],\n",
       "       [1.20000000e+00, 5.00000000e+03, 4.00000000e+01, 8.37000000e+03,\n",
       "        1.63000000e-01],\n",
       "       [1.20000000e+00, 5.00000000e+03, 5.00000000e+01, 8.42000000e+03,\n",
       "        1.58000000e-01],\n",
       "       [1.40000000e+00, 1.00000000e+03, 1.00000000e+01, 1.59000000e+03,\n",
       "        2.05000000e-01],\n",
       "       [1.40000000e+00, 1.00000000e+03, 2.00000000e+01, 1.63000000e+03,\n",
       "        1.85000000e-01],\n",
       "       [1.40000000e+00, 1.00000000e+03, 3.00000000e+01, 1.66000000e+03,\n",
       "        1.70000000e-01],\n",
       "       [1.40000000e+00, 1.00000000e+03, 4.00000000e+01, 1.68000000e+03,\n",
       "        1.60000000e-01],\n",
       "       [1.40000000e+00, 1.00000000e+03, 5.00000000e+01, 1.75000000e+03,\n",
       "        1.25000000e-01],\n",
       "       [1.40000000e+00, 2.00000000e+03, 1.00000000e+01, 3.26000000e+03,\n",
       "        1.85000000e-01],\n",
       "       [1.40000000e+00, 2.00000000e+03, 2.00000000e+01, 3.31000000e+03,\n",
       "        1.72500000e-01],\n",
       "       [1.40000000e+00, 2.00000000e+03, 3.00000000e+01, 3.34000000e+03,\n",
       "        1.65000000e-01],\n",
       "       [1.40000000e+00, 2.00000000e+03, 4.00000000e+01, 3.37000000e+03,\n",
       "        1.57500000e-01],\n",
       "       [1.40000000e+00, 2.00000000e+03, 5.00000000e+01, 3.41000000e+03,\n",
       "        1.47500000e-01],\n",
       "       [1.40000000e+00, 3.00000000e+03, 1.00000000e+01, 4.83000000e+03,\n",
       "        1.95000000e-01],\n",
       "       [1.40000000e+00, 3.00000000e+03, 2.00000000e+01, 4.89000000e+03,\n",
       "        1.85000000e-01],\n",
       "       [1.40000000e+00, 3.00000000e+03, 3.00000000e+01, 4.95000000e+03,\n",
       "        1.75000000e-01],\n",
       "       [1.40000000e+00, 3.00000000e+03, 4.00000000e+01, 5.00000000e+03,\n",
       "        1.66666667e-01],\n",
       "       [1.40000000e+00, 3.00000000e+03, 5.00000000e+01, 5.05000000e+03,\n",
       "        1.58333333e-01],\n",
       "       [1.40000000e+00, 4.00000000e+03, 1.00000000e+01, 6.71000000e+03,\n",
       "        1.61250000e-01],\n",
       "       [1.40000000e+00, 4.00000000e+03, 2.00000000e+01, 6.79000000e+03,\n",
       "        1.51250000e-01],\n",
       "       [1.40000000e+00, 4.00000000e+03, 3.00000000e+01, 6.88000000e+03,\n",
       "        1.40000000e-01],\n",
       "       [1.40000000e+00, 4.00000000e+03, 4.00000000e+01, 6.95000000e+03,\n",
       "        1.31250000e-01],\n",
       "       [1.40000000e+00, 4.00000000e+03, 5.00000000e+01, 7.03000000e+03,\n",
       "        1.21250000e-01],\n",
       "       [1.40000000e+00, 5.00000000e+03, 1.00000000e+01, 8.18000000e+03,\n",
       "        1.82000000e-01],\n",
       "       [1.40000000e+00, 5.00000000e+03, 2.00000000e+01, 8.23000000e+03,\n",
       "        1.77000000e-01],\n",
       "       [1.40000000e+00, 5.00000000e+03, 3.00000000e+01, 8.30000000e+03,\n",
       "        1.70000000e-01],\n",
       "       [1.40000000e+00, 5.00000000e+03, 4.00000000e+01, 8.35000000e+03,\n",
       "        1.65000000e-01],\n",
       "       [1.40000000e+00, 5.00000000e+03, 5.00000000e+01, 8.41000000e+03,\n",
       "        1.59000000e-01],\n",
       "       [1.60000000e+00, 1.00000000e+03, 1.00000000e+01, 1.56000000e+03,\n",
       "        2.20000000e-01],\n",
       "       [1.60000000e+00, 1.00000000e+03, 2.00000000e+01, 1.62000000e+03,\n",
       "        1.90000000e-01],\n",
       "       [1.60000000e+00, 1.00000000e+03, 3.00000000e+01, 1.63000000e+03,\n",
       "        1.85000000e-01],\n",
       "       [1.60000000e+00, 1.00000000e+03, 4.00000000e+01, 1.66000000e+03,\n",
       "        1.70000000e-01],\n",
       "       [1.60000000e+00, 1.00000000e+03, 5.00000000e+01, 1.71000000e+03,\n",
       "        1.45000000e-01],\n",
       "       [1.60000000e+00, 2.00000000e+03, 1.00000000e+01, 3.21000000e+03,\n",
       "        1.97500000e-01],\n",
       "       [1.60000000e+00, 2.00000000e+03, 2.00000000e+01, 3.24000000e+03,\n",
       "        1.90000000e-01],\n",
       "       [1.60000000e+00, 2.00000000e+03, 3.00000000e+01, 3.27000000e+03,\n",
       "        1.82500000e-01],\n",
       "       [1.60000000e+00, 2.00000000e+03, 4.00000000e+01, 3.31000000e+03,\n",
       "        1.72500000e-01],\n",
       "       [1.60000000e+00, 2.00000000e+03, 5.00000000e+01, 3.36000000e+03,\n",
       "        1.60000000e-01],\n",
       "       [1.60000000e+00, 3.00000000e+03, 1.00000000e+01, 4.76000000e+03,\n",
       "        2.06666667e-01],\n",
       "       [1.60000000e+00, 3.00000000e+03, 2.00000000e+01, 4.83000000e+03,\n",
       "        1.95000000e-01],\n",
       "       [1.60000000e+00, 3.00000000e+03, 3.00000000e+01, 4.90000000e+03,\n",
       "        1.83333333e-01],\n",
       "       [1.60000000e+00, 3.00000000e+03, 4.00000000e+01, 4.97000000e+03,\n",
       "        1.71666667e-01],\n",
       "       [1.60000000e+00, 3.00000000e+03, 5.00000000e+01, 5.03000000e+03,\n",
       "        1.61666667e-01],\n",
       "       [1.60000000e+00, 4.00000000e+03, 1.00000000e+01, 6.65000000e+03,\n",
       "        1.68750000e-01],\n",
       "       [1.60000000e+00, 4.00000000e+03, 2.00000000e+01, 6.73000000e+03,\n",
       "        1.58750000e-01],\n",
       "       [1.60000000e+00, 4.00000000e+03, 3.00000000e+01, 6.82000000e+03,\n",
       "        1.47500000e-01],\n",
       "       [1.60000000e+00, 4.00000000e+03, 4.00000000e+01, 6.90000000e+03,\n",
       "        1.37500000e-01],\n",
       "       [1.60000000e+00, 4.00000000e+03, 5.00000000e+01, 7.00000000e+03,\n",
       "        1.25000000e-01],\n",
       "       [1.60000000e+00, 5.00000000e+03, 1.00000000e+01, 8.14000000e+03,\n",
       "        1.86000000e-01],\n",
       "       [1.60000000e+00, 5.00000000e+03, 2.00000000e+01, 8.18000000e+03,\n",
       "        1.82000000e-01],\n",
       "       [1.60000000e+00, 5.00000000e+03, 3.00000000e+01, 8.25000000e+03,\n",
       "        1.75000000e-01],\n",
       "       [1.60000000e+00, 5.00000000e+03, 4.00000000e+01, 8.32000000e+03,\n",
       "        1.68000000e-01],\n",
       "       [1.60000000e+00, 5.00000000e+03, 5.00000000e+01, 8.39000000e+03,\n",
       "        1.61000000e-01]])"
      ]
     },
     "execution_count": 5,
     "metadata": {},
     "output_type": "execute_result"
    }
   ],
   "source": [
    "df.to_numpy()"
   ]
  },
  {
   "cell_type": "code",
   "execution_count": 6,
   "id": "3fa57329",
   "metadata": {
    "execution": {
     "iopub.execute_input": "2022-07-03T13:39:12.621677Z",
     "iopub.status.busy": "2022-07-03T13:39:12.621290Z",
     "iopub.status.idle": "2022-07-03T13:39:12.640523Z",
     "shell.execute_reply": "2022-07-03T13:39:12.639366Z"
    },
    "papermill": {
     "duration": 0.034522,
     "end_time": "2022-07-03T13:39:12.642929",
     "exception": false,
     "start_time": "2022-07-03T13:39:12.608407",
     "status": "completed"
    },
    "tags": []
   },
   "outputs": [
    {
     "data": {
      "text/html": [
       "<div>\n",
       "<style scoped>\n",
       "    .dataframe tbody tr th:only-of-type {\n",
       "        vertical-align: middle;\n",
       "    }\n",
       "\n",
       "    .dataframe tbody tr th {\n",
       "        vertical-align: top;\n",
       "    }\n",
       "\n",
       "    .dataframe thead th {\n",
       "        text-align: right;\n",
       "    }\n",
       "</style>\n",
       "<table border=\"1\" class=\"dataframe\">\n",
       "  <thead>\n",
       "    <tr style=\"text-align: right;\">\n",
       "      <th></th>\n",
       "      <th>volt(V)</th>\n",
       "      <th>concentrate(ppm)</th>\n",
       "      <th>feed rate(ml/min)</th>\n",
       "      <th>EC(μmho/cm)</th>\n",
       "      <th>Desalination(%)</th>\n",
       "    </tr>\n",
       "  </thead>\n",
       "  <tbody>\n",
       "    <tr>\n",
       "      <th>0</th>\n",
       "      <td>0.8</td>\n",
       "      <td>1000</td>\n",
       "      <td>10</td>\n",
       "      <td>1660.0</td>\n",
       "      <td>0.170</td>\n",
       "    </tr>\n",
       "    <tr>\n",
       "      <th>1</th>\n",
       "      <td>0.8</td>\n",
       "      <td>1000</td>\n",
       "      <td>20</td>\n",
       "      <td>1690.0</td>\n",
       "      <td>0.155</td>\n",
       "    </tr>\n",
       "    <tr>\n",
       "      <th>2</th>\n",
       "      <td>0.8</td>\n",
       "      <td>1000</td>\n",
       "      <td>30</td>\n",
       "      <td>1730.0</td>\n",
       "      <td>0.135</td>\n",
       "    </tr>\n",
       "    <tr>\n",
       "      <th>3</th>\n",
       "      <td>0.8</td>\n",
       "      <td>1000</td>\n",
       "      <td>40</td>\n",
       "      <td>1780.0</td>\n",
       "      <td>0.110</td>\n",
       "    </tr>\n",
       "    <tr>\n",
       "      <th>4</th>\n",
       "      <td>0.8</td>\n",
       "      <td>1000</td>\n",
       "      <td>50</td>\n",
       "      <td>1810.0</td>\n",
       "      <td>0.095</td>\n",
       "    </tr>\n",
       "  </tbody>\n",
       "</table>\n",
       "</div>"
      ],
      "text/plain": [
       "   volt(V)  concentrate(ppm)  feed rate(ml/min)  EC(μmho/cm)  Desalination(%)\n",
       "0      0.8              1000                 10       1660.0            0.170\n",
       "1      0.8              1000                 20       1690.0            0.155\n",
       "2      0.8              1000                 30       1730.0            0.135\n",
       "3      0.8              1000                 40       1780.0            0.110\n",
       "4      0.8              1000                 50       1810.0            0.095"
      ]
     },
     "execution_count": 6,
     "metadata": {},
     "output_type": "execute_result"
    }
   ],
   "source": [
    "df.head()"
   ]
  },
  {
   "cell_type": "code",
   "execution_count": 7,
   "id": "c1f341bd",
   "metadata": {
    "execution": {
     "iopub.execute_input": "2022-07-03T13:39:12.667931Z",
     "iopub.status.busy": "2022-07-03T13:39:12.667549Z",
     "iopub.status.idle": "2022-07-03T13:39:12.708214Z",
     "shell.execute_reply": "2022-07-03T13:39:12.707310Z"
    },
    "papermill": {
     "duration": 0.056145,
     "end_time": "2022-07-03T13:39:12.710656",
     "exception": false,
     "start_time": "2022-07-03T13:39:12.654511",
     "status": "completed"
    },
    "tags": []
   },
   "outputs": [
    {
     "data": {
      "text/html": [
       "<div>\n",
       "<style scoped>\n",
       "    .dataframe tbody tr th:only-of-type {\n",
       "        vertical-align: middle;\n",
       "    }\n",
       "\n",
       "    .dataframe tbody tr th {\n",
       "        vertical-align: top;\n",
       "    }\n",
       "\n",
       "    .dataframe thead th {\n",
       "        text-align: right;\n",
       "    }\n",
       "</style>\n",
       "<table border=\"1\" class=\"dataframe\">\n",
       "  <thead>\n",
       "    <tr style=\"text-align: right;\">\n",
       "      <th></th>\n",
       "      <th>volt(V)</th>\n",
       "      <th>concentrate(ppm)</th>\n",
       "      <th>feed rate(ml/min)</th>\n",
       "      <th>EC(μmho/cm)</th>\n",
       "      <th>Desalination(%)</th>\n",
       "    </tr>\n",
       "  </thead>\n",
       "  <tbody>\n",
       "    <tr>\n",
       "      <th>count</th>\n",
       "      <td>125.000000</td>\n",
       "      <td>125.000000</td>\n",
       "      <td>125.000000</td>\n",
       "      <td>125.000000</td>\n",
       "      <td>125.000000</td>\n",
       "    </tr>\n",
       "    <tr>\n",
       "      <th>mean</th>\n",
       "      <td>1.200000</td>\n",
       "      <td>3000.000000</td>\n",
       "      <td>30.000000</td>\n",
       "      <td>5048.720000</td>\n",
       "      <td>0.158772</td>\n",
       "    </tr>\n",
       "    <tr>\n",
       "      <th>std</th>\n",
       "      <td>0.283981</td>\n",
       "      <td>1419.904586</td>\n",
       "      <td>14.199046</td>\n",
       "      <td>2393.276529</td>\n",
       "      <td>0.022901</td>\n",
       "    </tr>\n",
       "    <tr>\n",
       "      <th>min</th>\n",
       "      <td>0.800000</td>\n",
       "      <td>1000.000000</td>\n",
       "      <td>10.000000</td>\n",
       "      <td>1560.000000</td>\n",
       "      <td>0.095000</td>\n",
       "    </tr>\n",
       "    <tr>\n",
       "      <th>25%</th>\n",
       "      <td>1.000000</td>\n",
       "      <td>2000.000000</td>\n",
       "      <td>20.000000</td>\n",
       "      <td>3310.000000</td>\n",
       "      <td>0.145000</td>\n",
       "    </tr>\n",
       "    <tr>\n",
       "      <th>50%</th>\n",
       "      <td>1.200000</td>\n",
       "      <td>3000.000000</td>\n",
       "      <td>30.000000</td>\n",
       "      <td>4970.000000</td>\n",
       "      <td>0.161250</td>\n",
       "    </tr>\n",
       "    <tr>\n",
       "      <th>75%</th>\n",
       "      <td>1.400000</td>\n",
       "      <td>4000.000000</td>\n",
       "      <td>40.000000</td>\n",
       "      <td>7000.000000</td>\n",
       "      <td>0.173333</td>\n",
       "    </tr>\n",
       "    <tr>\n",
       "      <th>max</th>\n",
       "      <td>1.600000</td>\n",
       "      <td>5000.000000</td>\n",
       "      <td>50.000000</td>\n",
       "      <td>8490.000000</td>\n",
       "      <td>0.220000</td>\n",
       "    </tr>\n",
       "  </tbody>\n",
       "</table>\n",
       "</div>"
      ],
      "text/plain": [
       "          volt(V)  concentrate(ppm)  feed rate(ml/min)  EC(μmho/cm)  \\\n",
       "count  125.000000        125.000000         125.000000   125.000000   \n",
       "mean     1.200000       3000.000000          30.000000  5048.720000   \n",
       "std      0.283981       1419.904586          14.199046  2393.276529   \n",
       "min      0.800000       1000.000000          10.000000  1560.000000   \n",
       "25%      1.000000       2000.000000          20.000000  3310.000000   \n",
       "50%      1.200000       3000.000000          30.000000  4970.000000   \n",
       "75%      1.400000       4000.000000          40.000000  7000.000000   \n",
       "max      1.600000       5000.000000          50.000000  8490.000000   \n",
       "\n",
       "       Desalination(%)  \n",
       "count       125.000000  \n",
       "mean          0.158772  \n",
       "std           0.022901  \n",
       "min           0.095000  \n",
       "25%           0.145000  \n",
       "50%           0.161250  \n",
       "75%           0.173333  \n",
       "max           0.220000  "
      ]
     },
     "execution_count": 7,
     "metadata": {},
     "output_type": "execute_result"
    }
   ],
   "source": [
    "df.describe()"
   ]
  },
  {
   "cell_type": "code",
   "execution_count": 8,
   "id": "a2b1c14f",
   "metadata": {
    "execution": {
     "iopub.execute_input": "2022-07-03T13:39:12.736412Z",
     "iopub.status.busy": "2022-07-03T13:39:12.736013Z",
     "iopub.status.idle": "2022-07-03T13:39:12.756328Z",
     "shell.execute_reply": "2022-07-03T13:39:12.755139Z"
    },
    "papermill": {
     "duration": 0.036398,
     "end_time": "2022-07-03T13:39:12.758899",
     "exception": false,
     "start_time": "2022-07-03T13:39:12.722501",
     "status": "completed"
    },
    "tags": []
   },
   "outputs": [
    {
     "data": {
      "text/plain": [
       "array([[0.        , 0.        , 0.        , 0.01443001, 0.6       ],\n",
       "       [0.        , 0.        , 0.25      , 0.01875902, 0.48      ],\n",
       "       [0.        , 0.        , 0.5       , 0.02453102, 0.32      ],\n",
       "       [0.        , 0.        , 0.75      , 0.03174603, 0.12      ],\n",
       "       [0.        , 0.        , 1.        , 0.03607504, 0.        ],\n",
       "       [0.        , 0.25      , 0.        , 0.25541126, 0.58      ],\n",
       "       [0.        , 0.25      , 0.25      , 0.25974026, 0.52      ],\n",
       "       [0.        , 0.25      , 0.5       , 0.26406926, 0.46      ],\n",
       "       [0.        , 0.25      , 0.75      , 0.26984127, 0.38      ],\n",
       "       [0.        , 0.25      , 1.        , 0.27417027, 0.32      ],\n",
       "       [0.        , 0.5       , 0.        , 0.48917749, 0.64      ],\n",
       "       [0.        , 0.5       , 0.25      , 0.49494949, 0.58666667],\n",
       "       [0.        , 0.5       , 0.5       , 0.50505051, 0.49333333],\n",
       "       [0.        , 0.5       , 0.75      , 0.51226551, 0.42666667],\n",
       "       [0.        , 0.5       , 1.        , 0.52813853, 0.28      ],\n",
       "       [0.        , 0.75      , 0.        , 0.76334776, 0.39      ],\n",
       "       [0.        , 0.75      , 0.25      , 0.77344877, 0.32      ],\n",
       "       [0.        , 0.75      , 0.5       , 0.78354978, 0.25      ],\n",
       "       [0.        , 0.75      , 0.75      , 0.79365079, 0.18      ],\n",
       "       [0.        , 0.75      , 1.        , 0.8023088 , 0.12      ],\n",
       "       [0.        , 1.        , 0.        , 0.97258297, 0.6       ],\n",
       "       [0.        , 1.        , 0.25      , 0.97835498, 0.568     ],\n",
       "       [0.        , 1.        , 0.5       , 0.98412698, 0.536     ],\n",
       "       [0.        , 1.        , 0.75      , 0.99134199, 0.496     ],\n",
       "       [0.        , 1.        , 1.        , 1.        , 0.448     ],\n",
       "       [0.25      , 0.        , 0.        , 0.01298701, 0.64      ],\n",
       "       [0.25      , 0.        , 0.25      , 0.01587302, 0.56      ],\n",
       "       [0.25      , 0.        , 0.5       , 0.02164502, 0.4       ],\n",
       "       [0.25      , 0.        , 0.75      , 0.02453102, 0.32      ],\n",
       "       [0.25      , 0.        , 1.        , 0.03463203, 0.04      ],\n",
       "       [0.25      , 0.25      , 0.        , 0.25396825, 0.6       ],\n",
       "       [0.25      , 0.25      , 0.25      , 0.25685426, 0.56      ],\n",
       "       [0.25      , 0.25      , 0.5       , 0.25974026, 0.52      ],\n",
       "       [0.25      , 0.25      , 0.75      , 0.26551227, 0.44      ],\n",
       "       [0.25      , 0.25      , 1.        , 0.26984127, 0.38      ],\n",
       "       [0.25      , 0.5       , 0.        , 0.48484848, 0.68      ],\n",
       "       [0.25      , 0.5       , 0.25      , 0.49062049, 0.62666667],\n",
       "       [0.25      , 0.5       , 0.5       , 0.4978355 , 0.56      ],\n",
       "       [0.25      , 0.5       , 0.75      , 0.50505051, 0.49333333],\n",
       "       [0.25      , 0.5       , 1.        , 0.51082251, 0.44      ],\n",
       "       [0.25      , 0.75      , 0.        , 0.75613276, 0.44      ],\n",
       "       [0.25      , 0.75      , 0.25      , 0.77056277, 0.34      ],\n",
       "       [0.25      , 0.75      , 0.5       , 0.78066378, 0.27      ],\n",
       "       [0.25      , 0.75      , 0.75      , 0.79076479, 0.2       ],\n",
       "       [0.25      , 0.75      , 1.        , 0.7994228 , 0.14      ],\n",
       "       [0.25      , 1.        , 0.        , 0.96681097, 0.632     ],\n",
       "       [0.25      , 1.        , 0.25      , 0.97113997, 0.608     ],\n",
       "       [0.25      , 1.        , 0.5       , 0.97979798, 0.56      ],\n",
       "       [0.25      , 1.        , 0.75      , 0.98556999, 0.528     ],\n",
       "       [0.25      , 1.        , 1.        , 0.99278499, 0.488     ],\n",
       "       [0.5       , 0.        , 0.        , 0.01010101, 0.72      ],\n",
       "       [0.5       , 0.        , 0.25      , 0.01443001, 0.6       ],\n",
       "       [0.5       , 0.        , 0.5       , 0.01875902, 0.48      ],\n",
       "       [0.5       , 0.        , 0.75      , 0.02308802, 0.36      ],\n",
       "       [0.5       , 0.        , 1.        , 0.03174603, 0.12      ],\n",
       "       [0.5       , 0.25      , 0.        , 0.24675325, 0.7       ],\n",
       "       [0.5       , 0.25      , 0.25      , 0.25108225, 0.64      ],\n",
       "       [0.5       , 0.25      , 0.5       , 0.25829726, 0.54      ],\n",
       "       [0.5       , 0.25      , 0.75      , 0.26406926, 0.46      ],\n",
       "       [0.5       , 0.25      , 1.        , 0.27128427, 0.36      ],\n",
       "       [0.5       , 0.5       , 0.        , 0.48051948, 0.72      ],\n",
       "       [0.5       , 0.5       , 0.25      , 0.48629149, 0.66666667],\n",
       "       [0.5       , 0.5       , 0.5       , 0.49062049, 0.62666667],\n",
       "       [0.5       , 0.5       , 0.75      , 0.4992785 , 0.54666667],\n",
       "       [0.5       , 0.5       , 1.        , 0.50793651, 0.46666667],\n",
       "       [0.5       , 0.75      , 0.        , 0.75036075, 0.48      ],\n",
       "       [0.5       , 0.75      , 0.25      , 0.76190476, 0.4       ],\n",
       "       [0.5       , 0.75      , 0.5       , 0.77200577, 0.33      ],\n",
       "       [0.5       , 0.75      , 0.75      , 0.78066378, 0.27      ],\n",
       "       [0.5       , 0.75      , 1.        , 0.7950938 , 0.17      ],\n",
       "       [0.5       , 1.        , 0.        , 0.95959596, 0.672     ],\n",
       "       [0.5       , 1.        , 0.25      , 0.96681097, 0.632     ],\n",
       "       [0.5       , 1.        , 0.5       , 0.97691198, 0.576     ],\n",
       "       [0.5       , 1.        , 0.75      , 0.98268398, 0.544     ],\n",
       "       [0.5       , 1.        , 1.        , 0.98989899, 0.504     ],\n",
       "       [0.75      , 0.        , 0.        , 0.004329  , 0.88      ],\n",
       "       [0.75      , 0.        , 0.25      , 0.01010101, 0.72      ],\n",
       "       [0.75      , 0.        , 0.5       , 0.01443001, 0.6       ],\n",
       "       [0.75      , 0.        , 0.75      , 0.01731602, 0.52      ],\n",
       "       [0.75      , 0.        , 1.        , 0.02741703, 0.24      ],\n",
       "       [0.75      , 0.25      , 0.        , 0.24531025, 0.72      ],\n",
       "       [0.75      , 0.25      , 0.25      , 0.25252525, 0.62      ],\n",
       "       [0.75      , 0.25      , 0.5       , 0.25685426, 0.56      ],\n",
       "       [0.75      , 0.25      , 0.75      , 0.26118326, 0.5       ],\n",
       "       [0.75      , 0.25      , 1.        , 0.26695527, 0.42      ],\n",
       "       [0.75      , 0.5       , 0.        , 0.47186147, 0.8       ],\n",
       "       [0.75      , 0.5       , 0.25      , 0.48051948, 0.72      ],\n",
       "       [0.75      , 0.5       , 0.5       , 0.48917749, 0.64      ],\n",
       "       [0.75      , 0.5       , 0.75      , 0.4963925 , 0.57333333],\n",
       "       [0.75      , 0.5       , 1.        , 0.5036075 , 0.50666667],\n",
       "       [0.75      , 0.75      , 0.        , 0.74314574, 0.53      ],\n",
       "       [0.75      , 0.75      , 0.25      , 0.75468975, 0.45      ],\n",
       "       [0.75      , 0.75      , 0.5       , 0.76767677, 0.36      ],\n",
       "       [0.75      , 0.75      , 0.75      , 0.77777778, 0.29      ],\n",
       "       [0.75      , 0.75      , 1.        , 0.78932179, 0.21      ],\n",
       "       [0.75      , 1.        , 0.        , 0.95526696, 0.696     ],\n",
       "       [0.75      , 1.        , 0.25      , 0.96248196, 0.656     ],\n",
       "       [0.75      , 1.        , 0.5       , 0.97258297, 0.6       ],\n",
       "       [0.75      , 1.        , 0.75      , 0.97979798, 0.56      ],\n",
       "       [0.75      , 1.        , 1.        , 0.98845599, 0.512     ],\n",
       "       [1.        , 0.        , 0.        , 0.        , 1.        ],\n",
       "       [1.        , 0.        , 0.25      , 0.00865801, 0.76      ],\n",
       "       [1.        , 0.        , 0.5       , 0.01010101, 0.72      ],\n",
       "       [1.        , 0.        , 0.75      , 0.01443001, 0.6       ],\n",
       "       [1.        , 0.        , 1.        , 0.02164502, 0.4       ],\n",
       "       [1.        , 0.25      , 0.        , 0.23809524, 0.82      ],\n",
       "       [1.        , 0.25      , 0.25      , 0.24242424, 0.76      ],\n",
       "       [1.        , 0.25      , 0.5       , 0.24675325, 0.7       ],\n",
       "       [1.        , 0.25      , 0.75      , 0.25252525, 0.62      ],\n",
       "       [1.        , 0.25      , 1.        , 0.25974026, 0.52      ],\n",
       "       [1.        , 0.5       , 0.        , 0.46176046, 0.89333333],\n",
       "       [1.        , 0.5       , 0.25      , 0.47186147, 0.8       ],\n",
       "       [1.        , 0.5       , 0.5       , 0.48196248, 0.70666667],\n",
       "       [1.        , 0.5       , 0.75      , 0.49206349, 0.61333333],\n",
       "       [1.        , 0.5       , 1.        , 0.5007215 , 0.53333333],\n",
       "       [1.        , 0.75      , 0.        , 0.73448773, 0.59      ],\n",
       "       [1.        , 0.75      , 0.25      , 0.74603175, 0.51      ],\n",
       "       [1.        , 0.75      , 0.5       , 0.75901876, 0.42      ],\n",
       "       [1.        , 0.75      , 0.75      , 0.77056277, 0.34      ],\n",
       "       [1.        , 0.75      , 1.        , 0.78499278, 0.24      ],\n",
       "       [1.        , 1.        , 0.        , 0.94949495, 0.728     ],\n",
       "       [1.        , 1.        , 0.25      , 0.95526696, 0.696     ],\n",
       "       [1.        , 1.        , 0.5       , 0.96536797, 0.64      ],\n",
       "       [1.        , 1.        , 0.75      , 0.97546898, 0.584     ],\n",
       "       [1.        , 1.        , 1.        , 0.98556999, 0.528     ]])"
      ]
     },
     "execution_count": 8,
     "metadata": {},
     "output_type": "execute_result"
    }
   ],
   "source": [
    "scaler=MinMaxScaler()\n",
    "df2=scaler.fit_transform(df)\n",
    "df2"
   ]
  },
  {
   "cell_type": "code",
   "execution_count": 9,
   "id": "abe29f46",
   "metadata": {
    "execution": {
     "iopub.execute_input": "2022-07-03T13:39:12.786153Z",
     "iopub.status.busy": "2022-07-03T13:39:12.784713Z",
     "iopub.status.idle": "2022-07-03T13:39:12.791983Z",
     "shell.execute_reply": "2022-07-03T13:39:12.790465Z"
    },
    "papermill": {
     "duration": 0.024819,
     "end_time": "2022-07-03T13:39:12.795911",
     "exception": false,
     "start_time": "2022-07-03T13:39:12.771092",
     "status": "completed"
    },
    "tags": []
   },
   "outputs": [
    {
     "name": "stdout",
     "output_type": "stream",
     "text": [
      "<class 'numpy.ndarray'>\n"
     ]
    }
   ],
   "source": [
    "print(type(df2))"
   ]
  },
  {
   "cell_type": "code",
   "execution_count": 10,
   "id": "bed919ec",
   "metadata": {
    "execution": {
     "iopub.execute_input": "2022-07-03T13:39:12.825409Z",
     "iopub.status.busy": "2022-07-03T13:39:12.823615Z",
     "iopub.status.idle": "2022-07-03T13:39:12.842645Z",
     "shell.execute_reply": "2022-07-03T13:39:12.841607Z"
    },
    "papermill": {
     "duration": 0.036156,
     "end_time": "2022-07-03T13:39:12.845144",
     "exception": false,
     "start_time": "2022-07-03T13:39:12.808988",
     "status": "completed"
    },
    "tags": []
   },
   "outputs": [
    {
     "data": {
      "text/plain": [
       "array([[0.  , 0.  , 0.  ],\n",
       "       [0.  , 0.  , 0.25],\n",
       "       [0.  , 0.  , 0.5 ],\n",
       "       [0.  , 0.  , 0.75],\n",
       "       [0.  , 0.  , 1.  ],\n",
       "       [0.  , 0.25, 0.  ],\n",
       "       [0.  , 0.25, 0.25],\n",
       "       [0.  , 0.25, 0.5 ],\n",
       "       [0.  , 0.25, 0.75],\n",
       "       [0.  , 0.25, 1.  ],\n",
       "       [0.  , 0.5 , 0.  ],\n",
       "       [0.  , 0.5 , 0.25],\n",
       "       [0.  , 0.5 , 0.5 ],\n",
       "       [0.  , 0.5 , 0.75],\n",
       "       [0.  , 0.5 , 1.  ],\n",
       "       [0.  , 0.75, 0.  ],\n",
       "       [0.  , 0.75, 0.25],\n",
       "       [0.  , 0.75, 0.5 ],\n",
       "       [0.  , 0.75, 0.75],\n",
       "       [0.  , 0.75, 1.  ],\n",
       "       [0.  , 1.  , 0.  ],\n",
       "       [0.  , 1.  , 0.25],\n",
       "       [0.  , 1.  , 0.5 ],\n",
       "       [0.  , 1.  , 0.75],\n",
       "       [0.  , 1.  , 1.  ],\n",
       "       [0.25, 0.  , 0.  ],\n",
       "       [0.25, 0.  , 0.25],\n",
       "       [0.25, 0.  , 0.5 ],\n",
       "       [0.25, 0.  , 0.75],\n",
       "       [0.25, 0.  , 1.  ],\n",
       "       [0.25, 0.25, 0.  ],\n",
       "       [0.25, 0.25, 0.25],\n",
       "       [0.25, 0.25, 0.5 ],\n",
       "       [0.25, 0.25, 0.75],\n",
       "       [0.25, 0.25, 1.  ],\n",
       "       [0.25, 0.5 , 0.  ],\n",
       "       [0.25, 0.5 , 0.25],\n",
       "       [0.25, 0.5 , 0.5 ],\n",
       "       [0.25, 0.5 , 0.75],\n",
       "       [0.25, 0.5 , 1.  ],\n",
       "       [0.25, 0.75, 0.  ],\n",
       "       [0.25, 0.75, 0.25],\n",
       "       [0.25, 0.75, 0.5 ],\n",
       "       [0.25, 0.75, 0.75],\n",
       "       [0.25, 0.75, 1.  ],\n",
       "       [0.25, 1.  , 0.  ],\n",
       "       [0.25, 1.  , 0.25],\n",
       "       [0.25, 1.  , 0.5 ],\n",
       "       [0.25, 1.  , 0.75],\n",
       "       [0.25, 1.  , 1.  ],\n",
       "       [0.5 , 0.  , 0.  ],\n",
       "       [0.5 , 0.  , 0.25],\n",
       "       [0.5 , 0.  , 0.5 ],\n",
       "       [0.5 , 0.  , 0.75],\n",
       "       [0.5 , 0.  , 1.  ],\n",
       "       [0.5 , 0.25, 0.  ],\n",
       "       [0.5 , 0.25, 0.25],\n",
       "       [0.5 , 0.25, 0.5 ],\n",
       "       [0.5 , 0.25, 0.75],\n",
       "       [0.5 , 0.25, 1.  ],\n",
       "       [0.5 , 0.5 , 0.  ],\n",
       "       [0.5 , 0.5 , 0.25],\n",
       "       [0.5 , 0.5 , 0.5 ],\n",
       "       [0.5 , 0.5 , 0.75],\n",
       "       [0.5 , 0.5 , 1.  ],\n",
       "       [0.5 , 0.75, 0.  ],\n",
       "       [0.5 , 0.75, 0.25],\n",
       "       [0.5 , 0.75, 0.5 ],\n",
       "       [0.5 , 0.75, 0.75],\n",
       "       [0.5 , 0.75, 1.  ],\n",
       "       [0.5 , 1.  , 0.  ],\n",
       "       [0.5 , 1.  , 0.25],\n",
       "       [0.5 , 1.  , 0.5 ],\n",
       "       [0.5 , 1.  , 0.75],\n",
       "       [0.5 , 1.  , 1.  ],\n",
       "       [0.75, 0.  , 0.  ],\n",
       "       [0.75, 0.  , 0.25],\n",
       "       [0.75, 0.  , 0.5 ],\n",
       "       [0.75, 0.  , 0.75],\n",
       "       [0.75, 0.  , 1.  ],\n",
       "       [0.75, 0.25, 0.  ],\n",
       "       [0.75, 0.25, 0.25],\n",
       "       [0.75, 0.25, 0.5 ],\n",
       "       [0.75, 0.25, 0.75],\n",
       "       [0.75, 0.25, 1.  ],\n",
       "       [0.75, 0.5 , 0.  ],\n",
       "       [0.75, 0.5 , 0.25],\n",
       "       [0.75, 0.5 , 0.5 ],\n",
       "       [0.75, 0.5 , 0.75],\n",
       "       [0.75, 0.5 , 1.  ],\n",
       "       [0.75, 0.75, 0.  ],\n",
       "       [0.75, 0.75, 0.25],\n",
       "       [0.75, 0.75, 0.5 ],\n",
       "       [0.75, 0.75, 0.75],\n",
       "       [0.75, 0.75, 1.  ],\n",
       "       [0.75, 1.  , 0.  ],\n",
       "       [0.75, 1.  , 0.25],\n",
       "       [0.75, 1.  , 0.5 ],\n",
       "       [0.75, 1.  , 0.75],\n",
       "       [0.75, 1.  , 1.  ],\n",
       "       [1.  , 0.  , 0.  ],\n",
       "       [1.  , 0.  , 0.25],\n",
       "       [1.  , 0.  , 0.5 ],\n",
       "       [1.  , 0.  , 0.75],\n",
       "       [1.  , 0.  , 1.  ],\n",
       "       [1.  , 0.25, 0.  ],\n",
       "       [1.  , 0.25, 0.25],\n",
       "       [1.  , 0.25, 0.5 ],\n",
       "       [1.  , 0.25, 0.75],\n",
       "       [1.  , 0.25, 1.  ],\n",
       "       [1.  , 0.5 , 0.  ],\n",
       "       [1.  , 0.5 , 0.25],\n",
       "       [1.  , 0.5 , 0.5 ],\n",
       "       [1.  , 0.5 , 0.75],\n",
       "       [1.  , 0.5 , 1.  ],\n",
       "       [1.  , 0.75, 0.  ],\n",
       "       [1.  , 0.75, 0.25],\n",
       "       [1.  , 0.75, 0.5 ],\n",
       "       [1.  , 0.75, 0.75],\n",
       "       [1.  , 0.75, 1.  ],\n",
       "       [1.  , 1.  , 0.  ],\n",
       "       [1.  , 1.  , 0.25],\n",
       "       [1.  , 1.  , 0.5 ],\n",
       "       [1.  , 1.  , 0.75],\n",
       "       [1.  , 1.  , 1.  ]])"
      ]
     },
     "metadata": {},
     "output_type": "display_data"
    },
    {
     "data": {
      "text/plain": [
       "array([0.6       , 0.48      , 0.32      , 0.12      , 0.        ,\n",
       "       0.58      , 0.52      , 0.46      , 0.38      , 0.32      ,\n",
       "       0.64      , 0.58666667, 0.49333333, 0.42666667, 0.28      ,\n",
       "       0.39      , 0.32      , 0.25      , 0.18      , 0.12      ,\n",
       "       0.6       , 0.568     , 0.536     , 0.496     , 0.448     ,\n",
       "       0.64      , 0.56      , 0.4       , 0.32      , 0.04      ,\n",
       "       0.6       , 0.56      , 0.52      , 0.44      , 0.38      ,\n",
       "       0.68      , 0.62666667, 0.56      , 0.49333333, 0.44      ,\n",
       "       0.44      , 0.34      , 0.27      , 0.2       , 0.14      ,\n",
       "       0.632     , 0.608     , 0.56      , 0.528     , 0.488     ,\n",
       "       0.72      , 0.6       , 0.48      , 0.36      , 0.12      ,\n",
       "       0.7       , 0.64      , 0.54      , 0.46      , 0.36      ,\n",
       "       0.72      , 0.66666667, 0.62666667, 0.54666667, 0.46666667,\n",
       "       0.48      , 0.4       , 0.33      , 0.27      , 0.17      ,\n",
       "       0.672     , 0.632     , 0.576     , 0.544     , 0.504     ,\n",
       "       0.88      , 0.72      , 0.6       , 0.52      , 0.24      ,\n",
       "       0.72      , 0.62      , 0.56      , 0.5       , 0.42      ,\n",
       "       0.8       , 0.72      , 0.64      , 0.57333333, 0.50666667,\n",
       "       0.53      , 0.45      , 0.36      , 0.29      , 0.21      ,\n",
       "       0.696     , 0.656     , 0.6       , 0.56      , 0.512     ,\n",
       "       1.        , 0.76      , 0.72      , 0.6       , 0.4       ,\n",
       "       0.82      , 0.76      , 0.7       , 0.62      , 0.52      ,\n",
       "       0.89333333, 0.8       , 0.70666667, 0.61333333, 0.53333333,\n",
       "       0.59      , 0.51      , 0.42      , 0.34      , 0.24      ,\n",
       "       0.728     , 0.696     , 0.64      , 0.584     , 0.528     ])"
      ]
     },
     "metadata": {},
     "output_type": "display_data"
    }
   ],
   "source": [
    "X=df2[:,0:3]\n",
    "Y=df2[:,-1]\n",
    "\n",
    "display(X)\n",
    "display(Y)"
   ]
  },
  {
   "cell_type": "code",
   "execution_count": 11,
   "id": "4eb4f379",
   "metadata": {
    "execution": {
     "iopub.execute_input": "2022-07-03T13:39:12.874420Z",
     "iopub.status.busy": "2022-07-03T13:39:12.872513Z",
     "iopub.status.idle": "2022-07-03T13:39:12.880671Z",
     "shell.execute_reply": "2022-07-03T13:39:12.879170Z"
    },
    "papermill": {
     "duration": 0.025577,
     "end_time": "2022-07-03T13:39:12.883693",
     "exception": false,
     "start_time": "2022-07-03T13:39:12.858116",
     "status": "completed"
    },
    "tags": []
   },
   "outputs": [
    {
     "name": "stdout",
     "output_type": "stream",
     "text": [
      "(125,)\n",
      "(125, 3)\n"
     ]
    }
   ],
   "source": [
    "print(Y.shape)\n",
    "print(X.shape)"
   ]
  },
  {
   "cell_type": "code",
   "execution_count": 12,
   "id": "5840af3c",
   "metadata": {
    "execution": {
     "iopub.execute_input": "2022-07-03T13:39:12.911348Z",
     "iopub.status.busy": "2022-07-03T13:39:12.910600Z",
     "iopub.status.idle": "2022-07-03T13:39:12.916532Z",
     "shell.execute_reply": "2022-07-03T13:39:12.915794Z"
    },
    "papermill": {
     "duration": 0.021703,
     "end_time": "2022-07-03T13:39:12.918511",
     "exception": false,
     "start_time": "2022-07-03T13:39:12.896808",
     "status": "completed"
    },
    "tags": []
   },
   "outputs": [],
   "source": [
    "param = fis_parameters(\n",
    "            n_input = 3,                # no. of Regressors\n",
    "            n_memb = 3,                 # no. of fuzzy memberships\n",
    "            batch_size = 1,            # 16 / 32 / 64 / ...\n",
    "            memb_func = 'gaussian',      # 'gaussian' / 'gbellmf' / 'sigmoid'\n",
    "            optimizer = 'adam',          # sgd / adam / ...\n",
    "            #loss = tf.keras.losses.MeanAbsolutePercentageError(), \n",
    "            loss = 'huber_loss',               # mse / mae / huber_loss / mean_absolute_percentage_error / ...\n",
    "            n_epochs = 50               # 10 / 25 / 50 / 100 / ...\n",
    "            )"
   ]
  },
  {
   "cell_type": "code",
   "execution_count": 13,
   "id": "4f76d89c",
   "metadata": {
    "execution": {
     "iopub.execute_input": "2022-07-03T13:39:12.946021Z",
     "iopub.status.busy": "2022-07-03T13:39:12.945337Z",
     "iopub.status.idle": "2022-07-03T13:39:12.952522Z",
     "shell.execute_reply": "2022-07-03T13:39:12.951436Z"
    },
    "papermill": {
     "duration": 0.023549,
     "end_time": "2022-07-03T13:39:12.954968",
     "exception": false,
     "start_time": "2022-07-03T13:39:12.931419",
     "status": "completed"
    },
    "tags": []
   },
   "outputs": [],
   "source": [
    "# kfold=KFold(n_splits=2)\n",
    "histories=[]\n",
    "from sklearn.model_selection import train_test_split\n",
    "\n",
    "X_train, X_test, y_train, y_test = train_test_split(X, Y, test_size=0.33, random_state=42)"
   ]
  },
  {
   "cell_type": "code",
   "execution_count": 14,
   "id": "6ce73102",
   "metadata": {
    "execution": {
     "iopub.execute_input": "2022-07-03T13:39:12.982616Z",
     "iopub.status.busy": "2022-07-03T13:39:12.982222Z",
     "iopub.status.idle": "2022-07-03T13:39:14.034349Z",
     "shell.execute_reply": "2022-07-03T13:39:14.033188Z"
    },
    "papermill": {
     "duration": 1.069093,
     "end_time": "2022-07-03T13:39:14.037073",
     "exception": false,
     "start_time": "2022-07-03T13:39:12.967980",
     "status": "completed"
    },
    "tags": []
   },
   "outputs": [],
   "source": [
    "fis = ANFIS(n_input = param.n_input,\n",
    "                        n_memb = param.n_memb,\n",
    "                        batch_size = param.batch_size,\n",
    "                        memb_func = param.memb_func,\n",
    "                        name = 'myanfis'\n",
    "                        )"
   ]
  },
  {
   "cell_type": "code",
   "execution_count": 15,
   "id": "39e4e508",
   "metadata": {
    "execution": {
     "iopub.execute_input": "2022-07-03T13:39:14.065055Z",
     "iopub.status.busy": "2022-07-03T13:39:14.064630Z",
     "iopub.status.idle": "2022-07-03T13:39:14.081596Z",
     "shell.execute_reply": "2022-07-03T13:39:14.080368Z"
    },
    "papermill": {
     "duration": 0.033864,
     "end_time": "2022-07-03T13:39:14.084221",
     "exception": false,
     "start_time": "2022-07-03T13:39:14.050357",
     "status": "completed"
    },
    "tags": []
   },
   "outputs": [],
   "source": [
    "    # compile model\n",
    "fis.model.compile(optimizer=param.optimizer,\n",
    "                      loss=param.loss\n",
    "                      ,metrics=['mae', 'mse']  # ['mae', 'mse']\n",
    "                      )"
   ]
  },
  {
   "cell_type": "code",
   "execution_count": 16,
   "id": "6df235d9",
   "metadata": {
    "execution": {
     "iopub.execute_input": "2022-07-03T13:39:14.111505Z",
     "iopub.status.busy": "2022-07-03T13:39:14.111071Z",
     "iopub.status.idle": "2022-07-03T13:39:23.922199Z",
     "shell.execute_reply": "2022-07-03T13:39:23.921206Z"
    },
    "papermill": {
     "duration": 9.827822,
     "end_time": "2022-07-03T13:39:23.924734",
     "exception": false,
     "start_time": "2022-07-03T13:39:14.096912",
     "status": "completed"
    },
    "tags": []
   },
   "outputs": [
    {
     "name": "stdout",
     "output_type": "stream",
     "text": [
      "Epoch 1/50\n",
      "83/83 [==============================] - 1s 5ms/step - loss: 0.5933 - mae: 1.0457 - mse: 1.2952 - val_loss: 0.4653 - val_mae: 0.8970 - val_mse: 0.9903\n",
      "Epoch 2/50\n",
      "83/83 [==============================] - 0s 2ms/step - loss: 0.3928 - mae: 0.8029 - mse: 0.8177 - val_loss: 0.2879 - val_mae: 0.6612 - val_mse: 0.5867\n",
      "Epoch 3/50\n",
      "83/83 [==============================] - 0s 2ms/step - loss: 0.2306 - mae: 0.5762 - mse: 0.4658 - val_loss: 0.1622 - val_mae: 0.4759 - val_mse: 0.3249\n",
      "Epoch 4/50\n",
      "83/83 [==============================] - 0s 2ms/step - loss: 0.1356 - mae: 0.4417 - mse: 0.2715 - val_loss: 0.0974 - val_mae: 0.3627 - val_mse: 0.1948\n",
      "Epoch 5/50\n",
      "83/83 [==============================] - 0s 2ms/step - loss: 0.0910 - mae: 0.3591 - mse: 0.1821 - val_loss: 0.0692 - val_mae: 0.3024 - val_mse: 0.1383\n",
      "Epoch 6/50\n",
      "83/83 [==============================] - 0s 2ms/step - loss: 0.0715 - mae: 0.3142 - mse: 0.1430 - val_loss: 0.0559 - val_mae: 0.2695 - val_mse: 0.1118\n",
      "Epoch 7/50\n",
      "83/83 [==============================] - 0s 2ms/step - loss: 0.0596 - mae: 0.2854 - mse: 0.1192 - val_loss: 0.0476 - val_mae: 0.2494 - val_mse: 0.0952\n",
      "Epoch 8/50\n",
      "83/83 [==============================] - 0s 2ms/step - loss: 0.0519 - mae: 0.2669 - mse: 0.1038 - val_loss: 0.0416 - val_mae: 0.2328 - val_mse: 0.0832\n",
      "Epoch 9/50\n",
      "83/83 [==============================] - 0s 2ms/step - loss: 0.0455 - mae: 0.2475 - mse: 0.0910 - val_loss: 0.0369 - val_mae: 0.2189 - val_mse: 0.0738\n",
      "Epoch 10/50\n",
      "83/83 [==============================] - 0s 2ms/step - loss: 0.0410 - mae: 0.2337 - mse: 0.0819 - val_loss: 0.0337 - val_mae: 0.2102 - val_mse: 0.0675\n",
      "Epoch 11/50\n",
      "83/83 [==============================] - 0s 2ms/step - loss: 0.0378 - mae: 0.2224 - mse: 0.0755 - val_loss: 0.0308 - val_mae: 0.2031 - val_mse: 0.0616\n",
      "Epoch 12/50\n",
      "83/83 [==============================] - 0s 2ms/step - loss: 0.0346 - mae: 0.2141 - mse: 0.0691 - val_loss: 0.0282 - val_mae: 0.1942 - val_mse: 0.0565\n",
      "Epoch 13/50\n",
      "83/83 [==============================] - 0s 2ms/step - loss: 0.0321 - mae: 0.2027 - mse: 0.0642 - val_loss: 0.0264 - val_mae: 0.1893 - val_mse: 0.0528\n",
      "Epoch 14/50\n",
      "83/83 [==============================] - 0s 2ms/step - loss: 0.0299 - mae: 0.1965 - mse: 0.0597 - val_loss: 0.0247 - val_mae: 0.1818 - val_mse: 0.0494\n",
      "Epoch 15/50\n",
      "83/83 [==============================] - 0s 2ms/step - loss: 0.0281 - mae: 0.1911 - mse: 0.0562 - val_loss: 0.0230 - val_mae: 0.1762 - val_mse: 0.0459\n",
      "Epoch 16/50\n",
      "83/83 [==============================] - 0s 2ms/step - loss: 0.0264 - mae: 0.1834 - mse: 0.0528 - val_loss: 0.0217 - val_mae: 0.1716 - val_mse: 0.0434\n",
      "Epoch 17/50\n",
      "83/83 [==============================] - 0s 2ms/step - loss: 0.0251 - mae: 0.1810 - mse: 0.0503 - val_loss: 0.0205 - val_mae: 0.1665 - val_mse: 0.0409\n",
      "Epoch 18/50\n",
      "83/83 [==============================] - 0s 2ms/step - loss: 0.0236 - mae: 0.1727 - mse: 0.0473 - val_loss: 0.0193 - val_mae: 0.1615 - val_mse: 0.0385\n",
      "Epoch 19/50\n",
      "83/83 [==============================] - 0s 2ms/step - loss: 0.0224 - mae: 0.1696 - mse: 0.0448 - val_loss: 0.0183 - val_mae: 0.1568 - val_mse: 0.0366\n",
      "Epoch 20/50\n",
      "83/83 [==============================] - 0s 2ms/step - loss: 0.0214 - mae: 0.1651 - mse: 0.0427 - val_loss: 0.0175 - val_mae: 0.1530 - val_mse: 0.0350\n",
      "Epoch 21/50\n",
      "83/83 [==============================] - 0s 2ms/step - loss: 0.0205 - mae: 0.1597 - mse: 0.0409 - val_loss: 0.0166 - val_mae: 0.1481 - val_mse: 0.0333\n",
      "Epoch 22/50\n",
      "83/83 [==============================] - 0s 2ms/step - loss: 0.0199 - mae: 0.1615 - mse: 0.0398 - val_loss: 0.0158 - val_mae: 0.1458 - val_mse: 0.0317\n",
      "Epoch 23/50\n",
      "83/83 [==============================] - 0s 2ms/step - loss: 0.0188 - mae: 0.1527 - mse: 0.0377 - val_loss: 0.0151 - val_mae: 0.1414 - val_mse: 0.0302\n",
      "Epoch 24/50\n",
      "83/83 [==============================] - 0s 2ms/step - loss: 0.0180 - mae: 0.1491 - mse: 0.0361 - val_loss: 0.0144 - val_mae: 0.1388 - val_mse: 0.0289\n",
      "Epoch 25/50\n",
      "83/83 [==============================] - 0s 2ms/step - loss: 0.0172 - mae: 0.1494 - mse: 0.0345 - val_loss: 0.0139 - val_mae: 0.1352 - val_mse: 0.0277\n",
      "Epoch 26/50\n",
      "83/83 [==============================] - 0s 2ms/step - loss: 0.0165 - mae: 0.1452 - mse: 0.0331 - val_loss: 0.0133 - val_mae: 0.1318 - val_mse: 0.0266\n",
      "Epoch 27/50\n",
      "83/83 [==============================] - 0s 2ms/step - loss: 0.0159 - mae: 0.1417 - mse: 0.0317 - val_loss: 0.0128 - val_mae: 0.1292 - val_mse: 0.0257\n",
      "Epoch 28/50\n",
      "83/83 [==============================] - 0s 2ms/step - loss: 0.0156 - mae: 0.1400 - mse: 0.0312 - val_loss: 0.0123 - val_mae: 0.1257 - val_mse: 0.0247\n",
      "Epoch 29/50\n",
      "83/83 [==============================] - 0s 2ms/step - loss: 0.0149 - mae: 0.1395 - mse: 0.0299 - val_loss: 0.0119 - val_mae: 0.1247 - val_mse: 0.0237\n",
      "Epoch 30/50\n",
      "83/83 [==============================] - 0s 2ms/step - loss: 0.0142 - mae: 0.1361 - mse: 0.0284 - val_loss: 0.0115 - val_mae: 0.1221 - val_mse: 0.0229\n",
      "Epoch 31/50\n",
      "83/83 [==============================] - 0s 2ms/step - loss: 0.0137 - mae: 0.1305 - mse: 0.0274 - val_loss: 0.0111 - val_mae: 0.1211 - val_mse: 0.0222\n",
      "Epoch 32/50\n",
      "83/83 [==============================] - 0s 2ms/step - loss: 0.0133 - mae: 0.1324 - mse: 0.0266 - val_loss: 0.0107 - val_mae: 0.1188 - val_mse: 0.0214\n",
      "Epoch 33/50\n",
      "83/83 [==============================] - 0s 2ms/step - loss: 0.0129 - mae: 0.1301 - mse: 0.0259 - val_loss: 0.0104 - val_mae: 0.1164 - val_mse: 0.0209\n",
      "Epoch 34/50\n",
      "83/83 [==============================] - 0s 2ms/step - loss: 0.0124 - mae: 0.1278 - mse: 0.0249 - val_loss: 0.0103 - val_mae: 0.1149 - val_mse: 0.0206\n",
      "Epoch 35/50\n",
      "83/83 [==============================] - 0s 2ms/step - loss: 0.0121 - mae: 0.1239 - mse: 0.0243 - val_loss: 0.0098 - val_mae: 0.1139 - val_mse: 0.0195\n",
      "Epoch 36/50\n",
      "83/83 [==============================] - 0s 2ms/step - loss: 0.0117 - mae: 0.1232 - mse: 0.0234 - val_loss: 0.0094 - val_mae: 0.1128 - val_mse: 0.0188\n",
      "Epoch 37/50\n",
      "83/83 [==============================] - 0s 2ms/step - loss: 0.0115 - mae: 0.1232 - mse: 0.0230 - val_loss: 0.0091 - val_mae: 0.1119 - val_mse: 0.0182\n",
      "Epoch 38/50\n",
      "83/83 [==============================] - 0s 2ms/step - loss: 0.0111 - mae: 0.1211 - mse: 0.0222 - val_loss: 0.0092 - val_mae: 0.1091 - val_mse: 0.0184\n",
      "Epoch 39/50\n",
      "83/83 [==============================] - 0s 2ms/step - loss: 0.0108 - mae: 0.1169 - mse: 0.0215 - val_loss: 0.0088 - val_mae: 0.1089 - val_mse: 0.0175\n",
      "Epoch 40/50\n",
      "83/83 [==============================] - 0s 2ms/step - loss: 0.0105 - mae: 0.1183 - mse: 0.0211 - val_loss: 0.0086 - val_mae: 0.1077 - val_mse: 0.0171\n",
      "Epoch 41/50\n",
      "83/83 [==============================] - 0s 2ms/step - loss: 0.0104 - mae: 0.1161 - mse: 0.0208 - val_loss: 0.0086 - val_mae: 0.1056 - val_mse: 0.0171\n",
      "Epoch 42/50\n",
      "83/83 [==============================] - 0s 2ms/step - loss: 0.0100 - mae: 0.1161 - mse: 0.0200 - val_loss: 0.0083 - val_mae: 0.1048 - val_mse: 0.0166\n",
      "Epoch 43/50\n",
      "83/83 [==============================] - 0s 2ms/step - loss: 0.0099 - mae: 0.1121 - mse: 0.0198 - val_loss: 0.0080 - val_mae: 0.1042 - val_mse: 0.0161\n",
      "Epoch 44/50\n",
      "83/83 [==============================] - 0s 2ms/step - loss: 0.0096 - mae: 0.1122 - mse: 0.0192 - val_loss: 0.0080 - val_mae: 0.1028 - val_mse: 0.0160\n",
      "Epoch 45/50\n",
      "83/83 [==============================] - 0s 2ms/step - loss: 0.0093 - mae: 0.1141 - mse: 0.0187 - val_loss: 0.0080 - val_mae: 0.1016 - val_mse: 0.0160\n",
      "Epoch 46/50\n",
      "83/83 [==============================] - 0s 2ms/step - loss: 0.0093 - mae: 0.1086 - mse: 0.0186 - val_loss: 0.0075 - val_mae: 0.1017 - val_mse: 0.0151\n",
      "Epoch 47/50\n",
      "83/83 [==============================] - 0s 2ms/step - loss: 0.0090 - mae: 0.1093 - mse: 0.0180 - val_loss: 0.0076 - val_mae: 0.0999 - val_mse: 0.0152\n",
      "Epoch 48/50\n",
      "83/83 [==============================] - 0s 2ms/step - loss: 0.0088 - mae: 0.1073 - mse: 0.0175 - val_loss: 0.0074 - val_mae: 0.0997 - val_mse: 0.0148\n",
      "Epoch 49/50\n",
      "83/83 [==============================] - 0s 2ms/step - loss: 0.0085 - mae: 0.1077 - mse: 0.0171 - val_loss: 0.0075 - val_mae: 0.0983 - val_mse: 0.0149\n",
      "Epoch 50/50\n",
      "83/83 [==============================] - 0s 2ms/step - loss: 0.0086 - mae: 0.1065 - mse: 0.0171 - val_loss: 0.0073 - val_mae: 0.0977 - val_mse: 0.0147\n"
     ]
    }
   ],
   "source": [
    "# fit model\n",
    "history = fis.fit(X_train, y_train,\n",
    "                      epochs=param.n_epochs,\n",
    "                      batch_size=param.batch_size,\n",
    "                      validation_data = (X_test, y_test),\n",
    "                       #callbacks = [tensorboard_callback]  # for tensorboard\n",
    "                      )\n",
    "histories.append(history)"
   ]
  },
  {
   "cell_type": "code",
   "execution_count": 17,
   "id": "234b73a7",
   "metadata": {
    "execution": {
     "iopub.execute_input": "2022-07-03T13:39:23.974127Z",
     "iopub.status.busy": "2022-07-03T13:39:23.973642Z",
     "iopub.status.idle": "2022-07-03T13:39:23.978409Z",
     "shell.execute_reply": "2022-07-03T13:39:23.977657Z"
    },
    "papermill": {
     "duration": 0.032216,
     "end_time": "2022-07-03T13:39:23.980712",
     "exception": false,
     "start_time": "2022-07-03T13:39:23.948496",
     "status": "completed"
    },
    "tags": []
   },
   "outputs": [
    {
     "name": "stdout",
     "output_type": "stream",
     "text": [
      "{'verbose': 1, 'epochs': 50, 'steps': 83}\n"
     ]
    }
   ],
   "source": [
    "print(history.params)\n"
   ]
  },
  {
   "cell_type": "code",
   "execution_count": 18,
   "id": "f3435f8f",
   "metadata": {
    "execution": {
     "iopub.execute_input": "2022-07-03T13:39:24.030044Z",
     "iopub.status.busy": "2022-07-03T13:39:24.028919Z",
     "iopub.status.idle": "2022-07-03T13:39:24.034889Z",
     "shell.execute_reply": "2022-07-03T13:39:24.033488Z"
    },
    "papermill": {
     "duration": 0.032999,
     "end_time": "2022-07-03T13:39:24.037143",
     "exception": false,
     "start_time": "2022-07-03T13:39:24.004144",
     "status": "completed"
    },
    "tags": []
   },
   "outputs": [
    {
     "name": "stdout",
     "output_type": "stream",
     "text": [
      "dict_keys(['loss', 'mae', 'mse', 'val_loss', 'val_mae', 'val_mse'])\n"
     ]
    }
   ],
   "source": [
    "print(history.history.keys())"
   ]
  },
  {
   "cell_type": "code",
   "execution_count": 19,
   "id": "8729dbda",
   "metadata": {
    "execution": {
     "iopub.execute_input": "2022-07-03T13:39:24.088600Z",
     "iopub.status.busy": "2022-07-03T13:39:24.087551Z",
     "iopub.status.idle": "2022-07-03T13:39:24.560221Z",
     "shell.execute_reply": "2022-07-03T13:39:24.559039Z"
    },
    "papermill": {
     "duration": 0.50221,
     "end_time": "2022-07-03T13:39:24.562672",
     "exception": false,
     "start_time": "2022-07-03T13:39:24.060462",
     "status": "completed"
    },
    "tags": []
   },
   "outputs": [
    {
     "data": {
      "image/png": "[encoded data removed]",
      "text/plain": [
       "<Figure size 576x648 with 3 Axes>"
      ]
     },
     "metadata": {
      "needs_background": "light"
     },
     "output_type": "display_data"
    }
   ],
   "source": [
    "fis.plotmfs()"
   ]
  },
  {
   "cell_type": "code",
   "execution_count": 20,
   "id": "423cce0f",
   "metadata": {
    "execution": {
     "iopub.execute_input": "2022-07-03T13:39:24.614501Z",
     "iopub.status.busy": "2022-07-03T13:39:24.613750Z",
     "iopub.status.idle": "2022-07-03T13:39:24.828574Z",
     "shell.execute_reply": "2022-07-03T13:39:24.827139Z"
    },
    "papermill": {
     "duration": 0.243487,
     "end_time": "2022-07-03T13:39:24.831092",
     "exception": false,
     "start_time": "2022-07-03T13:39:24.587605",
     "status": "completed"
    },
    "tags": []
   },
   "outputs": [
    {
     "data": {
      "image/png": "[encoded data removed]",
      "text/plain": [
       "<Figure size 864x360 with 1 Axes>"
      ]
     },
     "metadata": {
      "needs_background": "light"
     },
     "output_type": "display_data"
    }
   ],
   "source": [
    "#Plot the loss history\n",
    "plt.figure(figsize=(12, 5))\n",
    "plt.plot(history.history['loss'], color='r')\n",
    "plt.plot(history.history['val_loss'], color='b')\n",
    "plt.title('Model Loss')\n",
    "plt.ylabel('Loss')\n",
    "plt.xlabel('Epochs')\n",
    "plt.legend(['train', 'val'])\n",
    "plt.show()"
   ]
  },
  {
   "cell_type": "code",
   "execution_count": 21,
   "id": "5f88ba64",
   "metadata": {
    "execution": {
     "iopub.execute_input": "2022-07-03T13:39:24.883950Z",
     "iopub.status.busy": "2022-07-03T13:39:24.883500Z",
     "iopub.status.idle": "2022-07-03T13:39:25.090597Z",
     "shell.execute_reply": "2022-07-03T13:39:25.089799Z"
    },
    "papermill": {
     "duration": 0.236344,
     "end_time": "2022-07-03T13:39:25.092858",
     "exception": false,
     "start_time": "2022-07-03T13:39:24.856514",
     "status": "completed"
    },
    "tags": []
   },
   "outputs": [
    {
     "data": {
      "image/png": "[encoded data removed]",
      "text/plain": [
       "<Figure size 864x360 with 1 Axes>"
      ]
     },
     "metadata": {
      "needs_background": "light"
     },
     "output_type": "display_data"
    }
   ],
   "source": [
    "#Plot the training history\n",
    "plt.figure(figsize=(12, 5))\n",
    "plt.plot(history.history['mae'], color='r')\n",
    "plt.plot(history.history['val_mae'], color='b')\n",
    "plt.title('Model Accuracy')\n",
    "plt.ylabel('Accuracy')\n",
    "plt.xlabel('Epochs')\n",
    "plt.legend(['mae', 'val_mae'])\n",
    "plt.show()"
   ]
  },
  {
   "cell_type": "code",
   "execution_count": 22,
   "id": "ca2f037e",
   "metadata": {
    "execution": {
     "iopub.execute_input": "2022-07-03T13:39:25.146378Z",
     "iopub.status.busy": "2022-07-03T13:39:25.145694Z",
     "iopub.status.idle": "2022-07-03T13:39:25.360856Z",
     "shell.execute_reply": "2022-07-03T13:39:25.359755Z"
    },
    "papermill": {
     "duration": 0.244506,
     "end_time": "2022-07-03T13:39:25.363066",
     "exception": false,
     "start_time": "2022-07-03T13:39:25.118560",
     "status": "completed"
    },
    "tags": []
   },
   "outputs": [
    {
     "data": {
      "image/png": "[encoded data removed]",
      "text/plain": [
       "<Figure size 864x360 with 1 Axes>"
      ]
     },
     "metadata": {
      "needs_background": "light"
     },
     "output_type": "display_data"
    }
   ],
   "source": [
    "plt.figure(figsize=(12, 5))\n",
    "plt.plot(history.history['mse'], color='r')\n",
    "plt.plot(history.history['val_mse'], color='b')\n",
    "plt.title('Model Accuracy')\n",
    "plt.ylabel('Accuracy')\n",
    "plt.xlabel('Epochs')\n",
    "plt.legend(['mse', 'val_mse'])\n",
    "plt.show()"
   ]
  },
  {
   "cell_type": "code",
   "execution_count": 23,
   "id": "81aac89a",
   "metadata": {
    "execution": {
     "iopub.execute_input": "2022-07-03T13:39:25.417617Z",
     "iopub.status.busy": "2022-07-03T13:39:25.417216Z",
     "iopub.status.idle": "2022-07-03T13:39:25.424432Z",
     "shell.execute_reply": "2022-07-03T13:39:25.423060Z"
    },
    "papermill": {
     "duration": 0.038697,
     "end_time": "2022-07-03T13:39:25.427955",
     "exception": false,
     "start_time": "2022-07-03T13:39:25.389258",
     "status": "completed"
    },
    "tags": []
   },
   "outputs": [
    {
     "name": "stdout",
     "output_type": "stream",
     "text": [
      "Model: \"myanfis\"\n",
      "__________________________________________________________________________________________________\n",
      "Layer (type)                    Output Shape         Param #     Connected to                     \n",
      "==================================================================================================\n",
      "inputLayer (InputLayer)         [(1, 3)]             0                                            \n",
      "__________________________________________________________________________________________________\n",
      "fuzzyLayer (FuzzyLayer)         (1, 3, 3)            18          inputLayer[0][0]                 \n",
      "__________________________________________________________________________________________________\n",
      "ruleLayer (RuleLayer)           (1, 27)              0           fuzzyLayer[0][0]                 \n",
      "__________________________________________________________________________________________________\n",
      "normLayer (NormLayer)           (1, 27)              0           ruleLayer[0][0]                  \n",
      "__________________________________________________________________________________________________\n",
      "defuzzLayer (DefuzzLayer)       (1, 27)              108         normLayer[0][0]                  \n",
      "                                                                 inputLayer[0][0]                 \n",
      "__________________________________________________________________________________________________\n",
      "sumLayer (SummationLayer)       (1, 1)               0           defuzzLayer[0][0]                \n",
      "==================================================================================================\n",
      "Total params: 126\n",
      "Trainable params: 126\n",
      "Non-trainable params: 0\n",
      "__________________________________________________________________________________________________\n"
     ]
    }
   ],
   "source": [
    "a=fis.model.summary()\n"
   ]
  },
  {
   "cell_type": "code",
   "execution_count": 24,
   "id": "bc40e020",
   "metadata": {
    "execution": {
     "iopub.execute_input": "2022-07-03T13:39:25.482238Z",
     "iopub.status.busy": "2022-07-03T13:39:25.481846Z",
     "iopub.status.idle": "2022-07-03T13:39:26.555509Z",
     "shell.execute_reply": "2022-07-03T13:39:26.554149Z"
    },
    "papermill": {
     "duration": 1.103634,
     "end_time": "2022-07-03T13:39:26.558420",
     "exception": false,
     "start_time": "2022-07-03T13:39:25.454786",
     "status": "completed"
    },
    "tags": []
   },
   "outputs": [
    {
     "data": {
      "image/png": "[encoded data removed]",
      "text/plain": [
       "<IPython.core.display.Image object>"
      ]
     },
     "execution_count": 24,
     "metadata": {},
     "output_type": "execute_result"
    }
   ],
   "source": [
    "from keras.utils.vis_utils import plot_model\n",
    "\n",
    "\n",
    "plot_model(fis.model, to_file='multiple_outputs.png',show_shapes=True)"
   ]
  },
  {
   "cell_type": "code",
   "execution_count": 25,
   "id": "696bd183",
   "metadata": {
    "execution": {
     "iopub.execute_input": "2022-07-03T13:39:26.614339Z",
     "iopub.status.busy": "2022-07-03T13:39:26.613934Z",
     "iopub.status.idle": "2022-07-03T13:39:26.622213Z",
     "shell.execute_reply": "2022-07-03T13:39:26.621024Z"
    },
    "papermill": {
     "duration": 0.039935,
     "end_time": "2022-07-03T13:39:26.625805",
     "exception": false,
     "start_time": "2022-07-03T13:39:26.585870",
     "status": "completed"
    },
    "tags": []
   },
   "outputs": [
    {
     "name": "stdout",
     "output_type": "stream",
     "text": [
      "(42, 3)\n"
     ]
    },
    {
     "data": {
      "text/plain": [
       "(42,)"
      ]
     },
     "execution_count": 25,
     "metadata": {},
     "output_type": "execute_result"
    }
   ],
   "source": [
    "print(X_test.shape)\n",
    "#y_test=y_test.reshape(42,1)\n",
    "y_test.shape\n",
    "\n",
    "#pred= fis.model.predict(X_test)"
   ]
  },
  {
   "cell_type": "code",
   "execution_count": 26,
   "id": "592fa5a2",
   "metadata": {
    "execution": {
     "iopub.execute_input": "2022-07-03T13:39:26.683109Z",
     "iopub.status.busy": "2022-07-03T13:39:26.682128Z",
     "iopub.status.idle": "2022-07-03T13:39:26.908889Z",
     "shell.execute_reply": "2022-07-03T13:39:26.907743Z"
    },
    "papermill": {
     "duration": 0.257844,
     "end_time": "2022-07-03T13:39:26.911602",
     "exception": false,
     "start_time": "2022-07-03T13:39:26.653758",
     "status": "completed"
    },
    "tags": []
   },
   "outputs": [],
   "source": [
    "\n",
    "y_pred = fis(X_test)"
   ]
  },
  {
   "cell_type": "code",
   "execution_count": 27,
   "id": "36377322",
   "metadata": {
    "execution": {
     "iopub.execute_input": "2022-07-03T13:39:26.970258Z",
     "iopub.status.busy": "2022-07-03T13:39:26.969132Z",
     "iopub.status.idle": "2022-07-03T13:39:27.365349Z",
     "shell.execute_reply": "2022-07-03T13:39:27.364174Z"
    },
    "papermill": {
     "duration": 0.427325,
     "end_time": "2022-07-03T13:39:27.367905",
     "exception": false,
     "start_time": "2022-07-03T13:39:26.940580",
     "status": "completed"
    },
    "tags": []
   },
   "outputs": [
    {
     "data": {
      "image/png": "[encoded data removed]",
      "text/plain": [
       "<Figure size 576x720 with 2 Axes>"
      ]
     },
     "metadata": {
      "needs_background": "light"
     },
     "output_type": "display_data"
    }
   ],
   "source": [
    "# ## Evaluate Model\n",
    "# fis.model.evaluate(X_test, y_test)\n",
    "plot_prediction=True\n",
    "if plot_prediction:\n",
    "    y_pred = fis(X_test)\n",
    "    f, axs = plt.subplots(2, 1, figsize=(8, 10))\n",
    "    # f.suptitle(f'{gen.get_data_name(data_id)} time series', size=16)\n",
    "    axs[0].plot(y_test)\n",
    "    axs[0].plot(y_pred, alpha=.7)\n",
    "    axs[0].legend(['Real', 'Predicted'])\n",
    "    axs[0].grid(True)\n",
    "    axs[0].set_title('Real vs. Predicted values')\n",
    "    # axs[1].plot(y_test, y_test - y_pred)\n",
    "    # axs[1].legend(['pred_error'])\n",
    "    # axs[1].grid(True)\n",
    "    # axs[1].set_title('Prediction Error')\n",
    "    plt.show()"
   ]
  },
  {
   "cell_type": "code",
   "execution_count": 28,
   "id": "c97073ad",
   "metadata": {
    "execution": {
     "iopub.execute_input": "2022-07-03T13:39:27.427333Z",
     "iopub.status.busy": "2022-07-03T13:39:27.426658Z",
     "iopub.status.idle": "2022-07-03T13:39:27.435967Z",
     "shell.execute_reply": "2022-07-03T13:39:27.434636Z"
    },
    "papermill": {
     "duration": 0.041182,
     "end_time": "2022-07-03T13:39:27.438497",
     "exception": false,
     "start_time": "2022-07-03T13:39:27.397315",
     "status": "completed"
    },
    "tags": []
   },
   "outputs": [
    {
     "name": "stdout",
     "output_type": "stream",
     "text": [
      "(42, 1)\n",
      "(42,)\n"
     ]
    },
    {
     "data": {
      "text/plain": [
       "(42, 1)"
      ]
     },
     "execution_count": 28,
     "metadata": {},
     "output_type": "execute_result"
    }
   ],
   "source": [
    "y_pred\n",
    "print(y_pred.shape)\n",
    "print(y_test.shape)\n",
    "y_test=y_test.reshape(42,1)\n",
    "y_test.shape"
   ]
  },
  {
   "cell_type": "code",
   "execution_count": 29,
   "id": "8f0a7ee4",
   "metadata": {
    "execution": {
     "iopub.execute_input": "2022-07-03T13:39:27.498500Z",
     "iopub.status.busy": "2022-07-03T13:39:27.497703Z",
     "iopub.status.idle": "2022-07-03T13:39:27.503572Z",
     "shell.execute_reply": "2022-07-03T13:39:27.502514Z"
    },
    "papermill": {
     "duration": 0.038726,
     "end_time": "2022-07-03T13:39:27.506916",
     "exception": false,
     "start_time": "2022-07-03T13:39:27.468190",
     "status": "completed"
    },
    "tags": []
   },
   "outputs": [
    {
     "name": "stdout",
     "output_type": "stream",
     "text": [
      "<class 'numpy.ndarray'>\n"
     ]
    }
   ],
   "source": [
    "print(type(y_pred))"
   ]
  },
  {
   "cell_type": "code",
   "execution_count": 30,
   "id": "049f1cc6",
   "metadata": {
    "execution": {
     "iopub.execute_input": "2022-07-03T13:39:27.565927Z",
     "iopub.status.busy": "2022-07-03T13:39:27.565526Z",
     "iopub.status.idle": "2022-07-03T13:39:27.574493Z",
     "shell.execute_reply": "2022-07-03T13:39:27.573333Z"
    },
    "papermill": {
     "duration": 0.041141,
     "end_time": "2022-07-03T13:39:27.576956",
     "exception": false,
     "start_time": "2022-07-03T13:39:27.535815",
     "status": "completed"
    },
    "tags": []
   },
   "outputs": [
    {
     "data": {
      "text/plain": [
       "array([[0.18      , 0.39213854],\n",
       "       [0.27      , 0.4488838 ],\n",
       "       [0.62666667, 0.54303706],\n",
       "       [0.72      , 0.63733143],\n",
       "       [0.36      , 0.40807903],\n",
       "       [0.45      , 0.60674751],\n",
       "       [0.64      , 0.58483648],\n",
       "       [0.584     , 0.67337555],\n",
       "       [0.29      , 0.51580191],\n",
       "       [0.        , 0.28497463],\n",
       "       [0.4       , 0.48492628],\n",
       "       [0.51      , 0.67960918],\n",
       "       [0.14      , 0.22921634],\n",
       "       [0.656     , 0.59151518],\n",
       "       [0.12      , 0.26497379],\n",
       "       [0.6       , 0.56640643],\n",
       "       [0.64      , 0.64484936],\n",
       "       [0.76      , 0.70438337],\n",
       "       [0.58666667, 0.55661327],\n",
       "       [0.53333333, 0.48140502],\n",
       "       [0.56      , 0.47170153],\n",
       "       [0.52      , 0.48695087],\n",
       "       [0.6       , 0.70964509],\n",
       "       [0.56      , 0.59215248],\n",
       "       [0.56      , 0.56924754],\n",
       "       [0.33      , 0.4845486 ],\n",
       "       [0.49333333, 0.46270424],\n",
       "       [0.448     , 0.34222785],\n",
       "       [0.632     , 0.60243475],\n",
       "       [0.62      , 0.60398495],\n",
       "       [0.50666667, 0.34036165],\n",
       "       [0.544     , 0.449424  ],\n",
       "       [0.46666667, 0.24332768],\n",
       "       [0.39      , 0.62124693],\n",
       "       [0.70666667, 0.6661514 ],\n",
       "       [0.536     , 0.51226616],\n",
       "       [0.44      , 0.60948849],\n",
       "       [0.62      , 0.63104385],\n",
       "       [0.8       , 0.67865109],\n",
       "       [0.6       , 0.66809046],\n",
       "       [0.21      , 0.37721375],\n",
       "       [0.7       , 0.6710788 ]])"
      ]
     },
     "execution_count": 30,
     "metadata": {},
     "output_type": "execute_result"
    }
   ],
   "source": [
    "co=np.concatenate((y_test, y_pred),axis=1)\n",
    "co"
   ]
  },
  {
   "cell_type": "code",
   "execution_count": 31,
   "id": "f1cadffa",
   "metadata": {
    "execution": {
     "iopub.execute_input": "2022-07-03T13:39:27.635857Z",
     "iopub.status.busy": "2022-07-03T13:39:27.634646Z",
     "iopub.status.idle": "2022-07-03T13:39:27.642589Z",
     "shell.execute_reply": "2022-07-03T13:39:27.641721Z"
    },
    "papermill": {
     "duration": 0.039763,
     "end_time": "2022-07-03T13:39:27.644925",
     "exception": false,
     "start_time": "2022-07-03T13:39:27.605162",
     "status": "completed"
    },
    "tags": []
   },
   "outputs": [],
   "source": [
    "column_values= ['Real', 'Prediction']\n",
    "df = pd.DataFrame(data = co,columns = column_values)\n",
    "df.reset_index(inplace = True)"
   ]
  },
  {
   "cell_type": "code",
   "execution_count": 32,
   "id": "c0ba0daa",
   "metadata": {
    "execution": {
     "iopub.execute_input": "2022-07-03T13:39:27.705366Z",
     "iopub.status.busy": "2022-07-03T13:39:27.704368Z",
     "iopub.status.idle": "2022-07-03T13:39:28.283249Z",
     "shell.execute_reply": "2022-07-03T13:39:28.282154Z"
    },
    "papermill": {
     "duration": 0.611445,
     "end_time": "2022-07-03T13:39:28.285683",
     "exception": false,
     "start_time": "2022-07-03T13:39:27.674238",
     "status": "completed"
    },
    "tags": []
   },
   "outputs": [
    {
     "name": "stdout",
     "output_type": "stream",
     "text": [
      "r2 Score : 0.5477586074089915\n",
      "MSE Score : 0.014672400442472857\n",
      "MAE Score : 0.09765380668072474\n"
     ]
    },
    {
     "data": {
      "image/png": "[encoded data removed]",
      "text/plain": [
       "<Figure size 432x288 with 1 Axes>"
      ]
     },
     "metadata": {},
     "output_type": "display_data"
    }
   ],
   "source": [
    "import seaborn as sns\n",
    "\n",
    "from sklearn.metrics import r2_score,mean_squared_error,mean_absolute_error\n",
    "print(\"r2 Score :\",r2_score(y_test, y_pred))\n",
    "print(\"MSE Score :\",mean_squared_error(y_test, y_pred))\n",
    "print(\"MAE Score :\",mean_absolute_error(y_test, y_pred))\n",
    "\n",
    "sns.set_theme(color_codes=True)\n",
    "ax = sns.regplot(x=\"Real\", y=\"Prediction\", data=df)"
   ]
  },
  {
   "cell_type": "code",
   "execution_count": null,
   "id": "d7416b67",
   "metadata": {
    "papermill": {
     "duration": 0.029013,
     "end_time": "2022-07-03T13:39:28.344173",
     "exception": false,
     "start_time": "2022-07-03T13:39:28.315160",
     "status": "completed"
    },
    "tags": []
   },
   "outputs": [],
   "source": []
  }
 ],
 "metadata": {
  "kernelspec": {
   "display_name": "Python 3",
   "language": "python",
   "name": "python3"
  },
  "language_info": {
   "codemirror_mode": {
    "name": "ipython",
    "version": 3
   },
   "file_extension": ".py",
   "mimetype": "text/x-python",
   "name": "python",
   "nbconvert_exporter": "python",
   "pygments_lexer": "ipython3",
   "version": "3.7.12"
  },
  "papermill": {
   "default_parameters": {},
   "duration": 55.624835,
   "end_time": "2022-07-03T13:39:31.748110",
   "environment_variables": {},
   "exception": null,
   "input_path": "__notebook__.ipynb",
   "output_path": "__notebook__.ipynb",
   "parameters": {},
   "start_time": "2022-07-03T13:38:36.123275",
   "version": "2.3.4"
  }
 },
 "nbformat": 4,
 "nbformat_minor": 5
}
